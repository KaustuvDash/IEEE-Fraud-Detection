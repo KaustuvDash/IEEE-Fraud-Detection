{
 "cells": [
  {
   "cell_type": "code",
   "execution_count": 1,
   "metadata": {
    "collapsed": true
   },
   "outputs": [],
   "source": [
    "import pandas as pd\n",
    "import numpy as np\n",
    "import math\n",
    "from sklearn.model_selection import train_test_split\n",
    "from sklearn.preprocessing import LabelEncoder\n",
    "from sklearn.preprocessing import OneHotEncoder\n",
    "import seaborn as sns\n",
    "import matplotlib.pyplot as plt\n",
    "%matplotlib inline\n",
    "import scipy.sparse\n",
    "import gc\n",
    "from sklearn.linear_model import LogisticRegression\n",
    "from sklearn.tree import DecisionTreeClassifier\n",
    "from sklearn.calibration import CalibratedClassifierCV\n",
    "from sklearn.ensemble import RandomForestClassifier\n",
    "from xgboost import XGBClassifier\n",
    "from sklearn.decomposition import PCA\n",
    "from sklearn.preprocessing import StandardScaler\n",
    "from sklearn.manifold import TSNE\n",
    "from sklearn.metrics import roc_auc_score\n",
    "import warnings \n",
    "from lightgbm import LGBMClassifier\n",
    "warnings.filterwarnings('ignore')"
   ]
  },
  {
   "cell_type": "code",
   "execution_count": 2,
   "metadata": {
    "collapsed": true
   },
   "outputs": [],
   "source": [
    "train = pd.read_csv('ModifiedTrain.csv')\n",
    "test = pd.read_csv('ModifiedTest.csv')"
   ]
  },
  {
   "cell_type": "code",
   "execution_count": 4,
   "metadata": {},
   "outputs": [
    {
     "data": {
      "text/html": [
       "<div>\n",
       "<style scoped>\n",
       "    .dataframe tbody tr th:only-of-type {\n",
       "        vertical-align: middle;\n",
       "    }\n",
       "\n",
       "    .dataframe tbody tr th {\n",
       "        vertical-align: top;\n",
       "    }\n",
       "\n",
       "    .dataframe thead th {\n",
       "        text-align: right;\n",
       "    }\n",
       "</style>\n",
       "<table border=\"1\" class=\"dataframe\">\n",
       "  <thead>\n",
       "    <tr style=\"text-align: right;\">\n",
       "      <th></th>\n",
       "      <th>Unnamed: 0</th>\n",
       "      <th>isFraud</th>\n",
       "      <th>TransactionDT</th>\n",
       "      <th>TransactionAmt</th>\n",
       "      <th>ProductCD</th>\n",
       "      <th>card1</th>\n",
       "      <th>card2</th>\n",
       "      <th>card3</th>\n",
       "      <th>card4</th>\n",
       "      <th>card5</th>\n",
       "      <th>...</th>\n",
       "      <th>id_02_to_mean_card1</th>\n",
       "      <th>id_02_to_mean_card4</th>\n",
       "      <th>id_02_to_std_card1</th>\n",
       "      <th>id_02_to_std_card4</th>\n",
       "      <th>D15_to_mean_card1</th>\n",
       "      <th>D15_to_mean_card4</th>\n",
       "      <th>D15_to_std_card1</th>\n",
       "      <th>D15_to_std_card4</th>\n",
       "      <th>D15_to_mean_addr1</th>\n",
       "      <th>D15_to_std_addr1</th>\n",
       "    </tr>\n",
       "  </thead>\n",
       "  <tbody>\n",
       "    <tr>\n",
       "      <td>0</td>\n",
       "      <td>0</td>\n",
       "      <td>0</td>\n",
       "      <td>86400</td>\n",
       "      <td>68.5</td>\n",
       "      <td>4</td>\n",
       "      <td>13926</td>\n",
       "      <td>362.55467</td>\n",
       "      <td>150.0</td>\n",
       "      <td>1</td>\n",
       "      <td>142.0</td>\n",
       "      <td>...</td>\n",
       "      <td>0.422530</td>\n",
       "      <td>0.413902</td>\n",
       "      <td>0.673947</td>\n",
       "      <td>0.461592</td>\n",
       "      <td>0.000000</td>\n",
       "      <td>0.000000</td>\n",
       "      <td>0.000000</td>\n",
       "      <td>0.000000</td>\n",
       "      <td>0.000000</td>\n",
       "      <td>0.000000</td>\n",
       "    </tr>\n",
       "    <tr>\n",
       "      <td>1</td>\n",
       "      <td>1</td>\n",
       "      <td>0</td>\n",
       "      <td>86401</td>\n",
       "      <td>29.0</td>\n",
       "      <td>4</td>\n",
       "      <td>2755</td>\n",
       "      <td>404.00000</td>\n",
       "      <td>150.0</td>\n",
       "      <td>2</td>\n",
       "      <td>102.0</td>\n",
       "      <td>...</td>\n",
       "      <td>0.573879</td>\n",
       "      <td>0.570437</td>\n",
       "      <td>0.591021</td>\n",
       "      <td>0.622173</td>\n",
       "      <td>0.000000</td>\n",
       "      <td>0.000000</td>\n",
       "      <td>0.000000</td>\n",
       "      <td>0.000000</td>\n",
       "      <td>0.000000</td>\n",
       "      <td>0.000000</td>\n",
       "    </tr>\n",
       "    <tr>\n",
       "      <td>2</td>\n",
       "      <td>2</td>\n",
       "      <td>0</td>\n",
       "      <td>86469</td>\n",
       "      <td>59.0</td>\n",
       "      <td>4</td>\n",
       "      <td>4663</td>\n",
       "      <td>490.00000</td>\n",
       "      <td>150.0</td>\n",
       "      <td>3</td>\n",
       "      <td>166.0</td>\n",
       "      <td>...</td>\n",
       "      <td>1.057784</td>\n",
       "      <td>1.095840</td>\n",
       "      <td>1.186661</td>\n",
       "      <td>1.200134</td>\n",
       "      <td>2.518583</td>\n",
       "      <td>1.865833</td>\n",
       "      <td>1.851016</td>\n",
       "      <td>1.541441</td>\n",
       "      <td>1.611525</td>\n",
       "      <td>1.486472</td>\n",
       "    </tr>\n",
       "    <tr>\n",
       "      <td>3</td>\n",
       "      <td>3</td>\n",
       "      <td>0</td>\n",
       "      <td>86499</td>\n",
       "      <td>50.0</td>\n",
       "      <td>4</td>\n",
       "      <td>18132</td>\n",
       "      <td>567.00000</td>\n",
       "      <td>150.0</td>\n",
       "      <td>2</td>\n",
       "      <td>117.0</td>\n",
       "      <td>...</td>\n",
       "      <td>1.304678</td>\n",
       "      <td>1.278904</td>\n",
       "      <td>1.360737</td>\n",
       "      <td>1.394895</td>\n",
       "      <td>0.550272</td>\n",
       "      <td>0.720027</td>\n",
       "      <td>0.520531</td>\n",
       "      <td>0.558391</td>\n",
       "      <td>0.686169</td>\n",
       "      <td>0.576638</td>\n",
       "    </tr>\n",
       "    <tr>\n",
       "      <td>4</td>\n",
       "      <td>4</td>\n",
       "      <td>0</td>\n",
       "      <td>86506</td>\n",
       "      <td>50.0</td>\n",
       "      <td>1</td>\n",
       "      <td>4497</td>\n",
       "      <td>514.00000</td>\n",
       "      <td>150.0</td>\n",
       "      <td>2</td>\n",
       "      <td>102.0</td>\n",
       "      <td>...</td>\n",
       "      <td>0.094114</td>\n",
       "      <td>0.043008</td>\n",
       "      <td>0.073463</td>\n",
       "      <td>0.046909</td>\n",
       "      <td>1.000000</td>\n",
       "      <td>1.000000</td>\n",
       "      <td>1.052259</td>\n",
       "      <td>0.808191</td>\n",
       "      <td>1.000000</td>\n",
       "      <td>0.885451</td>\n",
       "    </tr>\n",
       "  </tbody>\n",
       "</table>\n",
       "<p>5 rows × 432 columns</p>\n",
       "</div>"
      ],
      "text/plain": [
       "   Unnamed: 0  isFraud  TransactionDT  TransactionAmt  ProductCD  card1  \\\n",
       "0           0        0          86400            68.5          4  13926   \n",
       "1           1        0          86401            29.0          4   2755   \n",
       "2           2        0          86469            59.0          4   4663   \n",
       "3           3        0          86499            50.0          4  18132   \n",
       "4           4        0          86506            50.0          1   4497   \n",
       "\n",
       "       card2  card3  card4  card5  ...  id_02_to_mean_card1  \\\n",
       "0  362.55467  150.0      1  142.0  ...             0.422530   \n",
       "1  404.00000  150.0      2  102.0  ...             0.573879   \n",
       "2  490.00000  150.0      3  166.0  ...             1.057784   \n",
       "3  567.00000  150.0      2  117.0  ...             1.304678   \n",
       "4  514.00000  150.0      2  102.0  ...             0.094114   \n",
       "\n",
       "   id_02_to_mean_card4  id_02_to_std_card1  id_02_to_std_card4  \\\n",
       "0             0.413902            0.673947            0.461592   \n",
       "1             0.570437            0.591021            0.622173   \n",
       "2             1.095840            1.186661            1.200134   \n",
       "3             1.278904            1.360737            1.394895   \n",
       "4             0.043008            0.073463            0.046909   \n",
       "\n",
       "   D15_to_mean_card1  D15_to_mean_card4  D15_to_std_card1  D15_to_std_card4  \\\n",
       "0           0.000000           0.000000          0.000000          0.000000   \n",
       "1           0.000000           0.000000          0.000000          0.000000   \n",
       "2           2.518583           1.865833          1.851016          1.541441   \n",
       "3           0.550272           0.720027          0.520531          0.558391   \n",
       "4           1.000000           1.000000          1.052259          0.808191   \n",
       "\n",
       "   D15_to_mean_addr1  D15_to_std_addr1  \n",
       "0           0.000000          0.000000  \n",
       "1           0.000000          0.000000  \n",
       "2           1.611525          1.486472  \n",
       "3           0.686169          0.576638  \n",
       "4           1.000000          0.885451  \n",
       "\n",
       "[5 rows x 432 columns]"
      ]
     },
     "execution_count": 4,
     "metadata": {},
     "output_type": "execute_result"
    }
   ],
   "source": [
    "train.head()"
   ]
  },
  {
   "cell_type": "code",
   "execution_count": null,
   "metadata": {
    "collapsed": true
   },
   "outputs": [],
   "source": [
    "#From the part2 we conclude that we will remove all the id feaures of identity data\n",
    "train.drop(['P_emaildomain','R_emaildomain','id_01','id_02','id_03','id_04','id_05','id_06'\n",
    "           ,'id_07','id_08','id_09','id_10','id_11','id_12','id_13','id_14','id_15','id_16'\n",
    "           ,'id_17','id_18','id_19','id_20','id_21','id_22','id_23','id_24','id_25','id_26'\n",
    "           ,'id_27','id_28','id_29','id_30','id_31','id_32','id_33','id_34','id_35','id_36','id_37',\n",
    "           'id_38','DeviceInfo','Unnamed: 0'],axis=1,inplace=True)"
   ]
  },
  {
   "cell_type": "code",
   "execution_count": null,
   "metadata": {
    "collapsed": true
   },
   "outputs": [],
   "source": [
    "test.drop(['P_emaildomain','R_emaildomain','id_01','id_02','id_03','id_04','id_05','id_06'\n",
    "           ,'id_07','id_08','id_09','id_10','id_11','id_12','id_13','id_14','id_15','id_16'\n",
    "           ,'id_17','id_18','id_19','id_20','id_21','id_22','id_23','id_24','id_25','id_26'\n",
    "           ,'id_27','id_28','id_29','id_30','id_31','id_32','id_33','id_34','id_35','id_36','id_37',\n",
    "           'id_38','DeviceInfo','Unnamed: 0'],axis=1,inplace=True)"
   ]
  },
  {
   "cell_type": "code",
   "execution_count": 20,
   "metadata": {},
   "outputs": [
    {
     "data": {
      "text/plain": [
       "136"
      ]
     },
     "execution_count": 20,
     "metadata": {},
     "output_type": "execute_result"
    }
   ],
   "source": [
    "test.shape[1]"
   ]
  },
  {
   "cell_type": "code",
   "execution_count": 18,
   "metadata": {},
   "outputs": [
    {
     "name": "stdout",
     "output_type": "stream",
     "text": [
      "Unnamed: 0 NaN values present is: 0 type is : int64 % of NaN values: 0.0\n",
      "TransactionAmt NaN values present is: 0 type is : float64 % of NaN values: 0.0\n",
      "ProductCD NaN values present is: 0 type is : int64 % of NaN values: 0.0\n",
      "card1 NaN values present is: 0 type is : int64 % of NaN values: 0.0\n",
      "card2 NaN values present is: 0 type is : float64 % of NaN values: 0.0\n",
      "card3 NaN values present is: 0 type is : float64 % of NaN values: 0.0\n",
      "card4 NaN values present is: 0 type is : int64 % of NaN values: 0.0\n",
      "card5 NaN values present is: 0 type is : float64 % of NaN values: 0.0\n",
      "card6 NaN values present is: 0 type is : int64 % of NaN values: 0.0\n",
      "addr1 NaN values present is: 0 type is : float64 % of NaN values: 0.0\n",
      "addr2 NaN values present is: 0 type is : float64 % of NaN values: 0.0\n",
      "dist1 NaN values present is: 0 type is : float64 % of NaN values: 0.0\n",
      "dist2 NaN values present is: 0 type is : float64 % of NaN values: 0.0\n",
      "C1 NaN values present is: 0 type is : float64 % of NaN values: 0.0\n",
      "C2 NaN values present is: 0 type is : float64 % of NaN values: 0.0\n",
      "C3 NaN values present is: 0 type is : float64 % of NaN values: 0.0\n",
      "C4 NaN values present is: 0 type is : float64 % of NaN values: 0.0\n",
      "C5 NaN values present is: 0 type is : float64 % of NaN values: 0.0\n",
      "C6 NaN values present is: 0 type is : float64 % of NaN values: 0.0\n",
      "C7 NaN values present is: 0 type is : float64 % of NaN values: 0.0\n",
      "C8 NaN values present is: 0 type is : float64 % of NaN values: 0.0\n",
      "C9 NaN values present is: 0 type is : float64 % of NaN values: 0.0\n",
      "C10 NaN values present is: 0 type is : float64 % of NaN values: 0.0\n",
      "C11 NaN values present is: 0 type is : float64 % of NaN values: 0.0\n",
      "C12 NaN values present is: 0 type is : float64 % of NaN values: 0.0\n",
      "C13 NaN values present is: 0 type is : float64 % of NaN values: 0.0\n",
      "C14 NaN values present is: 0 type is : float64 % of NaN values: 0.0\n",
      "D1 NaN values present is: 0 type is : float64 % of NaN values: 0.0\n",
      "D2 NaN values present is: 0 type is : float64 % of NaN values: 0.0\n",
      "D3 NaN values present is: 0 type is : float64 % of NaN values: 0.0\n",
      "D4 NaN values present is: 0 type is : float64 % of NaN values: 0.0\n",
      "D5 NaN values present is: 0 type is : float64 % of NaN values: 0.0\n",
      "D6 NaN values present is: 0 type is : float64 % of NaN values: 0.0\n",
      "D7 NaN values present is: 0 type is : float64 % of NaN values: 0.0\n",
      "D8 NaN values present is: 0 type is : float64 % of NaN values: 0.0\n",
      "D9 NaN values present is: 0 type is : float64 % of NaN values: 0.0\n",
      "D10 NaN values present is: 0 type is : float64 % of NaN values: 0.0\n",
      "D11 NaN values present is: 0 type is : float64 % of NaN values: 0.0\n",
      "D12 NaN values present is: 0 type is : float64 % of NaN values: 0.0\n",
      "D13 NaN values present is: 0 type is : float64 % of NaN values: 0.0\n",
      "D14 NaN values present is: 0 type is : float64 % of NaN values: 0.0\n",
      "D15 NaN values present is: 0 type is : float64 % of NaN values: 0.0\n",
      "M1 NaN values present is: 0 type is : int64 % of NaN values: 0.0\n",
      "M2 NaN values present is: 0 type is : int64 % of NaN values: 0.0\n",
      "M3 NaN values present is: 0 type is : int64 % of NaN values: 0.0\n",
      "M4 NaN values present is: 0 type is : int64 % of NaN values: 0.0\n",
      "M5 NaN values present is: 0 type is : int64 % of NaN values: 0.0\n",
      "M6 NaN values present is: 0 type is : int64 % of NaN values: 0.0\n",
      "M7 NaN values present is: 0 type is : int64 % of NaN values: 0.0\n",
      "M8 NaN values present is: 0 type is : int64 % of NaN values: 0.0\n",
      "M9 NaN values present is: 0 type is : int64 % of NaN values: 0.0\n",
      "DeviceType NaN values present is: 0 type is : int64 % of NaN values: 0.0\n",
      "day NaN values present is: 0 type is : float64 % of NaN values: 0.0\n",
      "hour NaN values present is: 0 type is : int64 % of NaN values: 0.0\n",
      "alertFeature NaN values present is: 0 type is : int64 % of NaN values: 0.0\n",
      "LogTransactionAmt NaN values present is: 0 type is : float64 % of NaN values: 0.0\n",
      "card3Values NaN values present is: 0 type is : int64 % of NaN values: 0.0\n",
      "P_emaildomain_bin NaN values present is: 0 type is : int64 % of NaN values: 0.0\n",
      "P_emaildomain_suffix NaN values present is: 0 type is : int64 % of NaN values: 0.0\n",
      "R_emaildomain_bin NaN values present is: 0 type is : int64 % of NaN values: 0.0\n",
      "R_emaildomain_suffix NaN values present is: 0 type is : int64 % of NaN values: 0.0\n",
      "DeviceCorp NaN values present is: 0 type is : int64 % of NaN values: 0.0\n",
      "browser_id_31 NaN values present is: 0 type is : int64 % of NaN values: 0.0\n",
      "version_id_31 NaN values present is: 0 type is : int64 % of NaN values: 0.0\n",
      "OS_id_30 NaN values present is: 0 type is : int64 % of NaN values: 0.0\n",
      "version_id_30 NaN values present is: 0 type is : int64 % of NaN values: 0.0\n",
      "screen_width NaN values present is: 0 type is : float64 % of NaN values: 0.0\n",
      "screen_height NaN values present is: 0 type is : float64 % of NaN values: 0.0\n",
      "TransDecimalCount NaN values present is: 0 type is : int64 % of NaN values: 0.0\n",
      "card1_count_full NaN values present is: 0 type is : int64 % of NaN values: 0.0\n",
      "card2_count_full NaN values present is: 0 type is : int64 % of NaN values: 0.0\n",
      "card3_count_full NaN values present is: 0 type is : int64 % of NaN values: 0.0\n",
      "card4_count_full NaN values present is: 0 type is : int64 % of NaN values: 0.0\n",
      "card5_count_full NaN values present is: 0 type is : int64 % of NaN values: 0.0\n",
      "card6_count_full NaN values present is: 0 type is : int64 % of NaN values: 0.0\n",
      "addr1_count_full NaN values present is: 0 type is : int64 % of NaN values: 0.0\n",
      "addr2_count_full NaN values present is: 0 type is : int64 % of NaN values: 0.0\n",
      "TransactionAmt_to_mean_card1 NaN values present is: 0 type is : float64 % of NaN values: 0.0\n",
      "TransactionAmt_to_mean_card4 NaN values present is: 0 type is : float64 % of NaN values: 0.0\n",
      "TransactionAmt_to_std_card1 NaN values present is: 0 type is : float64 % of NaN values: 0.0\n",
      "TransactionAmt_to_std_card4 NaN values present is: 0 type is : float64 % of NaN values: 0.0\n",
      "id_02_to_mean_card1 NaN values present is: 0 type is : float64 % of NaN values: 0.0\n",
      "id_02_to_mean_card4 NaN values present is: 0 type is : float64 % of NaN values: 0.0\n",
      "id_02_to_std_card1 NaN values present is: 0 type is : float64 % of NaN values: 0.0\n",
      "id_02_to_std_card4 NaN values present is: 0 type is : float64 % of NaN values: 0.0\n",
      "D15_to_mean_card1 NaN values present is: 0 type is : float64 % of NaN values: 0.0\n",
      "D15_to_mean_card4 NaN values present is: 0 type is : float64 % of NaN values: 0.0\n",
      "D15_to_std_card1 NaN values present is: 0 type is : float64 % of NaN values: 0.0\n",
      "D15_to_std_card4 NaN values present is: 0 type is : float64 % of NaN values: 0.0\n",
      "D15_to_mean_addr1 NaN values present is: 0 type is : float64 % of NaN values: 0.0\n",
      "D15_to_std_addr1 NaN values present is: 0 type is : float64 % of NaN values: 0.0\n",
      "card1_addr1 NaN values present is: 0 type is : int32 % of NaN values: 0.0\n",
      "uid NaN values present is: 0 type is : object % of NaN values: 0.0\n",
      "uid_FE NaN values present is: 0 type is : float32 % of NaN values: 0.0\n",
      "TransactionAmt_uid_mean NaN values present is: 0 type is : float32 % of NaN values: 0.0\n",
      "TransactionAmt_uid_std NaN values present is: 0 type is : float32 % of NaN values: 0.0\n",
      "D4_uid_mean NaN values present is: 0 type is : float32 % of NaN values: 0.0\n",
      "D4_uid_std NaN values present is: 0 type is : float32 % of NaN values: 0.0\n",
      "D9_uid_mean NaN values present is: 0 type is : float32 % of NaN values: 0.0\n",
      "D9_uid_std NaN values present is: 0 type is : float32 % of NaN values: 0.0\n",
      "D10_uid_mean NaN values present is: 0 type is : float32 % of NaN values: 0.0\n",
      "D10_uid_std NaN values present is: 0 type is : float32 % of NaN values: 0.0\n",
      "D15_uid_mean NaN values present is: 0 type is : float32 % of NaN values: 0.0\n",
      "D15_uid_std NaN values present is: 0 type is : float32 % of NaN values: 0.0\n",
      "C1_uid_mean NaN values present is: 0 type is : float32 % of NaN values: 0.0\n",
      "C2_uid_mean NaN values present is: 0 type is : float32 % of NaN values: 0.0\n",
      "C4_uid_mean NaN values present is: 0 type is : float32 % of NaN values: 0.0\n",
      "C5_uid_mean NaN values present is: 0 type is : float32 % of NaN values: 0.0\n",
      "C6_uid_mean NaN values present is: 0 type is : float32 % of NaN values: 0.0\n",
      "C7_uid_mean NaN values present is: 0 type is : float32 % of NaN values: 0.0\n",
      "C8_uid_mean NaN values present is: 0 type is : float32 % of NaN values: 0.0\n",
      "C9_uid_mean NaN values present is: 0 type is : float32 % of NaN values: 0.0\n",
      "C10_uid_mean NaN values present is: 0 type is : float32 % of NaN values: 0.0\n",
      "C11_uid_mean NaN values present is: 0 type is : float32 % of NaN values: 0.0\n",
      "C12_uid_mean NaN values present is: 0 type is : float32 % of NaN values: 0.0\n",
      "C13_uid_mean NaN values present is: 0 type is : float32 % of NaN values: 0.0\n",
      "C14_uid_mean NaN values present is: 0 type is : float32 % of NaN values: 0.0\n",
      "M1_uid_mean NaN values present is: 0 type is : float32 % of NaN values: 0.0\n",
      "M2_uid_mean NaN values present is: 0 type is : float32 % of NaN values: 0.0\n",
      "M3_uid_mean NaN values present is: 0 type is : float32 % of NaN values: 0.0\n",
      "M4_uid_mean NaN values present is: 0 type is : float32 % of NaN values: 0.0\n",
      "M5_uid_mean NaN values present is: 0 type is : float32 % of NaN values: 0.0\n",
      "M6_uid_mean NaN values present is: 0 type is : float32 % of NaN values: 0.0\n",
      "M7_uid_mean NaN values present is: 0 type is : float32 % of NaN values: 0.0\n",
      "M8_uid_mean NaN values present is: 0 type is : float32 % of NaN values: 0.0\n",
      "M9_uid_mean NaN values present is: 0 type is : float32 % of NaN values: 0.0\n",
      "uid_dist1_ct NaN values present is: 0 type is : float32 % of NaN values: 0.0\n",
      "C14_uid_std NaN values present is: 0 type is : float32 % of NaN values: 0.0\n",
      "uid_C13_ct NaN values present is: 0 type is : float32 % of NaN values: 0.0\n",
      "uid_V314_ct NaN values present is: 0 type is : float32 % of NaN values: 0.0\n"
     ]
    },
    {
     "name": "stdout",
     "output_type": "stream",
     "text": [
      "uid_V127_ct NaN values present is: 0 type is : float32 % of NaN values: 0.0\n",
      "uid_V136_ct NaN values present is: 0 type is : float32 % of NaN values: 0.0\n",
      "uid_V309_ct NaN values present is: 0 type is : float32 % of NaN values: 0.0\n",
      "uid_V307_ct NaN values present is: 0 type is : float32 % of NaN values: 0.0\n",
      "uid_V320_ct NaN values present is: 0 type is : float32 % of NaN values: 0.0\n",
      "outsider15 NaN values present is: 0 type is : int8 % of NaN values: 0.0\n"
     ]
    }
   ],
   "source": [
    "for i in test.columns:\n",
    "    print(i,'NaN values present is:',test[i].isnull().sum(),end=\" \")\n",
    "    print('type is :',test[i].dtypes,end=\" \")\n",
    "    print('% of NaN values:',np.round(test[i].isnull().sum()/test.shape[0]*100,2))"
   ]
  },
  {
   "cell_type": "code",
   "execution_count": 17,
   "metadata": {},
   "outputs": [
    {
     "name": "stdout",
     "output_type": "stream",
     "text": [
      "Unnamed: 0 NaN values present is: 0 type is : int64 % of NaN values: 0.0\n",
      "isFraud NaN values present is: 0 type is : int64 % of NaN values: 0.0\n",
      "TransactionAmt NaN values present is: 0 type is : float64 % of NaN values: 0.0\n",
      "ProductCD NaN values present is: 0 type is : int64 % of NaN values: 0.0\n",
      "card1 NaN values present is: 0 type is : int64 % of NaN values: 0.0\n",
      "card2 NaN values present is: 0 type is : float64 % of NaN values: 0.0\n",
      "card3 NaN values present is: 0 type is : float64 % of NaN values: 0.0\n",
      "card4 NaN values present is: 0 type is : int64 % of NaN values: 0.0\n",
      "card5 NaN values present is: 0 type is : float64 % of NaN values: 0.0\n",
      "card6 NaN values present is: 0 type is : int64 % of NaN values: 0.0\n",
      "addr1 NaN values present is: 0 type is : float64 % of NaN values: 0.0\n",
      "addr2 NaN values present is: 0 type is : float64 % of NaN values: 0.0\n",
      "dist1 NaN values present is: 0 type is : float64 % of NaN values: 0.0\n",
      "dist2 NaN values present is: 0 type is : float64 % of NaN values: 0.0\n",
      "C1 NaN values present is: 0 type is : float64 % of NaN values: 0.0\n",
      "C2 NaN values present is: 0 type is : float64 % of NaN values: 0.0\n",
      "C3 NaN values present is: 0 type is : float64 % of NaN values: 0.0\n",
      "C4 NaN values present is: 0 type is : float64 % of NaN values: 0.0\n",
      "C5 NaN values present is: 0 type is : float64 % of NaN values: 0.0\n",
      "C6 NaN values present is: 0 type is : float64 % of NaN values: 0.0\n",
      "C7 NaN values present is: 0 type is : float64 % of NaN values: 0.0\n",
      "C8 NaN values present is: 0 type is : float64 % of NaN values: 0.0\n",
      "C9 NaN values present is: 0 type is : float64 % of NaN values: 0.0\n",
      "C10 NaN values present is: 0 type is : float64 % of NaN values: 0.0\n",
      "C11 NaN values present is: 0 type is : float64 % of NaN values: 0.0\n",
      "C12 NaN values present is: 0 type is : float64 % of NaN values: 0.0\n",
      "C13 NaN values present is: 0 type is : float64 % of NaN values: 0.0\n",
      "C14 NaN values present is: 0 type is : float64 % of NaN values: 0.0\n",
      "D1 NaN values present is: 0 type is : float64 % of NaN values: 0.0\n",
      "D2 NaN values present is: 0 type is : float64 % of NaN values: 0.0\n",
      "D3 NaN values present is: 0 type is : float64 % of NaN values: 0.0\n",
      "D4 NaN values present is: 0 type is : float64 % of NaN values: 0.0\n",
      "D5 NaN values present is: 0 type is : float64 % of NaN values: 0.0\n",
      "D6 NaN values present is: 0 type is : float64 % of NaN values: 0.0\n",
      "D7 NaN values present is: 0 type is : float64 % of NaN values: 0.0\n",
      "D8 NaN values present is: 0 type is : float64 % of NaN values: 0.0\n",
      "D9 NaN values present is: 0 type is : float64 % of NaN values: 0.0\n",
      "D10 NaN values present is: 0 type is : float64 % of NaN values: 0.0\n",
      "D11 NaN values present is: 0 type is : float64 % of NaN values: 0.0\n",
      "D12 NaN values present is: 0 type is : float64 % of NaN values: 0.0\n",
      "D13 NaN values present is: 0 type is : float64 % of NaN values: 0.0\n",
      "D14 NaN values present is: 0 type is : float64 % of NaN values: 0.0\n",
      "D15 NaN values present is: 0 type is : float64 % of NaN values: 0.0\n",
      "M1 NaN values present is: 0 type is : int64 % of NaN values: 0.0\n",
      "M2 NaN values present is: 0 type is : int64 % of NaN values: 0.0\n",
      "M3 NaN values present is: 0 type is : int64 % of NaN values: 0.0\n",
      "M4 NaN values present is: 0 type is : int64 % of NaN values: 0.0\n",
      "M5 NaN values present is: 0 type is : int64 % of NaN values: 0.0\n",
      "M6 NaN values present is: 0 type is : int64 % of NaN values: 0.0\n",
      "M7 NaN values present is: 0 type is : int64 % of NaN values: 0.0\n",
      "M8 NaN values present is: 0 type is : int64 % of NaN values: 0.0\n",
      "M9 NaN values present is: 0 type is : int64 % of NaN values: 0.0\n",
      "DeviceType NaN values present is: 0 type is : int64 % of NaN values: 0.0\n",
      "day NaN values present is: 0 type is : float64 % of NaN values: 0.0\n",
      "hour NaN values present is: 0 type is : int64 % of NaN values: 0.0\n",
      "alertFeature NaN values present is: 0 type is : int64 % of NaN values: 0.0\n",
      "LogTransactionAmt NaN values present is: 0 type is : float64 % of NaN values: 0.0\n",
      "card3Values NaN values present is: 0 type is : int64 % of NaN values: 0.0\n",
      "P_emaildomain_bin NaN values present is: 0 type is : int64 % of NaN values: 0.0\n",
      "P_emaildomain_suffix NaN values present is: 0 type is : int64 % of NaN values: 0.0\n",
      "R_emaildomain_bin NaN values present is: 0 type is : int64 % of NaN values: 0.0\n",
      "R_emaildomain_suffix NaN values present is: 0 type is : int64 % of NaN values: 0.0\n",
      "DeviceCorp NaN values present is: 0 type is : int64 % of NaN values: 0.0\n",
      "browser_id_31 NaN values present is: 0 type is : int64 % of NaN values: 0.0\n",
      "version_id_31 NaN values present is: 0 type is : int64 % of NaN values: 0.0\n",
      "OS_id_30 NaN values present is: 0 type is : int64 % of NaN values: 0.0\n",
      "version_id_30 NaN values present is: 0 type is : int64 % of NaN values: 0.0\n",
      "screen_width NaN values present is: 0 type is : float64 % of NaN values: 0.0\n",
      "screen_height NaN values present is: 0 type is : float64 % of NaN values: 0.0\n",
      "TransDecimalCount NaN values present is: 0 type is : int64 % of NaN values: 0.0\n",
      "card1_count_full NaN values present is: 0 type is : int64 % of NaN values: 0.0\n",
      "card2_count_full NaN values present is: 0 type is : int64 % of NaN values: 0.0\n",
      "card3_count_full NaN values present is: 0 type is : int64 % of NaN values: 0.0\n",
      "card4_count_full NaN values present is: 0 type is : int64 % of NaN values: 0.0\n",
      "card5_count_full NaN values present is: 0 type is : int64 % of NaN values: 0.0\n",
      "card6_count_full NaN values present is: 0 type is : int64 % of NaN values: 0.0\n",
      "addr1_count_full NaN values present is: 0 type is : int64 % of NaN values: 0.0\n",
      "addr2_count_full NaN values present is: 0 type is : int64 % of NaN values: 0.0\n",
      "TransactionAmt_to_mean_card1 NaN values present is: 0 type is : float64 % of NaN values: 0.0\n",
      "TransactionAmt_to_mean_card4 NaN values present is: 0 type is : float64 % of NaN values: 0.0\n",
      "TransactionAmt_to_std_card1 NaN values present is: 0 type is : float64 % of NaN values: 0.0\n",
      "TransactionAmt_to_std_card4 NaN values present is: 0 type is : float64 % of NaN values: 0.0\n",
      "id_02_to_mean_card1 NaN values present is: 0 type is : float64 % of NaN values: 0.0\n",
      "id_02_to_mean_card4 NaN values present is: 0 type is : float64 % of NaN values: 0.0\n",
      "id_02_to_std_card1 NaN values present is: 0 type is : float64 % of NaN values: 0.0\n",
      "id_02_to_std_card4 NaN values present is: 0 type is : float64 % of NaN values: 0.0\n",
      "D15_to_mean_card1 NaN values present is: 0 type is : float64 % of NaN values: 0.0\n",
      "D15_to_mean_card4 NaN values present is: 0 type is : float64 % of NaN values: 0.0\n",
      "D15_to_std_card1 NaN values present is: 0 type is : float64 % of NaN values: 0.0\n",
      "D15_to_std_card4 NaN values present is: 0 type is : float64 % of NaN values: 0.0\n",
      "D15_to_mean_addr1 NaN values present is: 0 type is : float64 % of NaN values: 0.0\n",
      "D15_to_std_addr1 NaN values present is: 0 type is : float64 % of NaN values: 0.0\n",
      "card1_addr1 NaN values present is: 0 type is : int32 % of NaN values: 0.0\n",
      "uid NaN values present is: 0 type is : object % of NaN values: 0.0\n",
      "uid_FE NaN values present is: 0 type is : float32 % of NaN values: 0.0\n",
      "TransactionAmt_uid_mean NaN values present is: 0 type is : float32 % of NaN values: 0.0\n",
      "TransactionAmt_uid_std NaN values present is: 0 type is : float32 % of NaN values: 0.0\n",
      "D4_uid_mean NaN values present is: 0 type is : float32 % of NaN values: 0.0\n",
      "D4_uid_std NaN values present is: 0 type is : float32 % of NaN values: 0.0\n",
      "D9_uid_mean NaN values present is: 0 type is : float32 % of NaN values: 0.0\n",
      "D9_uid_std NaN values present is: 0 type is : float32 % of NaN values: 0.0\n",
      "D10_uid_mean NaN values present is: 0 type is : float32 % of NaN values: 0.0\n",
      "D10_uid_std NaN values present is: 0 type is : float32 % of NaN values: 0.0\n",
      "D15_uid_mean NaN values present is: 0 type is : float32 % of NaN values: 0.0\n",
      "D15_uid_std NaN values present is: 0 type is : float32 % of NaN values: 0.0\n",
      "C1_uid_mean NaN values present is: 0 type is : float32 % of NaN values: 0.0\n",
      "C2_uid_mean NaN values present is: 0 type is : float32 % of NaN values: 0.0\n",
      "C4_uid_mean NaN values present is: 0 type is : float32 % of NaN values: 0.0\n",
      "C5_uid_mean NaN values present is: 0 type is : float32 % of NaN values: 0.0\n",
      "C6_uid_mean NaN values present is: 0 type is : float32 % of NaN values: 0.0\n",
      "C7_uid_mean NaN values present is: 0 type is : float32 % of NaN values: 0.0\n",
      "C8_uid_mean NaN values present is: 0 type is : float32 % of NaN values: 0.0\n",
      "C9_uid_mean NaN values present is: 0 type is : float32 % of NaN values: 0.0\n",
      "C10_uid_mean NaN values present is: 0 type is : float32 % of NaN values: 0.0\n",
      "C11_uid_mean NaN values present is: 0 type is : float32 % of NaN values: 0.0\n",
      "C12_uid_mean NaN values present is: 0 type is : float32 % of NaN values: 0.0\n",
      "C13_uid_mean NaN values present is: 0 type is : float32 % of NaN values: 0.0\n",
      "C14_uid_mean NaN values present is: 0 type is : float32 % of NaN values: 0.0\n",
      "M1_uid_mean NaN values present is: 0 type is : float32 % of NaN values: 0.0\n",
      "M2_uid_mean NaN values present is: 0 type is : float32 % of NaN values: 0.0\n",
      "M3_uid_mean NaN values present is: 0 type is : float32 % of NaN values: 0.0\n",
      "M4_uid_mean NaN values present is: 0 type is : float32 % of NaN values: 0.0\n",
      "M5_uid_mean NaN values present is: 0 type is : float32 % of NaN values: 0.0\n",
      "M6_uid_mean NaN values present is: 0 type is : float32 % of NaN values: 0.0\n",
      "M7_uid_mean NaN values present is: 0 type is : float32 % of NaN values: 0.0\n",
      "M8_uid_mean NaN values present is: 0 type is : float32 % of NaN values: 0.0\n",
      "M9_uid_mean NaN values present is: 0 type is : float32 % of NaN values: 0.0\n",
      "uid_dist1_ct NaN values present is: 0 type is : float32 % of NaN values: 0.0\n",
      "C14_uid_std NaN values present is: 0 type is : float32 % of NaN values: 0.0\n",
      "uid_C13_ct NaN values present is: 0 type is : float32 % of NaN values: 0.0\n"
     ]
    },
    {
     "name": "stdout",
     "output_type": "stream",
     "text": [
      "uid_V314_ct NaN values present is: 0 type is : float32 % of NaN values: 0.0\n",
      "uid_V127_ct NaN values present is: 0 type is : float32 % of NaN values: 0.0\n",
      "uid_V136_ct NaN values present is: 0 type is : float32 % of NaN values: 0.0\n",
      "uid_V309_ct NaN values present is: 0 type is : float32 % of NaN values: 0.0\n",
      "uid_V307_ct NaN values present is: 0 type is : float32 % of NaN values: 0.0\n",
      "uid_V320_ct NaN values present is: 0 type is : float32 % of NaN values: 0.0\n",
      "outsider15 NaN values present is: 0 type is : int8 % of NaN values: 0.0\n"
     ]
    }
   ],
   "source": [
    "for i in train.columns:\n",
    "    print(i,'NaN values present is:',train[i].isnull().sum(),end=\" \")\n",
    "    print('type is :',train[i].dtypes,end=\" \")\n",
    "    print('% of NaN values:',np.round(train[i].isnull().sum()/train.shape[0]*100,2))"
   ]
  },
  {
   "cell_type": "code",
   "execution_count": 8,
   "metadata": {
    "collapsed": true
   },
   "outputs": [],
   "source": [
    "#we will first impute all the categorical value with mode and all the numerical value with mean."
   ]
  },
  {
   "cell_type": "code",
   "execution_count": 5,
   "metadata": {
    "collapsed": true
   },
   "outputs": [],
   "source": [
    "for i in train.columns:\n",
    "    if train[i].dtypes=='int64' or train[i].dtypes=='float64':\n",
    "        train[i].fillna(train[i].mean(),inplace=True)"
   ]
  },
  {
   "cell_type": "code",
   "execution_count": 6,
   "metadata": {
    "collapsed": true
   },
   "outputs": [],
   "source": [
    "for i in test.columns:\n",
    "    if test[i].dtypes=='int64' or test[i].dtypes=='float64':\n",
    "        test[i].fillna(test[i].mean(),inplace=True)"
   ]
  },
  {
   "cell_type": "code",
   "execution_count": 7,
   "metadata": {
    "collapsed": true
   },
   "outputs": [],
   "source": [
    "for i in train.columns:\n",
    "    if train[i].dtypes=='object':\n",
    "        train[i].fillna(train[i].mode()[0],inplace=True)"
   ]
  },
  {
   "cell_type": "code",
   "execution_count": 8,
   "metadata": {
    "collapsed": true
   },
   "outputs": [],
   "source": [
    "for i in test.columns:\n",
    "    if test[i].dtypes=='object':\n",
    "        test[i].fillna(test[i].mode()[0],inplace=True)"
   ]
  },
  {
   "cell_type": "code",
   "execution_count": 45,
   "metadata": {},
   "outputs": [
    {
     "name": "stdout",
     "output_type": "stream",
     "text": [
      "TransactionID NaN values present is: 0 type is : int64 % of NaN values: 0.0\n",
      "isFraud NaN values present is: 0 type is : int64 % of NaN values: 0.0\n",
      "TransactionDT NaN values present is: 0 type is : int64 % of NaN values: 0.0\n",
      "TransactionAmt NaN values present is: 0 type is : float64 % of NaN values: 0.0\n",
      "ProductCD NaN values present is: 0 type is : int64 % of NaN values: 0.0\n",
      "card1 NaN values present is: 0 type is : int64 % of NaN values: 0.0\n",
      "card2 NaN values present is: 0 type is : float64 % of NaN values: 0.0\n",
      "card3 NaN values present is: 0 type is : float64 % of NaN values: 0.0\n",
      "card4 NaN values present is: 0 type is : int64 % of NaN values: 0.0\n",
      "card5 NaN values present is: 0 type is : float64 % of NaN values: 0.0\n",
      "card6 NaN values present is: 0 type is : int64 % of NaN values: 0.0\n",
      "addr1 NaN values present is: 0 type is : float64 % of NaN values: 0.0\n",
      "addr2 NaN values present is: 0 type is : float64 % of NaN values: 0.0\n",
      "dist1 NaN values present is: 0 type is : float64 % of NaN values: 0.0\n",
      "dist2 NaN values present is: 0 type is : float64 % of NaN values: 0.0\n",
      "C1 NaN values present is: 0 type is : float64 % of NaN values: 0.0\n",
      "C2 NaN values present is: 0 type is : float64 % of NaN values: 0.0\n",
      "C3 NaN values present is: 0 type is : float64 % of NaN values: 0.0\n",
      "C4 NaN values present is: 0 type is : float64 % of NaN values: 0.0\n",
      "C5 NaN values present is: 0 type is : float64 % of NaN values: 0.0\n",
      "C6 NaN values present is: 0 type is : float64 % of NaN values: 0.0\n",
      "C7 NaN values present is: 0 type is : float64 % of NaN values: 0.0\n",
      "C8 NaN values present is: 0 type is : float64 % of NaN values: 0.0\n",
      "C9 NaN values present is: 0 type is : float64 % of NaN values: 0.0\n",
      "C10 NaN values present is: 0 type is : float64 % of NaN values: 0.0\n",
      "C11 NaN values present is: 0 type is : float64 % of NaN values: 0.0\n",
      "C12 NaN values present is: 0 type is : float64 % of NaN values: 0.0\n",
      "C13 NaN values present is: 0 type is : float64 % of NaN values: 0.0\n",
      "C14 NaN values present is: 0 type is : float64 % of NaN values: 0.0\n",
      "D1 NaN values present is: 0 type is : float64 % of NaN values: 0.0\n",
      "D2 NaN values present is: 0 type is : float64 % of NaN values: 0.0\n",
      "D3 NaN values present is: 0 type is : float64 % of NaN values: 0.0\n",
      "D4 NaN values present is: 0 type is : float64 % of NaN values: 0.0\n",
      "D5 NaN values present is: 0 type is : float64 % of NaN values: 0.0\n",
      "D6 NaN values present is: 0 type is : float64 % of NaN values: 0.0\n",
      "D7 NaN values present is: 0 type is : float64 % of NaN values: 0.0\n",
      "D8 NaN values present is: 0 type is : float64 % of NaN values: 0.0\n",
      "D9 NaN values present is: 0 type is : float64 % of NaN values: 0.0\n",
      "D10 NaN values present is: 0 type is : float64 % of NaN values: 0.0\n",
      "D11 NaN values present is: 0 type is : float64 % of NaN values: 0.0\n",
      "D12 NaN values present is: 0 type is : float64 % of NaN values: 0.0\n",
      "D13 NaN values present is: 0 type is : float64 % of NaN values: 0.0\n",
      "D14 NaN values present is: 0 type is : float64 % of NaN values: 0.0\n",
      "D15 NaN values present is: 0 type is : float64 % of NaN values: 0.0\n",
      "M1 NaN values present is: 0 type is : int64 % of NaN values: 0.0\n",
      "M2 NaN values present is: 0 type is : int64 % of NaN values: 0.0\n",
      "M3 NaN values present is: 0 type is : int64 % of NaN values: 0.0\n",
      "M4 NaN values present is: 0 type is : int64 % of NaN values: 0.0\n",
      "M5 NaN values present is: 0 type is : int64 % of NaN values: 0.0\n",
      "M6 NaN values present is: 0 type is : int64 % of NaN values: 0.0\n",
      "M7 NaN values present is: 0 type is : int64 % of NaN values: 0.0\n",
      "M8 NaN values present is: 0 type is : int64 % of NaN values: 0.0\n",
      "M9 NaN values present is: 0 type is : int64 % of NaN values: 0.0\n",
      "V1 NaN values present is: 0 type is : float64 % of NaN values: 0.0\n",
      "V2 NaN values present is: 0 type is : float64 % of NaN values: 0.0\n",
      "V3 NaN values present is: 0 type is : float64 % of NaN values: 0.0\n",
      "V4 NaN values present is: 0 type is : float64 % of NaN values: 0.0\n",
      "V5 NaN values present is: 0 type is : float64 % of NaN values: 0.0\n",
      "V6 NaN values present is: 0 type is : float64 % of NaN values: 0.0\n",
      "V7 NaN values present is: 0 type is : float64 % of NaN values: 0.0\n",
      "V8 NaN values present is: 0 type is : float64 % of NaN values: 0.0\n",
      "V9 NaN values present is: 0 type is : float64 % of NaN values: 0.0\n",
      "V10 NaN values present is: 0 type is : float64 % of NaN values: 0.0\n",
      "V11 NaN values present is: 0 type is : float64 % of NaN values: 0.0\n",
      "V12 NaN values present is: 0 type is : float64 % of NaN values: 0.0\n",
      "V13 NaN values present is: 0 type is : float64 % of NaN values: 0.0\n",
      "V14 NaN values present is: 0 type is : float64 % of NaN values: 0.0\n",
      "V15 NaN values present is: 0 type is : float64 % of NaN values: 0.0\n",
      "V16 NaN values present is: 0 type is : float64 % of NaN values: 0.0\n",
      "V17 NaN values present is: 0 type is : float64 % of NaN values: 0.0\n",
      "V18 NaN values present is: 0 type is : float64 % of NaN values: 0.0\n",
      "V19 NaN values present is: 0 type is : float64 % of NaN values: 0.0\n",
      "V20 NaN values present is: 0 type is : float64 % of NaN values: 0.0\n",
      "V21 NaN values present is: 0 type is : float64 % of NaN values: 0.0\n",
      "V22 NaN values present is: 0 type is : float64 % of NaN values: 0.0\n",
      "V23 NaN values present is: 0 type is : float64 % of NaN values: 0.0\n",
      "V24 NaN values present is: 0 type is : float64 % of NaN values: 0.0\n",
      "V25 NaN values present is: 0 type is : float64 % of NaN values: 0.0\n",
      "V26 NaN values present is: 0 type is : float64 % of NaN values: 0.0\n",
      "V27 NaN values present is: 0 type is : float64 % of NaN values: 0.0\n",
      "V28 NaN values present is: 0 type is : float64 % of NaN values: 0.0\n",
      "V29 NaN values present is: 0 type is : float64 % of NaN values: 0.0\n",
      "V30 NaN values present is: 0 type is : float64 % of NaN values: 0.0\n",
      "V31 NaN values present is: 0 type is : float64 % of NaN values: 0.0\n",
      "V32 NaN values present is: 0 type is : float64 % of NaN values: 0.0\n",
      "V33 NaN values present is: 0 type is : float64 % of NaN values: 0.0\n",
      "V34 NaN values present is: 0 type is : float64 % of NaN values: 0.0\n",
      "V35 NaN values present is: 0 type is : float64 % of NaN values: 0.0\n",
      "V36 NaN values present is: 0 type is : float64 % of NaN values: 0.0\n",
      "V37 NaN values present is: 0 type is : float64 % of NaN values: 0.0\n",
      "V38 NaN values present is: 0 type is : float64 % of NaN values: 0.0\n",
      "V39 NaN values present is: 0 type is : float64 % of NaN values: 0.0\n",
      "V40 NaN values present is: 0 type is : float64 % of NaN values: 0.0\n",
      "V41 NaN values present is: 0 type is : float64 % of NaN values: 0.0\n",
      "V42 NaN values present is: 0 type is : float64 % of NaN values: 0.0\n",
      "V43 NaN values present is: 0 type is : float64 % of NaN values: 0.0\n",
      "V44 NaN values present is: 0 type is : float64 % of NaN values: 0.0\n",
      "V45 NaN values present is: 0 type is : float64 % of NaN values: 0.0\n",
      "V46 NaN values present is: 0 type is : float64 % of NaN values: 0.0\n",
      "V47 NaN values present is: 0 type is : float64 % of NaN values: 0.0\n",
      "V48 NaN values present is: 0 type is : float64 % of NaN values: 0.0\n",
      "V49 NaN values present is: 0 type is : float64 % of NaN values: 0.0\n",
      "V50 NaN values present is: 0 type is : float64 % of NaN values: 0.0\n",
      "V51 NaN values present is: 0 type is : float64 % of NaN values: 0.0\n",
      "V52 NaN values present is: 0 type is : float64 % of NaN values: 0.0\n",
      "V53 NaN values present is: 0 type is : float64 % of NaN values: 0.0\n",
      "V54 NaN values present is: 0 type is : float64 % of NaN values: 0.0\n",
      "V55 NaN values present is: 0 type is : float64 % of NaN values: 0.0\n",
      "V56 NaN values present is: 0 type is : float64 % of NaN values: 0.0\n",
      "V57 NaN values present is: 0 type is : float64 % of NaN values: 0.0\n",
      "V58 NaN values present is: 0 type is : float64 % of NaN values: 0.0\n",
      "V59 NaN values present is: 0 type is : float64 % of NaN values: 0.0\n",
      "V60 NaN values present is: 0 type is : float64 % of NaN values: 0.0\n",
      "V61 NaN values present is: 0 type is : float64 % of NaN values: 0.0\n",
      "V62 NaN values present is: 0 type is : float64 % of NaN values: 0.0\n",
      "V63 NaN values present is: 0 type is : float64 % of NaN values: 0.0\n",
      "V64 NaN values present is: 0 type is : float64 % of NaN values: 0.0\n",
      "V65 NaN values present is: 0 type is : float64 % of NaN values: 0.0\n",
      "V66 NaN values present is: 0 type is : float64 % of NaN values: 0.0\n",
      "V67 NaN values present is: 0 type is : float64 % of NaN values: 0.0\n",
      "V68 NaN values present is: 0 type is : float64 % of NaN values: 0.0\n",
      "V69 NaN values present is: 0 type is : float64 % of NaN values: 0.0\n",
      "V70 NaN values present is: 0 type is : float64 % of NaN values: 0.0\n",
      "V71 NaN values present is: 0 type is : float64 % of NaN values: 0.0\n",
      "V72 NaN values present is: 0 type is : float64 % of NaN values: 0.0\n"
     ]
    },
    {
     "name": "stdout",
     "output_type": "stream",
     "text": [
      "V73 NaN values present is: 0 type is : float64 % of NaN values: 0.0\n",
      "V74 NaN values present is: 0 type is : float64 % of NaN values: 0.0\n",
      "V75 NaN values present is: 0 type is : float64 % of NaN values: 0.0\n",
      "V76 NaN values present is: 0 type is : float64 % of NaN values: 0.0\n",
      "V77 NaN values present is: 0 type is : float64 % of NaN values: 0.0\n",
      "V78 NaN values present is: 0 type is : float64 % of NaN values: 0.0\n",
      "V79 NaN values present is: 0 type is : float64 % of NaN values: 0.0\n",
      "V80 NaN values present is: 0 type is : float64 % of NaN values: 0.0\n",
      "V81 NaN values present is: 0 type is : float64 % of NaN values: 0.0\n",
      "V82 NaN values present is: 0 type is : float64 % of NaN values: 0.0\n",
      "V83 NaN values present is: 0 type is : float64 % of NaN values: 0.0\n",
      "V84 NaN values present is: 0 type is : float64 % of NaN values: 0.0\n",
      "V85 NaN values present is: 0 type is : float64 % of NaN values: 0.0\n",
      "V86 NaN values present is: 0 type is : float64 % of NaN values: 0.0\n",
      "V87 NaN values present is: 0 type is : float64 % of NaN values: 0.0\n",
      "V88 NaN values present is: 0 type is : float64 % of NaN values: 0.0\n",
      "V89 NaN values present is: 0 type is : float64 % of NaN values: 0.0\n",
      "V90 NaN values present is: 0 type is : float64 % of NaN values: 0.0\n",
      "V91 NaN values present is: 0 type is : float64 % of NaN values: 0.0\n",
      "V92 NaN values present is: 0 type is : float64 % of NaN values: 0.0\n",
      "V93 NaN values present is: 0 type is : float64 % of NaN values: 0.0\n",
      "V94 NaN values present is: 0 type is : float64 % of NaN values: 0.0\n",
      "V95 NaN values present is: 0 type is : float64 % of NaN values: 0.0\n",
      "V96 NaN values present is: 0 type is : float64 % of NaN values: 0.0\n",
      "V97 NaN values present is: 0 type is : float64 % of NaN values: 0.0\n",
      "V98 NaN values present is: 0 type is : float64 % of NaN values: 0.0\n",
      "V99 NaN values present is: 0 type is : float64 % of NaN values: 0.0\n",
      "V100 NaN values present is: 0 type is : float64 % of NaN values: 0.0\n",
      "V101 NaN values present is: 0 type is : float64 % of NaN values: 0.0\n",
      "V102 NaN values present is: 0 type is : float64 % of NaN values: 0.0\n",
      "V103 NaN values present is: 0 type is : float64 % of NaN values: 0.0\n",
      "V104 NaN values present is: 0 type is : float64 % of NaN values: 0.0\n",
      "V105 NaN values present is: 0 type is : float64 % of NaN values: 0.0\n",
      "V106 NaN values present is: 0 type is : float64 % of NaN values: 0.0\n",
      "V107 NaN values present is: 0 type is : float64 % of NaN values: 0.0\n",
      "V108 NaN values present is: 0 type is : float64 % of NaN values: 0.0\n",
      "V109 NaN values present is: 0 type is : float64 % of NaN values: 0.0\n",
      "V110 NaN values present is: 0 type is : float64 % of NaN values: 0.0\n",
      "V111 NaN values present is: 0 type is : float64 % of NaN values: 0.0\n",
      "V112 NaN values present is: 0 type is : float64 % of NaN values: 0.0\n",
      "V113 NaN values present is: 0 type is : float64 % of NaN values: 0.0\n",
      "V114 NaN values present is: 0 type is : float64 % of NaN values: 0.0\n",
      "V115 NaN values present is: 0 type is : float64 % of NaN values: 0.0\n",
      "V116 NaN values present is: 0 type is : float64 % of NaN values: 0.0\n",
      "V117 NaN values present is: 0 type is : float64 % of NaN values: 0.0\n",
      "V118 NaN values present is: 0 type is : float64 % of NaN values: 0.0\n",
      "V119 NaN values present is: 0 type is : float64 % of NaN values: 0.0\n",
      "V120 NaN values present is: 0 type is : float64 % of NaN values: 0.0\n",
      "V121 NaN values present is: 0 type is : float64 % of NaN values: 0.0\n",
      "V122 NaN values present is: 0 type is : float64 % of NaN values: 0.0\n",
      "V123 NaN values present is: 0 type is : float64 % of NaN values: 0.0\n",
      "V124 NaN values present is: 0 type is : float64 % of NaN values: 0.0\n",
      "V125 NaN values present is: 0 type is : float64 % of NaN values: 0.0\n",
      "V126 NaN values present is: 0 type is : float64 % of NaN values: 0.0\n",
      "V127 NaN values present is: 0 type is : float64 % of NaN values: 0.0\n",
      "V128 NaN values present is: 0 type is : float64 % of NaN values: 0.0\n",
      "V129 NaN values present is: 0 type is : float64 % of NaN values: 0.0\n",
      "V130 NaN values present is: 0 type is : float64 % of NaN values: 0.0\n",
      "V131 NaN values present is: 0 type is : float64 % of NaN values: 0.0\n",
      "V132 NaN values present is: 0 type is : float64 % of NaN values: 0.0\n",
      "V133 NaN values present is: 0 type is : float64 % of NaN values: 0.0\n",
      "V134 NaN values present is: 0 type is : float64 % of NaN values: 0.0\n",
      "V135 NaN values present is: 0 type is : float64 % of NaN values: 0.0\n",
      "V136 NaN values present is: 0 type is : float64 % of NaN values: 0.0\n",
      "V137 NaN values present is: 0 type is : float64 % of NaN values: 0.0\n",
      "V138 NaN values present is: 0 type is : float64 % of NaN values: 0.0\n",
      "V139 NaN values present is: 0 type is : float64 % of NaN values: 0.0\n",
      "V140 NaN values present is: 0 type is : float64 % of NaN values: 0.0\n",
      "V141 NaN values present is: 0 type is : float64 % of NaN values: 0.0\n",
      "V142 NaN values present is: 0 type is : float64 % of NaN values: 0.0\n",
      "V143 NaN values present is: 0 type is : float64 % of NaN values: 0.0\n",
      "V144 NaN values present is: 0 type is : float64 % of NaN values: 0.0\n",
      "V145 NaN values present is: 0 type is : float64 % of NaN values: 0.0\n",
      "V146 NaN values present is: 0 type is : float64 % of NaN values: 0.0\n",
      "V147 NaN values present is: 0 type is : float64 % of NaN values: 0.0\n",
      "V148 NaN values present is: 0 type is : float64 % of NaN values: 0.0\n",
      "V149 NaN values present is: 0 type is : float64 % of NaN values: 0.0\n",
      "V150 NaN values present is: 0 type is : float64 % of NaN values: 0.0\n",
      "V151 NaN values present is: 0 type is : float64 % of NaN values: 0.0\n",
      "V152 NaN values present is: 0 type is : float64 % of NaN values: 0.0\n",
      "V153 NaN values present is: 0 type is : float64 % of NaN values: 0.0\n",
      "V154 NaN values present is: 0 type is : float64 % of NaN values: 0.0\n",
      "V155 NaN values present is: 0 type is : float64 % of NaN values: 0.0\n",
      "V156 NaN values present is: 0 type is : float64 % of NaN values: 0.0\n",
      "V157 NaN values present is: 0 type is : float64 % of NaN values: 0.0\n",
      "V158 NaN values present is: 0 type is : float64 % of NaN values: 0.0\n",
      "V159 NaN values present is: 0 type is : float64 % of NaN values: 0.0\n",
      "V160 NaN values present is: 0 type is : float64 % of NaN values: 0.0\n",
      "V161 NaN values present is: 0 type is : float64 % of NaN values: 0.0\n",
      "V162 NaN values present is: 0 type is : float64 % of NaN values: 0.0\n",
      "V163 NaN values present is: 0 type is : float64 % of NaN values: 0.0\n",
      "V164 NaN values present is: 0 type is : float64 % of NaN values: 0.0\n",
      "V165 NaN values present is: 0 type is : float64 % of NaN values: 0.0\n",
      "V166 NaN values present is: 0 type is : float64 % of NaN values: 0.0\n",
      "V167 NaN values present is: 0 type is : float64 % of NaN values: 0.0\n",
      "V168 NaN values present is: 0 type is : float64 % of NaN values: 0.0\n",
      "V169 NaN values present is: 0 type is : float64 % of NaN values: 0.0\n",
      "V170 NaN values present is: 0 type is : float64 % of NaN values: 0.0\n",
      "V171 NaN values present is: 0 type is : float64 % of NaN values: 0.0\n",
      "V172 NaN values present is: 0 type is : float64 % of NaN values: 0.0\n",
      "V173 NaN values present is: 0 type is : float64 % of NaN values: 0.0\n",
      "V174 NaN values present is: 0 type is : float64 % of NaN values: 0.0\n",
      "V175 NaN values present is: 0 type is : float64 % of NaN values: 0.0\n",
      "V176 NaN values present is: 0 type is : float64 % of NaN values: 0.0\n",
      "V177 NaN values present is: 0 type is : float64 % of NaN values: 0.0\n",
      "V178 NaN values present is: 0 type is : float64 % of NaN values: 0.0\n",
      "V179 NaN values present is: 0 type is : float64 % of NaN values: 0.0\n",
      "V180 NaN values present is: 0 type is : float64 % of NaN values: 0.0\n",
      "V181 NaN values present is: 0 type is : float64 % of NaN values: 0.0\n",
      "V182 NaN values present is: 0 type is : float64 % of NaN values: 0.0\n",
      "V183 NaN values present is: 0 type is : float64 % of NaN values: 0.0\n",
      "V184 NaN values present is: 0 type is : float64 % of NaN values: 0.0\n",
      "V185 NaN values present is: 0 type is : float64 % of NaN values: 0.0\n",
      "V186 NaN values present is: 0 type is : float64 % of NaN values: 0.0\n",
      "V187 NaN values present is: 0 type is : float64 % of NaN values: 0.0\n",
      "V188 NaN values present is: 0 type is : float64 % of NaN values: 0.0\n",
      "V189 NaN values present is: 0 type is : float64 % of NaN values: 0.0\n",
      "V190 NaN values present is: 0 type is : float64 % of NaN values: 0.0\n",
      "V191 NaN values present is: 0 type is : float64 % of NaN values: 0.0\n",
      "V192 NaN values present is: 0 type is : float64 % of NaN values: 0.0\n",
      "V193 NaN values present is: 0 type is : float64 % of NaN values: 0.0\n",
      "V194 NaN values present is: 0 type is : float64 % of NaN values: 0.0\n",
      "V195 NaN values present is: 0 type is : float64 % of NaN values: 0.0\n",
      "V196 NaN values present is: 0 type is : float64 % of NaN values: 0.0\n"
     ]
    },
    {
     "name": "stdout",
     "output_type": "stream",
     "text": [
      "V197 NaN values present is: 0 type is : float64 % of NaN values: 0.0\n",
      "V198 NaN values present is: 0 type is : float64 % of NaN values: 0.0\n",
      "V199 NaN values present is: 0 type is : float64 % of NaN values: 0.0\n",
      "V200 NaN values present is: 0 type is : float64 % of NaN values: 0.0\n",
      "V201 NaN values present is: 0 type is : float64 % of NaN values: 0.0\n",
      "V202 NaN values present is: 0 type is : float64 % of NaN values: 0.0\n",
      "V203 NaN values present is: 0 type is : float64 % of NaN values: 0.0\n",
      "V204 NaN values present is: 0 type is : float64 % of NaN values: 0.0\n",
      "V205 NaN values present is: 0 type is : float64 % of NaN values: 0.0\n",
      "V206 NaN values present is: 0 type is : float64 % of NaN values: 0.0\n",
      "V207 NaN values present is: 0 type is : float64 % of NaN values: 0.0\n",
      "V208 NaN values present is: 0 type is : float64 % of NaN values: 0.0\n",
      "V209 NaN values present is: 0 type is : float64 % of NaN values: 0.0\n",
      "V210 NaN values present is: 0 type is : float64 % of NaN values: 0.0\n",
      "V211 NaN values present is: 0 type is : float64 % of NaN values: 0.0\n",
      "V212 NaN values present is: 0 type is : float64 % of NaN values: 0.0\n",
      "V213 NaN values present is: 0 type is : float64 % of NaN values: 0.0\n",
      "V214 NaN values present is: 0 type is : float64 % of NaN values: 0.0\n",
      "V215 NaN values present is: 0 type is : float64 % of NaN values: 0.0\n",
      "V216 NaN values present is: 0 type is : float64 % of NaN values: 0.0\n",
      "V217 NaN values present is: 0 type is : float64 % of NaN values: 0.0\n",
      "V218 NaN values present is: 0 type is : float64 % of NaN values: 0.0\n",
      "V219 NaN values present is: 0 type is : float64 % of NaN values: 0.0\n",
      "V220 NaN values present is: 0 type is : float64 % of NaN values: 0.0\n",
      "V221 NaN values present is: 0 type is : float64 % of NaN values: 0.0\n",
      "V222 NaN values present is: 0 type is : float64 % of NaN values: 0.0\n",
      "V223 NaN values present is: 0 type is : float64 % of NaN values: 0.0\n",
      "V224 NaN values present is: 0 type is : float64 % of NaN values: 0.0\n",
      "V225 NaN values present is: 0 type is : float64 % of NaN values: 0.0\n",
      "V226 NaN values present is: 0 type is : float64 % of NaN values: 0.0\n",
      "V227 NaN values present is: 0 type is : float64 % of NaN values: 0.0\n",
      "V228 NaN values present is: 0 type is : float64 % of NaN values: 0.0\n",
      "V229 NaN values present is: 0 type is : float64 % of NaN values: 0.0\n",
      "V230 NaN values present is: 0 type is : float64 % of NaN values: 0.0\n",
      "V231 NaN values present is: 0 type is : float64 % of NaN values: 0.0\n",
      "V232 NaN values present is: 0 type is : float64 % of NaN values: 0.0\n",
      "V233 NaN values present is: 0 type is : float64 % of NaN values: 0.0\n",
      "V234 NaN values present is: 0 type is : float64 % of NaN values: 0.0\n",
      "V235 NaN values present is: 0 type is : float64 % of NaN values: 0.0\n",
      "V236 NaN values present is: 0 type is : float64 % of NaN values: 0.0\n",
      "V237 NaN values present is: 0 type is : float64 % of NaN values: 0.0\n",
      "V238 NaN values present is: 0 type is : float64 % of NaN values: 0.0\n",
      "V239 NaN values present is: 0 type is : float64 % of NaN values: 0.0\n",
      "V240 NaN values present is: 0 type is : float64 % of NaN values: 0.0\n",
      "V241 NaN values present is: 0 type is : float64 % of NaN values: 0.0\n",
      "V242 NaN values present is: 0 type is : float64 % of NaN values: 0.0\n",
      "V243 NaN values present is: 0 type is : float64 % of NaN values: 0.0\n",
      "V244 NaN values present is: 0 type is : float64 % of NaN values: 0.0\n",
      "V245 NaN values present is: 0 type is : float64 % of NaN values: 0.0\n",
      "V246 NaN values present is: 0 type is : float64 % of NaN values: 0.0\n",
      "V247 NaN values present is: 0 type is : float64 % of NaN values: 0.0\n",
      "V248 NaN values present is: 0 type is : float64 % of NaN values: 0.0\n",
      "V249 NaN values present is: 0 type is : float64 % of NaN values: 0.0\n",
      "V250 NaN values present is: 0 type is : float64 % of NaN values: 0.0\n",
      "V251 NaN values present is: 0 type is : float64 % of NaN values: 0.0\n",
      "V252 NaN values present is: 0 type is : float64 % of NaN values: 0.0\n",
      "V253 NaN values present is: 0 type is : float64 % of NaN values: 0.0\n",
      "V254 NaN values present is: 0 type is : float64 % of NaN values: 0.0\n",
      "V255 NaN values present is: 0 type is : float64 % of NaN values: 0.0\n",
      "V256 NaN values present is: 0 type is : float64 % of NaN values: 0.0\n",
      "V257 NaN values present is: 0 type is : float64 % of NaN values: 0.0\n",
      "V258 NaN values present is: 0 type is : float64 % of NaN values: 0.0\n",
      "V259 NaN values present is: 0 type is : float64 % of NaN values: 0.0\n",
      "V260 NaN values present is: 0 type is : float64 % of NaN values: 0.0\n",
      "V261 NaN values present is: 0 type is : float64 % of NaN values: 0.0\n",
      "V262 NaN values present is: 0 type is : float64 % of NaN values: 0.0\n",
      "V263 NaN values present is: 0 type is : float64 % of NaN values: 0.0\n",
      "V264 NaN values present is: 0 type is : float64 % of NaN values: 0.0\n",
      "V265 NaN values present is: 0 type is : float64 % of NaN values: 0.0\n",
      "V266 NaN values present is: 0 type is : float64 % of NaN values: 0.0\n",
      "V267 NaN values present is: 0 type is : float64 % of NaN values: 0.0\n",
      "V268 NaN values present is: 0 type is : float64 % of NaN values: 0.0\n",
      "V269 NaN values present is: 0 type is : float64 % of NaN values: 0.0\n",
      "V270 NaN values present is: 0 type is : float64 % of NaN values: 0.0\n",
      "V271 NaN values present is: 0 type is : float64 % of NaN values: 0.0\n",
      "V272 NaN values present is: 0 type is : float64 % of NaN values: 0.0\n",
      "V273 NaN values present is: 0 type is : float64 % of NaN values: 0.0\n",
      "V274 NaN values present is: 0 type is : float64 % of NaN values: 0.0\n",
      "V275 NaN values present is: 0 type is : float64 % of NaN values: 0.0\n",
      "V276 NaN values present is: 0 type is : float64 % of NaN values: 0.0\n",
      "V277 NaN values present is: 0 type is : float64 % of NaN values: 0.0\n",
      "V278 NaN values present is: 0 type is : float64 % of NaN values: 0.0\n",
      "V279 NaN values present is: 0 type is : float64 % of NaN values: 0.0\n",
      "V280 NaN values present is: 0 type is : float64 % of NaN values: 0.0\n",
      "V281 NaN values present is: 0 type is : float64 % of NaN values: 0.0\n",
      "V282 NaN values present is: 0 type is : float64 % of NaN values: 0.0\n",
      "V283 NaN values present is: 0 type is : float64 % of NaN values: 0.0\n",
      "V284 NaN values present is: 0 type is : float64 % of NaN values: 0.0\n",
      "V285 NaN values present is: 0 type is : float64 % of NaN values: 0.0\n",
      "V286 NaN values present is: 0 type is : float64 % of NaN values: 0.0\n",
      "V287 NaN values present is: 0 type is : float64 % of NaN values: 0.0\n",
      "V288 NaN values present is: 0 type is : float64 % of NaN values: 0.0\n",
      "V289 NaN values present is: 0 type is : float64 % of NaN values: 0.0\n",
      "V290 NaN values present is: 0 type is : float64 % of NaN values: 0.0\n",
      "V291 NaN values present is: 0 type is : float64 % of NaN values: 0.0\n",
      "V292 NaN values present is: 0 type is : float64 % of NaN values: 0.0\n",
      "V293 NaN values present is: 0 type is : float64 % of NaN values: 0.0\n",
      "V294 NaN values present is: 0 type is : float64 % of NaN values: 0.0\n",
      "V295 NaN values present is: 0 type is : float64 % of NaN values: 0.0\n",
      "V296 NaN values present is: 0 type is : float64 % of NaN values: 0.0\n",
      "V297 NaN values present is: 0 type is : float64 % of NaN values: 0.0\n",
      "V298 NaN values present is: 0 type is : float64 % of NaN values: 0.0\n",
      "V299 NaN values present is: 0 type is : float64 % of NaN values: 0.0\n",
      "V300 NaN values present is: 0 type is : float64 % of NaN values: 0.0\n",
      "V301 NaN values present is: 0 type is : float64 % of NaN values: 0.0\n",
      "V302 NaN values present is: 0 type is : float64 % of NaN values: 0.0\n",
      "V303 NaN values present is: 0 type is : float64 % of NaN values: 0.0\n",
      "V304 NaN values present is: 0 type is : float64 % of NaN values: 0.0\n",
      "V305 NaN values present is: 0 type is : float64 % of NaN values: 0.0\n",
      "V306 NaN values present is: 0 type is : float64 % of NaN values: 0.0\n",
      "V307 NaN values present is: 0 type is : float64 % of NaN values: 0.0\n",
      "V308 NaN values present is: 0 type is : float64 % of NaN values: 0.0\n",
      "V309 NaN values present is: 0 type is : float64 % of NaN values: 0.0\n",
      "V310 NaN values present is: 0 type is : float64 % of NaN values: 0.0\n",
      "V311 NaN values present is: 0 type is : float64 % of NaN values: 0.0\n",
      "V312 NaN values present is: 0 type is : float64 % of NaN values: 0.0\n",
      "V313 NaN values present is: 0 type is : float64 % of NaN values: 0.0\n",
      "V314 NaN values present is: 0 type is : float64 % of NaN values: 0.0\n",
      "V315 NaN values present is: 0 type is : float64 % of NaN values: 0.0\n"
     ]
    },
    {
     "name": "stdout",
     "output_type": "stream",
     "text": [
      "V316 NaN values present is: 0 type is : float64 % of NaN values: 0.0\n",
      "V317 NaN values present is: 0 type is : float64 % of NaN values: 0.0\n",
      "V318 NaN values present is: 0 type is : float64 % of NaN values: 0.0\n",
      "V319 NaN values present is: 0 type is : float64 % of NaN values: 0.0\n",
      "V320 NaN values present is: 0 type is : float64 % of NaN values: 0.0\n",
      "V321 NaN values present is: 0 type is : float64 % of NaN values: 0.0\n",
      "V322 NaN values present is: 0 type is : float64 % of NaN values: 0.0\n",
      "V323 NaN values present is: 0 type is : float64 % of NaN values: 0.0\n",
      "V324 NaN values present is: 0 type is : float64 % of NaN values: 0.0\n",
      "V325 NaN values present is: 0 type is : float64 % of NaN values: 0.0\n",
      "V326 NaN values present is: 0 type is : float64 % of NaN values: 0.0\n",
      "V327 NaN values present is: 0 type is : float64 % of NaN values: 0.0\n",
      "V328 NaN values present is: 0 type is : float64 % of NaN values: 0.0\n",
      "V329 NaN values present is: 0 type is : float64 % of NaN values: 0.0\n",
      "V330 NaN values present is: 0 type is : float64 % of NaN values: 0.0\n",
      "V331 NaN values present is: 0 type is : float64 % of NaN values: 0.0\n",
      "V332 NaN values present is: 0 type is : float64 % of NaN values: 0.0\n",
      "V333 NaN values present is: 0 type is : float64 % of NaN values: 0.0\n",
      "V334 NaN values present is: 0 type is : float64 % of NaN values: 0.0\n",
      "V335 NaN values present is: 0 type is : float64 % of NaN values: 0.0\n",
      "V336 NaN values present is: 0 type is : float64 % of NaN values: 0.0\n",
      "V337 NaN values present is: 0 type is : float64 % of NaN values: 0.0\n",
      "V338 NaN values present is: 0 type is : float64 % of NaN values: 0.0\n",
      "V339 NaN values present is: 0 type is : float64 % of NaN values: 0.0\n",
      "DeviceType NaN values present is: 0 type is : int64 % of NaN values: 0.0\n",
      "day NaN values present is: 0 type is : int64 % of NaN values: 0.0\n",
      "hour NaN values present is: 0 type is : int64 % of NaN values: 0.0\n",
      "alertFeature NaN values present is: 0 type is : int64 % of NaN values: 0.0\n",
      "LogTransactionAmt NaN values present is: 0 type is : float64 % of NaN values: 0.0\n",
      "card3Values NaN values present is: 0 type is : int64 % of NaN values: 0.0\n",
      "P_emaildomain_bin NaN values present is: 0 type is : int64 % of NaN values: 0.0\n",
      "P_emaildomain_suffix NaN values present is: 0 type is : int64 % of NaN values: 0.0\n",
      "R_emaildomain_bin NaN values present is: 0 type is : int64 % of NaN values: 0.0\n",
      "R_emaildomain_suffix NaN values present is: 0 type is : int64 % of NaN values: 0.0\n",
      "DeviceCorp NaN values present is: 0 type is : int64 % of NaN values: 0.0\n",
      "browser_id_31 NaN values present is: 0 type is : int64 % of NaN values: 0.0\n",
      "version_id_31 NaN values present is: 0 type is : int64 % of NaN values: 0.0\n",
      "OS_id_30 NaN values present is: 0 type is : int64 % of NaN values: 0.0\n",
      "version_id_30 NaN values present is: 0 type is : int64 % of NaN values: 0.0\n",
      "screen_width NaN values present is: 0 type is : float64 % of NaN values: 0.0\n",
      "screen_height NaN values present is: 0 type is : float64 % of NaN values: 0.0\n",
      "TransDecimalCount NaN values present is: 0 type is : int64 % of NaN values: 0.0\n",
      "card1_count_full NaN values present is: 0 type is : int64 % of NaN values: 0.0\n",
      "card2_count_full NaN values present is: 0 type is : int64 % of NaN values: 0.0\n",
      "card3_count_full NaN values present is: 0 type is : int64 % of NaN values: 0.0\n",
      "card4_count_full NaN values present is: 0 type is : int64 % of NaN values: 0.0\n",
      "card5_count_full NaN values present is: 0 type is : int64 % of NaN values: 0.0\n",
      "card6_count_full NaN values present is: 0 type is : int64 % of NaN values: 0.0\n",
      "addr1_count_full NaN values present is: 0 type is : int64 % of NaN values: 0.0\n",
      "addr2_count_full NaN values present is: 0 type is : int64 % of NaN values: 0.0\n",
      "TransactionAmt_to_mean_card1 NaN values present is: 0 type is : float64 % of NaN values: 0.0\n",
      "TransactionAmt_to_mean_card4 NaN values present is: 0 type is : float64 % of NaN values: 0.0\n",
      "TransactionAmt_to_std_card1 NaN values present is: 0 type is : float64 % of NaN values: 0.0\n",
      "TransactionAmt_to_std_card4 NaN values present is: 0 type is : float64 % of NaN values: 0.0\n",
      "id_02_to_mean_card1 NaN values present is: 0 type is : float64 % of NaN values: 0.0\n",
      "id_02_to_mean_card4 NaN values present is: 0 type is : float64 % of NaN values: 0.0\n",
      "id_02_to_std_card1 NaN values present is: 0 type is : float64 % of NaN values: 0.0\n",
      "id_02_to_std_card4 NaN values present is: 0 type is : float64 % of NaN values: 0.0\n",
      "D15_to_mean_card1 NaN values present is: 0 type is : float64 % of NaN values: 0.0\n",
      "D15_to_mean_card4 NaN values present is: 0 type is : float64 % of NaN values: 0.0\n",
      "D15_to_std_card1 NaN values present is: 0 type is : float64 % of NaN values: 0.0\n",
      "D15_to_std_card4 NaN values present is: 0 type is : float64 % of NaN values: 0.0\n",
      "D15_to_mean_addr1 NaN values present is: 0 type is : float64 % of NaN values: 0.0\n",
      "D15_to_std_addr1 NaN values present is: 0 type is : float64 % of NaN values: 0.0\n"
     ]
    }
   ],
   "source": [
    "for i in train.columns:\n",
    "    print(i,'NaN values present is:',train[i].isnull().sum(),end=\" \")\n",
    "    print('type is :',train[i].dtypes,end=\" \")\n",
    "    print('% of NaN values:',np.round(train[i].isnull().sum()/train.shape[0]*100,2))"
   ]
  },
  {
   "cell_type": "code",
   "execution_count": 16,
   "metadata": {
    "collapsed": true
   },
   "outputs": [],
   "source": [
    "#label encoding the categorical value\n",
    "#card4,card6,M1 to M9,DeviceType,alertFeature,card3Values,P_emaildomain_bin,P_emaildomain_suffix\n",
    "#R_emaildomain_bin,R_emaildomain_suffix,DeviceCorp,browser_id_31,version_id_31,OS_id_30"
   ]
  },
  {
   "cell_type": "code",
   "execution_count": 10,
   "metadata": {
    "collapsed": true
   },
   "outputs": [],
   "source": [
    "for i in ['card4','card6','M1','M2','M3','M4','M5','M6','M7','M8','M9','DeviceType','alertFeature','card3Values','P_emaildomain_bin',\n",
    "          'P_emaildomain_suffix','R_emaildomain_bin','R_emaildomain_suffix','DeviceCorp','browser_id_31','version_id_31','OS_id_30',\n",
    "           'version_id_30','ProductCD']:\n",
    "    le =LabelEncoder()\n",
    "    le.fit(list(train[i].astype(str).values) + list(test[i].astype(str).values))\n",
    "    train[i] = le.transform(list(train[i].astype(str).values))\n",
    "    test[i] = le.transform(list(test[i].astype(str).values))"
   ]
  },
  {
   "cell_type": "code",
   "execution_count": 15,
   "metadata": {},
   "outputs": [
    {
     "data": {
      "text/html": [
       "<div>\n",
       "<style>\n",
       "    .dataframe thead tr:only-child th {\n",
       "        text-align: right;\n",
       "    }\n",
       "\n",
       "    .dataframe thead th {\n",
       "        text-align: left;\n",
       "    }\n",
       "\n",
       "    .dataframe tbody tr th {\n",
       "        vertical-align: top;\n",
       "    }\n",
       "</style>\n",
       "<table border=\"1\" class=\"dataframe\">\n",
       "  <thead>\n",
       "    <tr style=\"text-align: right;\">\n",
       "      <th></th>\n",
       "      <th>isFraud</th>\n",
       "      <th>TransactionDT</th>\n",
       "      <th>TransactionAmt</th>\n",
       "      <th>ProductCD</th>\n",
       "      <th>card1</th>\n",
       "      <th>card2</th>\n",
       "      <th>card3</th>\n",
       "      <th>card4</th>\n",
       "      <th>card5</th>\n",
       "      <th>card6</th>\n",
       "      <th>...</th>\n",
       "      <th>id_02_to_mean_card1</th>\n",
       "      <th>id_02_to_mean_card4</th>\n",
       "      <th>id_02_to_std_card1</th>\n",
       "      <th>id_02_to_std_card4</th>\n",
       "      <th>D15_to_mean_card1</th>\n",
       "      <th>D15_to_mean_card4</th>\n",
       "      <th>D15_to_std_card1</th>\n",
       "      <th>D15_to_std_card4</th>\n",
       "      <th>D15_to_mean_addr1</th>\n",
       "      <th>D15_to_std_addr1</th>\n",
       "    </tr>\n",
       "  </thead>\n",
       "  <tbody>\n",
       "    <tr>\n",
       "      <th>0</th>\n",
       "      <td>0</td>\n",
       "      <td>86400</td>\n",
       "      <td>68.5</td>\n",
       "      <td>4</td>\n",
       "      <td>13926</td>\n",
       "      <td>362.55467</td>\n",
       "      <td>150.0</td>\n",
       "      <td>1</td>\n",
       "      <td>142.0</td>\n",
       "      <td>0</td>\n",
       "      <td>...</td>\n",
       "      <td>0.422530</td>\n",
       "      <td>0.413902</td>\n",
       "      <td>0.673947</td>\n",
       "      <td>0.461592</td>\n",
       "      <td>0.000000</td>\n",
       "      <td>0.000000</td>\n",
       "      <td>0.000000</td>\n",
       "      <td>0.000000</td>\n",
       "      <td>0.000000</td>\n",
       "      <td>0.000000</td>\n",
       "    </tr>\n",
       "    <tr>\n",
       "      <th>1</th>\n",
       "      <td>0</td>\n",
       "      <td>86401</td>\n",
       "      <td>29.0</td>\n",
       "      <td>4</td>\n",
       "      <td>2755</td>\n",
       "      <td>404.00000</td>\n",
       "      <td>150.0</td>\n",
       "      <td>2</td>\n",
       "      <td>102.0</td>\n",
       "      <td>0</td>\n",
       "      <td>...</td>\n",
       "      <td>0.573879</td>\n",
       "      <td>0.570437</td>\n",
       "      <td>0.591021</td>\n",
       "      <td>0.622173</td>\n",
       "      <td>0.000000</td>\n",
       "      <td>0.000000</td>\n",
       "      <td>0.000000</td>\n",
       "      <td>0.000000</td>\n",
       "      <td>0.000000</td>\n",
       "      <td>0.000000</td>\n",
       "    </tr>\n",
       "    <tr>\n",
       "      <th>2</th>\n",
       "      <td>0</td>\n",
       "      <td>86469</td>\n",
       "      <td>59.0</td>\n",
       "      <td>4</td>\n",
       "      <td>4663</td>\n",
       "      <td>490.00000</td>\n",
       "      <td>150.0</td>\n",
       "      <td>3</td>\n",
       "      <td>166.0</td>\n",
       "      <td>1</td>\n",
       "      <td>...</td>\n",
       "      <td>1.057784</td>\n",
       "      <td>1.095840</td>\n",
       "      <td>1.186661</td>\n",
       "      <td>1.200134</td>\n",
       "      <td>2.518583</td>\n",
       "      <td>1.865833</td>\n",
       "      <td>1.851016</td>\n",
       "      <td>1.541441</td>\n",
       "      <td>1.611525</td>\n",
       "      <td>1.486472</td>\n",
       "    </tr>\n",
       "    <tr>\n",
       "      <th>3</th>\n",
       "      <td>0</td>\n",
       "      <td>86499</td>\n",
       "      <td>50.0</td>\n",
       "      <td>4</td>\n",
       "      <td>18132</td>\n",
       "      <td>567.00000</td>\n",
       "      <td>150.0</td>\n",
       "      <td>2</td>\n",
       "      <td>117.0</td>\n",
       "      <td>1</td>\n",
       "      <td>...</td>\n",
       "      <td>1.304678</td>\n",
       "      <td>1.278904</td>\n",
       "      <td>1.360737</td>\n",
       "      <td>1.394895</td>\n",
       "      <td>0.550272</td>\n",
       "      <td>0.720027</td>\n",
       "      <td>0.520531</td>\n",
       "      <td>0.558391</td>\n",
       "      <td>0.686169</td>\n",
       "      <td>0.576638</td>\n",
       "    </tr>\n",
       "    <tr>\n",
       "      <th>4</th>\n",
       "      <td>0</td>\n",
       "      <td>86506</td>\n",
       "      <td>50.0</td>\n",
       "      <td>1</td>\n",
       "      <td>4497</td>\n",
       "      <td>514.00000</td>\n",
       "      <td>150.0</td>\n",
       "      <td>2</td>\n",
       "      <td>102.0</td>\n",
       "      <td>0</td>\n",
       "      <td>...</td>\n",
       "      <td>0.094114</td>\n",
       "      <td>0.043008</td>\n",
       "      <td>0.073463</td>\n",
       "      <td>0.046909</td>\n",
       "      <td>1.000000</td>\n",
       "      <td>1.000000</td>\n",
       "      <td>inf</td>\n",
       "      <td>0.808191</td>\n",
       "      <td>1.000000</td>\n",
       "      <td>inf</td>\n",
       "    </tr>\n",
       "  </tbody>\n",
       "</table>\n",
       "<p>5 rows × 431 columns</p>\n",
       "</div>"
      ],
      "text/plain": [
       "   isFraud  TransactionDT  TransactionAmt  ProductCD  card1      card2  card3  \\\n",
       "0        0          86400            68.5          4  13926  362.55467  150.0   \n",
       "1        0          86401            29.0          4   2755  404.00000  150.0   \n",
       "2        0          86469            59.0          4   4663  490.00000  150.0   \n",
       "3        0          86499            50.0          4  18132  567.00000  150.0   \n",
       "4        0          86506            50.0          1   4497  514.00000  150.0   \n",
       "\n",
       "   card4  card5  card6        ...         id_02_to_mean_card1  \\\n",
       "0      1  142.0      0        ...                    0.422530   \n",
       "1      2  102.0      0        ...                    0.573879   \n",
       "2      3  166.0      1        ...                    1.057784   \n",
       "3      2  117.0      1        ...                    1.304678   \n",
       "4      2  102.0      0        ...                    0.094114   \n",
       "\n",
       "   id_02_to_mean_card4  id_02_to_std_card1  id_02_to_std_card4  \\\n",
       "0             0.413902            0.673947            0.461592   \n",
       "1             0.570437            0.591021            0.622173   \n",
       "2             1.095840            1.186661            1.200134   \n",
       "3             1.278904            1.360737            1.394895   \n",
       "4             0.043008            0.073463            0.046909   \n",
       "\n",
       "   D15_to_mean_card1  D15_to_mean_card4  D15_to_std_card1  D15_to_std_card4  \\\n",
       "0           0.000000           0.000000          0.000000          0.000000   \n",
       "1           0.000000           0.000000          0.000000          0.000000   \n",
       "2           2.518583           1.865833          1.851016          1.541441   \n",
       "3           0.550272           0.720027          0.520531          0.558391   \n",
       "4           1.000000           1.000000               inf          0.808191   \n",
       "\n",
       "   D15_to_mean_addr1  D15_to_std_addr1  \n",
       "0           0.000000          0.000000  \n",
       "1           0.000000          0.000000  \n",
       "2           1.611525          1.486472  \n",
       "3           0.686169          0.576638  \n",
       "4           1.000000               inf  \n",
       "\n",
       "[5 rows x 431 columns]"
      ]
     },
     "execution_count": 15,
     "metadata": {},
     "output_type": "execute_result"
    }
   ],
   "source": [
    "train.head()"
   ]
  },
  {
   "cell_type": "code",
   "execution_count": 16,
   "metadata": {
    "collapsed": true
   },
   "outputs": [],
   "source": [
    "#we can see some of the inf values are occuring in the dataframe\n",
    "#lets convert this inf value to NaN then impute using the mean\n",
    "train.replace([np.inf, -np.inf], np.nan,inplace=True)\n",
    "test.replace([np.inf, -np.inf], np.nan,inplace=True)"
   ]
  },
  {
   "cell_type": "code",
   "execution_count": 18,
   "metadata": {},
   "outputs": [
    {
     "name": "stdout",
     "output_type": "stream",
     "text": [
      "isFraud NaN values present is: 0 type is : int64 % of NaN values: 0.0\n",
      "TransactionDT NaN values present is: 0 type is : int64 % of NaN values: 0.0\n",
      "TransactionAmt NaN values present is: 0 type is : float64 % of NaN values: 0.0\n",
      "ProductCD NaN values present is: 0 type is : int64 % of NaN values: 0.0\n",
      "card1 NaN values present is: 0 type is : int64 % of NaN values: 0.0\n",
      "card2 NaN values present is: 0 type is : float64 % of NaN values: 0.0\n",
      "card3 NaN values present is: 0 type is : float64 % of NaN values: 0.0\n",
      "card4 NaN values present is: 0 type is : int64 % of NaN values: 0.0\n",
      "card5 NaN values present is: 0 type is : float64 % of NaN values: 0.0\n",
      "card6 NaN values present is: 0 type is : int64 % of NaN values: 0.0\n",
      "addr1 NaN values present is: 0 type is : float64 % of NaN values: 0.0\n",
      "addr2 NaN values present is: 0 type is : float64 % of NaN values: 0.0\n",
      "dist1 NaN values present is: 0 type is : float64 % of NaN values: 0.0\n",
      "dist2 NaN values present is: 0 type is : float64 % of NaN values: 0.0\n",
      "C1 NaN values present is: 0 type is : float64 % of NaN values: 0.0\n",
      "C2 NaN values present is: 0 type is : float64 % of NaN values: 0.0\n",
      "C3 NaN values present is: 0 type is : float64 % of NaN values: 0.0\n",
      "C4 NaN values present is: 0 type is : float64 % of NaN values: 0.0\n",
      "C5 NaN values present is: 0 type is : float64 % of NaN values: 0.0\n",
      "C6 NaN values present is: 0 type is : float64 % of NaN values: 0.0\n",
      "C7 NaN values present is: 0 type is : float64 % of NaN values: 0.0\n",
      "C8 NaN values present is: 0 type is : float64 % of NaN values: 0.0\n",
      "C9 NaN values present is: 0 type is : float64 % of NaN values: 0.0\n",
      "C10 NaN values present is: 0 type is : float64 % of NaN values: 0.0\n",
      "C11 NaN values present is: 0 type is : float64 % of NaN values: 0.0\n",
      "C12 NaN values present is: 0 type is : float64 % of NaN values: 0.0\n",
      "C13 NaN values present is: 0 type is : float64 % of NaN values: 0.0\n",
      "C14 NaN values present is: 0 type is : float64 % of NaN values: 0.0\n",
      "D1 NaN values present is: 0 type is : float64 % of NaN values: 0.0\n",
      "D2 NaN values present is: 0 type is : float64 % of NaN values: 0.0\n",
      "D3 NaN values present is: 0 type is : float64 % of NaN values: 0.0\n",
      "D4 NaN values present is: 0 type is : float64 % of NaN values: 0.0\n",
      "D5 NaN values present is: 0 type is : float64 % of NaN values: 0.0\n",
      "D6 NaN values present is: 0 type is : float64 % of NaN values: 0.0\n",
      "D7 NaN values present is: 0 type is : float64 % of NaN values: 0.0\n",
      "D8 NaN values present is: 0 type is : float64 % of NaN values: 0.0\n",
      "D9 NaN values present is: 0 type is : float64 % of NaN values: 0.0\n",
      "D10 NaN values present is: 0 type is : float64 % of NaN values: 0.0\n",
      "D11 NaN values present is: 0 type is : float64 % of NaN values: 0.0\n",
      "D12 NaN values present is: 0 type is : float64 % of NaN values: 0.0\n",
      "D13 NaN values present is: 0 type is : float64 % of NaN values: 0.0\n",
      "D14 NaN values present is: 0 type is : float64 % of NaN values: 0.0\n",
      "D15 NaN values present is: 0 type is : float64 % of NaN values: 0.0\n",
      "M1 NaN values present is: 0 type is : int64 % of NaN values: 0.0\n",
      "M2 NaN values present is: 0 type is : int64 % of NaN values: 0.0\n",
      "M3 NaN values present is: 0 type is : int64 % of NaN values: 0.0\n",
      "M4 NaN values present is: 0 type is : int64 % of NaN values: 0.0\n",
      "M5 NaN values present is: 0 type is : int64 % of NaN values: 0.0\n",
      "M6 NaN values present is: 0 type is : int64 % of NaN values: 0.0\n",
      "M7 NaN values present is: 0 type is : int64 % of NaN values: 0.0\n",
      "M8 NaN values present is: 0 type is : int64 % of NaN values: 0.0\n",
      "M9 NaN values present is: 0 type is : int64 % of NaN values: 0.0\n",
      "V1 NaN values present is: 0 type is : float64 % of NaN values: 0.0\n",
      "V2 NaN values present is: 0 type is : float64 % of NaN values: 0.0\n",
      "V3 NaN values present is: 0 type is : float64 % of NaN values: 0.0\n",
      "V4 NaN values present is: 0 type is : float64 % of NaN values: 0.0\n",
      "V5 NaN values present is: 0 type is : float64 % of NaN values: 0.0\n",
      "V6 NaN values present is: 0 type is : float64 % of NaN values: 0.0\n",
      "V7 NaN values present is: 0 type is : float64 % of NaN values: 0.0\n",
      "V8 NaN values present is: 0 type is : float64 % of NaN values: 0.0\n",
      "V9 NaN values present is: 0 type is : float64 % of NaN values: 0.0\n",
      "V10 NaN values present is: 0 type is : float64 % of NaN values: 0.0\n",
      "V11 NaN values present is: 0 type is : float64 % of NaN values: 0.0\n",
      "V12 NaN values present is: 0 type is : float64 % of NaN values: 0.0\n",
      "V13 NaN values present is: 0 type is : float64 % of NaN values: 0.0\n",
      "V14 NaN values present is: 0 type is : float64 % of NaN values: 0.0\n",
      "V15 NaN values present is: 0 type is : float64 % of NaN values: 0.0\n",
      "V16 NaN values present is: 0 type is : float64 % of NaN values: 0.0\n",
      "V17 NaN values present is: 0 type is : float64 % of NaN values: 0.0\n",
      "V18 NaN values present is: 0 type is : float64 % of NaN values: 0.0\n",
      "V19 NaN values present is: 0 type is : float64 % of NaN values: 0.0\n",
      "V20 NaN values present is: 0 type is : float64 % of NaN values: 0.0\n",
      "V21 NaN values present is: 0 type is : float64 % of NaN values: 0.0\n",
      "V22 NaN values present is: 0 type is : float64 % of NaN values: 0.0\n",
      "V23 NaN values present is: 0 type is : float64 % of NaN values: 0.0\n",
      "V24 NaN values present is: 0 type is : float64 % of NaN values: 0.0\n",
      "V25 NaN values present is: 0 type is : float64 % of NaN values: 0.0\n",
      "V26 NaN values present is: 0 type is : float64 % of NaN values: 0.0\n",
      "V27 NaN values present is: 0 type is : float64 % of NaN values: 0.0\n",
      "V28 NaN values present is: 0 type is : float64 % of NaN values: 0.0\n",
      "V29 NaN values present is: 0 type is : float64 % of NaN values: 0.0\n",
      "V30 NaN values present is: 0 type is : float64 % of NaN values: 0.0\n",
      "V31 NaN values present is: 0 type is : float64 % of NaN values: 0.0\n",
      "V32 NaN values present is: 0 type is : float64 % of NaN values: 0.0\n",
      "V33 NaN values present is: 0 type is : float64 % of NaN values: 0.0\n",
      "V34 NaN values present is: 0 type is : float64 % of NaN values: 0.0\n",
      "V35 NaN values present is: 0 type is : float64 % of NaN values: 0.0\n",
      "V36 NaN values present is: 0 type is : float64 % of NaN values: 0.0\n",
      "V37 NaN values present is: 0 type is : float64 % of NaN values: 0.0\n",
      "V38 NaN values present is: 0 type is : float64 % of NaN values: 0.0\n",
      "V39 NaN values present is: 0 type is : float64 % of NaN values: 0.0\n",
      "V40 NaN values present is: 0 type is : float64 % of NaN values: 0.0\n",
      "V41 NaN values present is: 0 type is : float64 % of NaN values: 0.0\n",
      "V42 NaN values present is: 0 type is : float64 % of NaN values: 0.0\n",
      "V43 NaN values present is: 0 type is : float64 % of NaN values: 0.0\n",
      "V44 NaN values present is: 0 type is : float64 % of NaN values: 0.0\n",
      "V45 NaN values present is: 0 type is : float64 % of NaN values: 0.0\n",
      "V46 NaN values present is: 0 type is : float64 % of NaN values: 0.0\n",
      "V47 NaN values present is: 0 type is : float64 % of NaN values: 0.0\n",
      "V48 NaN values present is: 0 type is : float64 % of NaN values: 0.0\n",
      "V49 NaN values present is: 0 type is : float64 % of NaN values: 0.0\n",
      "V50 NaN values present is: 0 type is : float64 % of NaN values: 0.0\n",
      "V51 NaN values present is: 0 type is : float64 % of NaN values: 0.0\n",
      "V52 NaN values present is: 0 type is : float64 % of NaN values: 0.0\n",
      "V53 NaN values present is: 0 type is : float64 % of NaN values: 0.0\n",
      "V54 NaN values present is: 0 type is : float64 % of NaN values: 0.0\n",
      "V55 NaN values present is: 0 type is : float64 % of NaN values: 0.0\n",
      "V56 NaN values present is: 0 type is : float64 % of NaN values: 0.0\n",
      "V57 NaN values present is: 0 type is : float64 % of NaN values: 0.0\n",
      "V58 NaN values present is: 0 type is : float64 % of NaN values: 0.0\n",
      "V59 NaN values present is: 0 type is : float64 % of NaN values: 0.0\n",
      "V60 NaN values present is: 0 type is : float64 % of NaN values: 0.0\n",
      "V61 NaN values present is: 0 type is : float64 % of NaN values: 0.0\n",
      "V62 NaN values present is: 0 type is : float64 % of NaN values: 0.0\n",
      "V63 NaN values present is: 0 type is : float64 % of NaN values: 0.0\n",
      "V64 NaN values present is: 0 type is : float64 % of NaN values: 0.0\n",
      "V65 NaN values present is: 0 type is : float64 % of NaN values: 0.0\n",
      "V66 NaN values present is: 0 type is : float64 % of NaN values: 0.0\n",
      "V67 NaN values present is: 0 type is : float64 % of NaN values: 0.0\n",
      "V68 NaN values present is: 0 type is : float64 % of NaN values: 0.0\n",
      "V69 NaN values present is: 0 type is : float64 % of NaN values: 0.0\n"
     ]
    },
    {
     "name": "stdout",
     "output_type": "stream",
     "text": [
      "V70 NaN values present is: 0 type is : float64 % of NaN values: 0.0\n",
      "V71 NaN values present is: 0 type is : float64 % of NaN values: 0.0\n",
      "V72 NaN values present is: 0 type is : float64 % of NaN values: 0.0\n",
      "V73 NaN values present is: 0 type is : float64 % of NaN values: 0.0\n",
      "V74 NaN values present is: 0 type is : float64 % of NaN values: 0.0\n",
      "V75 NaN values present is: 0 type is : float64 % of NaN values: 0.0\n",
      "V76 NaN values present is: 0 type is : float64 % of NaN values: 0.0\n",
      "V77 NaN values present is: 0 type is : float64 % of NaN values: 0.0\n",
      "V78 NaN values present is: 0 type is : float64 % of NaN values: 0.0\n",
      "V79 NaN values present is: 0 type is : float64 % of NaN values: 0.0\n",
      "V80 NaN values present is: 0 type is : float64 % of NaN values: 0.0\n",
      "V81 NaN values present is: 0 type is : float64 % of NaN values: 0.0\n",
      "V82 NaN values present is: 0 type is : float64 % of NaN values: 0.0\n",
      "V83 NaN values present is: 0 type is : float64 % of NaN values: 0.0\n",
      "V84 NaN values present is: 0 type is : float64 % of NaN values: 0.0\n",
      "V85 NaN values present is: 0 type is : float64 % of NaN values: 0.0\n",
      "V86 NaN values present is: 0 type is : float64 % of NaN values: 0.0\n",
      "V87 NaN values present is: 0 type is : float64 % of NaN values: 0.0\n",
      "V88 NaN values present is: 0 type is : float64 % of NaN values: 0.0\n",
      "V89 NaN values present is: 0 type is : float64 % of NaN values: 0.0\n",
      "V90 NaN values present is: 0 type is : float64 % of NaN values: 0.0\n",
      "V91 NaN values present is: 0 type is : float64 % of NaN values: 0.0\n",
      "V92 NaN values present is: 0 type is : float64 % of NaN values: 0.0\n",
      "V93 NaN values present is: 0 type is : float64 % of NaN values: 0.0\n",
      "V94 NaN values present is: 0 type is : float64 % of NaN values: 0.0\n",
      "V95 NaN values present is: 0 type is : float64 % of NaN values: 0.0\n",
      "V96 NaN values present is: 0 type is : float64 % of NaN values: 0.0\n",
      "V97 NaN values present is: 0 type is : float64 % of NaN values: 0.0\n",
      "V98 NaN values present is: 0 type is : float64 % of NaN values: 0.0\n",
      "V99 NaN values present is: 0 type is : float64 % of NaN values: 0.0\n",
      "V100 NaN values present is: 0 type is : float64 % of NaN values: 0.0\n",
      "V101 NaN values present is: 0 type is : float64 % of NaN values: 0.0\n",
      "V102 NaN values present is: 0 type is : float64 % of NaN values: 0.0\n",
      "V103 NaN values present is: 0 type is : float64 % of NaN values: 0.0\n",
      "V104 NaN values present is: 0 type is : float64 % of NaN values: 0.0\n",
      "V105 NaN values present is: 0 type is : float64 % of NaN values: 0.0\n",
      "V106 NaN values present is: 0 type is : float64 % of NaN values: 0.0\n",
      "V107 NaN values present is: 0 type is : float64 % of NaN values: 0.0\n",
      "V108 NaN values present is: 0 type is : float64 % of NaN values: 0.0\n",
      "V109 NaN values present is: 0 type is : float64 % of NaN values: 0.0\n",
      "V110 NaN values present is: 0 type is : float64 % of NaN values: 0.0\n",
      "V111 NaN values present is: 0 type is : float64 % of NaN values: 0.0\n",
      "V112 NaN values present is: 0 type is : float64 % of NaN values: 0.0\n",
      "V113 NaN values present is: 0 type is : float64 % of NaN values: 0.0\n",
      "V114 NaN values present is: 0 type is : float64 % of NaN values: 0.0\n",
      "V115 NaN values present is: 0 type is : float64 % of NaN values: 0.0\n",
      "V116 NaN values present is: 0 type is : float64 % of NaN values: 0.0\n",
      "V117 NaN values present is: 0 type is : float64 % of NaN values: 0.0\n",
      "V118 NaN values present is: 0 type is : float64 % of NaN values: 0.0\n",
      "V119 NaN values present is: 0 type is : float64 % of NaN values: 0.0\n",
      "V120 NaN values present is: 0 type is : float64 % of NaN values: 0.0\n",
      "V121 NaN values present is: 0 type is : float64 % of NaN values: 0.0\n",
      "V122 NaN values present is: 0 type is : float64 % of NaN values: 0.0\n",
      "V123 NaN values present is: 0 type is : float64 % of NaN values: 0.0\n",
      "V124 NaN values present is: 0 type is : float64 % of NaN values: 0.0\n",
      "V125 NaN values present is: 0 type is : float64 % of NaN values: 0.0\n",
      "V126 NaN values present is: 0 type is : float64 % of NaN values: 0.0\n",
      "V127 NaN values present is: 0 type is : float64 % of NaN values: 0.0\n",
      "V128 NaN values present is: 0 type is : float64 % of NaN values: 0.0\n",
      "V129 NaN values present is: 0 type is : float64 % of NaN values: 0.0\n",
      "V130 NaN values present is: 0 type is : float64 % of NaN values: 0.0\n",
      "V131 NaN values present is: 0 type is : float64 % of NaN values: 0.0\n",
      "V132 NaN values present is: 0 type is : float64 % of NaN values: 0.0\n",
      "V133 NaN values present is: 0 type is : float64 % of NaN values: 0.0\n",
      "V134 NaN values present is: 0 type is : float64 % of NaN values: 0.0\n",
      "V135 NaN values present is: 0 type is : float64 % of NaN values: 0.0\n",
      "V136 NaN values present is: 0 type is : float64 % of NaN values: 0.0\n",
      "V137 NaN values present is: 0 type is : float64 % of NaN values: 0.0\n",
      "V138 NaN values present is: 0 type is : float64 % of NaN values: 0.0\n",
      "V139 NaN values present is: 0 type is : float64 % of NaN values: 0.0\n",
      "V140 NaN values present is: 0 type is : float64 % of NaN values: 0.0\n",
      "V141 NaN values present is: 0 type is : float64 % of NaN values: 0.0\n",
      "V142 NaN values present is: 0 type is : float64 % of NaN values: 0.0\n",
      "V143 NaN values present is: 0 type is : float64 % of NaN values: 0.0\n",
      "V144 NaN values present is: 0 type is : float64 % of NaN values: 0.0\n",
      "V145 NaN values present is: 0 type is : float64 % of NaN values: 0.0\n",
      "V146 NaN values present is: 0 type is : float64 % of NaN values: 0.0\n",
      "V147 NaN values present is: 0 type is : float64 % of NaN values: 0.0\n",
      "V148 NaN values present is: 0 type is : float64 % of NaN values: 0.0\n",
      "V149 NaN values present is: 0 type is : float64 % of NaN values: 0.0\n",
      "V150 NaN values present is: 0 type is : float64 % of NaN values: 0.0\n",
      "V151 NaN values present is: 0 type is : float64 % of NaN values: 0.0\n",
      "V152 NaN values present is: 0 type is : float64 % of NaN values: 0.0\n",
      "V153 NaN values present is: 0 type is : float64 % of NaN values: 0.0\n",
      "V154 NaN values present is: 0 type is : float64 % of NaN values: 0.0\n",
      "V155 NaN values present is: 0 type is : float64 % of NaN values: 0.0\n",
      "V156 NaN values present is: 0 type is : float64 % of NaN values: 0.0\n",
      "V157 NaN values present is: 0 type is : float64 % of NaN values: 0.0\n",
      "V158 NaN values present is: 0 type is : float64 % of NaN values: 0.0\n",
      "V159 NaN values present is: 0 type is : float64 % of NaN values: 0.0\n",
      "V160 NaN values present is: 0 type is : float64 % of NaN values: 0.0\n",
      "V161 NaN values present is: 0 type is : float64 % of NaN values: 0.0\n",
      "V162 NaN values present is: 0 type is : float64 % of NaN values: 0.0\n",
      "V163 NaN values present is: 0 type is : float64 % of NaN values: 0.0\n",
      "V164 NaN values present is: 0 type is : float64 % of NaN values: 0.0\n",
      "V165 NaN values present is: 0 type is : float64 % of NaN values: 0.0\n",
      "V166 NaN values present is: 0 type is : float64 % of NaN values: 0.0\n",
      "V167 NaN values present is: 0 type is : float64 % of NaN values: 0.0\n",
      "V168 NaN values present is: 0 type is : float64 % of NaN values: 0.0\n",
      "V169 NaN values present is: 0 type is : float64 % of NaN values: 0.0\n",
      "V170 NaN values present is: 0 type is : float64 % of NaN values: 0.0\n",
      "V171 NaN values present is: 0 type is : float64 % of NaN values: 0.0\n",
      "V172 NaN values present is: 0 type is : float64 % of NaN values: 0.0\n",
      "V173 NaN values present is: 0 type is : float64 % of NaN values: 0.0\n",
      "V174 NaN values present is: 0 type is : float64 % of NaN values: 0.0\n",
      "V175 NaN values present is: 0 type is : float64 % of NaN values: 0.0\n",
      "V176 NaN values present is: 0 type is : float64 % of NaN values: 0.0\n",
      "V177 NaN values present is: 0 type is : float64 % of NaN values: 0.0\n",
      "V178 NaN values present is: 0 type is : float64 % of NaN values: 0.0\n",
      "V179 NaN values present is: 0 type is : float64 % of NaN values: 0.0\n",
      "V180 NaN values present is: 0 type is : float64 % of NaN values: 0.0\n",
      "V181 NaN values present is: 0 type is : float64 % of NaN values: 0.0\n",
      "V182 NaN values present is: 0 type is : float64 % of NaN values: 0.0\n",
      "V183 NaN values present is: 0 type is : float64 % of NaN values: 0.0\n",
      "V184 NaN values present is: 0 type is : float64 % of NaN values: 0.0\n",
      "V185 NaN values present is: 0 type is : float64 % of NaN values: 0.0\n",
      "V186 NaN values present is: 0 type is : float64 % of NaN values: 0.0\n",
      "V187 NaN values present is: 0 type is : float64 % of NaN values: 0.0\n",
      "V188 NaN values present is: 0 type is : float64 % of NaN values: 0.0\n",
      "V189 NaN values present is: 0 type is : float64 % of NaN values: 0.0\n"
     ]
    },
    {
     "name": "stdout",
     "output_type": "stream",
     "text": [
      "V190 NaN values present is: 0 type is : float64 % of NaN values: 0.0\n",
      "V191 NaN values present is: 0 type is : float64 % of NaN values: 0.0\n",
      "V192 NaN values present is: 0 type is : float64 % of NaN values: 0.0\n",
      "V193 NaN values present is: 0 type is : float64 % of NaN values: 0.0\n",
      "V194 NaN values present is: 0 type is : float64 % of NaN values: 0.0\n",
      "V195 NaN values present is: 0 type is : float64 % of NaN values: 0.0\n",
      "V196 NaN values present is: 0 type is : float64 % of NaN values: 0.0\n",
      "V197 NaN values present is: 0 type is : float64 % of NaN values: 0.0\n",
      "V198 NaN values present is: 0 type is : float64 % of NaN values: 0.0\n",
      "V199 NaN values present is: 0 type is : float64 % of NaN values: 0.0\n",
      "V200 NaN values present is: 0 type is : float64 % of NaN values: 0.0\n",
      "V201 NaN values present is: 0 type is : float64 % of NaN values: 0.0\n",
      "V202 NaN values present is: 0 type is : float64 % of NaN values: 0.0\n",
      "V203 NaN values present is: 0 type is : float64 % of NaN values: 0.0\n",
      "V204 NaN values present is: 0 type is : float64 % of NaN values: 0.0\n",
      "V205 NaN values present is: 0 type is : float64 % of NaN values: 0.0\n",
      "V206 NaN values present is: 0 type is : float64 % of NaN values: 0.0\n",
      "V207 NaN values present is: 0 type is : float64 % of NaN values: 0.0\n",
      "V208 NaN values present is: 0 type is : float64 % of NaN values: 0.0\n",
      "V209 NaN values present is: 0 type is : float64 % of NaN values: 0.0\n",
      "V210 NaN values present is: 0 type is : float64 % of NaN values: 0.0\n",
      "V211 NaN values present is: 0 type is : float64 % of NaN values: 0.0\n",
      "V212 NaN values present is: 0 type is : float64 % of NaN values: 0.0\n",
      "V213 NaN values present is: 0 type is : float64 % of NaN values: 0.0\n",
      "V214 NaN values present is: 0 type is : float64 % of NaN values: 0.0\n",
      "V215 NaN values present is: 0 type is : float64 % of NaN values: 0.0\n",
      "V216 NaN values present is: 0 type is : float64 % of NaN values: 0.0\n",
      "V217 NaN values present is: 0 type is : float64 % of NaN values: 0.0\n",
      "V218 NaN values present is: 0 type is : float64 % of NaN values: 0.0\n",
      "V219 NaN values present is: 0 type is : float64 % of NaN values: 0.0\n",
      "V220 NaN values present is: 0 type is : float64 % of NaN values: 0.0\n",
      "V221 NaN values present is: 0 type is : float64 % of NaN values: 0.0\n",
      "V222 NaN values present is: 0 type is : float64 % of NaN values: 0.0\n",
      "V223 NaN values present is: 0 type is : float64 % of NaN values: 0.0\n",
      "V224 NaN values present is: 0 type is : float64 % of NaN values: 0.0\n",
      "V225 NaN values present is: 0 type is : float64 % of NaN values: 0.0\n",
      "V226 NaN values present is: 0 type is : float64 % of NaN values: 0.0\n",
      "V227 NaN values present is: 0 type is : float64 % of NaN values: 0.0\n",
      "V228 NaN values present is: 0 type is : float64 % of NaN values: 0.0\n",
      "V229 NaN values present is: 0 type is : float64 % of NaN values: 0.0\n",
      "V230 NaN values present is: 0 type is : float64 % of NaN values: 0.0\n",
      "V231 NaN values present is: 0 type is : float64 % of NaN values: 0.0\n",
      "V232 NaN values present is: 0 type is : float64 % of NaN values: 0.0\n",
      "V233 NaN values present is: 0 type is : float64 % of NaN values: 0.0\n",
      "V234 NaN values present is: 0 type is : float64 % of NaN values: 0.0\n",
      "V235 NaN values present is: 0 type is : float64 % of NaN values: 0.0\n",
      "V236 NaN values present is: 0 type is : float64 % of NaN values: 0.0\n",
      "V237 NaN values present is: 0 type is : float64 % of NaN values: 0.0\n",
      "V238 NaN values present is: 0 type is : float64 % of NaN values: 0.0\n",
      "V239 NaN values present is: 0 type is : float64 % of NaN values: 0.0\n",
      "V240 NaN values present is: 0 type is : float64 % of NaN values: 0.0\n",
      "V241 NaN values present is: 0 type is : float64 % of NaN values: 0.0\n",
      "V242 NaN values present is: 0 type is : float64 % of NaN values: 0.0\n",
      "V243 NaN values present is: 0 type is : float64 % of NaN values: 0.0\n",
      "V244 NaN values present is: 0 type is : float64 % of NaN values: 0.0\n",
      "V245 NaN values present is: 0 type is : float64 % of NaN values: 0.0\n",
      "V246 NaN values present is: 0 type is : float64 % of NaN values: 0.0\n",
      "V247 NaN values present is: 0 type is : float64 % of NaN values: 0.0\n",
      "V248 NaN values present is: 0 type is : float64 % of NaN values: 0.0\n",
      "V249 NaN values present is: 0 type is : float64 % of NaN values: 0.0\n",
      "V250 NaN values present is: 0 type is : float64 % of NaN values: 0.0\n",
      "V251 NaN values present is: 0 type is : float64 % of NaN values: 0.0\n",
      "V252 NaN values present is: 0 type is : float64 % of NaN values: 0.0\n",
      "V253 NaN values present is: 0 type is : float64 % of NaN values: 0.0\n",
      "V254 NaN values present is: 0 type is : float64 % of NaN values: 0.0\n",
      "V255 NaN values present is: 0 type is : float64 % of NaN values: 0.0\n",
      "V256 NaN values present is: 0 type is : float64 % of NaN values: 0.0\n",
      "V257 NaN values present is: 0 type is : float64 % of NaN values: 0.0\n",
      "V258 NaN values present is: 0 type is : float64 % of NaN values: 0.0\n",
      "V259 NaN values present is: 0 type is : float64 % of NaN values: 0.0\n",
      "V260 NaN values present is: 0 type is : float64 % of NaN values: 0.0\n",
      "V261 NaN values present is: 0 type is : float64 % of NaN values: 0.0\n",
      "V262 NaN values present is: 0 type is : float64 % of NaN values: 0.0\n",
      "V263 NaN values present is: 0 type is : float64 % of NaN values: 0.0\n",
      "V264 NaN values present is: 0 type is : float64 % of NaN values: 0.0\n",
      "V265 NaN values present is: 0 type is : float64 % of NaN values: 0.0\n",
      "V266 NaN values present is: 0 type is : float64 % of NaN values: 0.0\n",
      "V267 NaN values present is: 0 type is : float64 % of NaN values: 0.0\n",
      "V268 NaN values present is: 0 type is : float64 % of NaN values: 0.0\n",
      "V269 NaN values present is: 0 type is : float64 % of NaN values: 0.0\n",
      "V270 NaN values present is: 0 type is : float64 % of NaN values: 0.0\n",
      "V271 NaN values present is: 0 type is : float64 % of NaN values: 0.0\n",
      "V272 NaN values present is: 0 type is : float64 % of NaN values: 0.0\n",
      "V273 NaN values present is: 0 type is : float64 % of NaN values: 0.0\n",
      "V274 NaN values present is: 0 type is : float64 % of NaN values: 0.0\n",
      "V275 NaN values present is: 0 type is : float64 % of NaN values: 0.0\n",
      "V276 NaN values present is: 0 type is : float64 % of NaN values: 0.0\n",
      "V277 NaN values present is: 0 type is : float64 % of NaN values: 0.0\n",
      "V278 NaN values present is: 0 type is : float64 % of NaN values: 0.0\n",
      "V279 NaN values present is: 0 type is : float64 % of NaN values: 0.0\n",
      "V280 NaN values present is: 0 type is : float64 % of NaN values: 0.0\n",
      "V281 NaN values present is: 0 type is : float64 % of NaN values: 0.0\n",
      "V282 NaN values present is: 0 type is : float64 % of NaN values: 0.0\n",
      "V283 NaN values present is: 0 type is : float64 % of NaN values: 0.0\n",
      "V284 NaN values present is: 0 type is : float64 % of NaN values: 0.0\n",
      "V285 NaN values present is: 0 type is : float64 % of NaN values: 0.0\n",
      "V286 NaN values present is: 0 type is : float64 % of NaN values: 0.0\n",
      "V287 NaN values present is: 0 type is : float64 % of NaN values: 0.0\n",
      "V288 NaN values present is: 0 type is : float64 % of NaN values: 0.0\n",
      "V289 NaN values present is: 0 type is : float64 % of NaN values: 0.0\n",
      "V290 NaN values present is: 0 type is : float64 % of NaN values: 0.0\n",
      "V291 NaN values present is: 0 type is : float64 % of NaN values: 0.0\n",
      "V292 NaN values present is: 0 type is : float64 % of NaN values: 0.0\n",
      "V293 NaN values present is: 0 type is : float64 % of NaN values: 0.0\n",
      "V294 NaN values present is: 0 type is : float64 % of NaN values: 0.0\n",
      "V295 NaN values present is: 0 type is : float64 % of NaN values: 0.0\n",
      "V296 NaN values present is: 0 type is : float64 % of NaN values: 0.0\n",
      "V297 NaN values present is: 0 type is : float64 % of NaN values: 0.0\n",
      "V298 NaN values present is: 0 type is : float64 % of NaN values: 0.0\n",
      "V299 NaN values present is: 0 type is : float64 % of NaN values: 0.0\n",
      "V300 NaN values present is: 0 type is : float64 % of NaN values: 0.0\n",
      "V301 NaN values present is: 0 type is : float64 % of NaN values: 0.0\n",
      "V302 NaN values present is: 0 type is : float64 % of NaN values: 0.0\n",
      "V303 NaN values present is: 0 type is : float64 % of NaN values: 0.0\n",
      "V304 NaN values present is: 0 type is : float64 % of NaN values: 0.0\n",
      "V305 NaN values present is: 0 type is : float64 % of NaN values: 0.0\n",
      "V306 NaN values present is: 0 type is : float64 % of NaN values: 0.0\n",
      "V307 NaN values present is: 0 type is : float64 % of NaN values: 0.0\n",
      "V308 NaN values present is: 0 type is : float64 % of NaN values: 0.0\n",
      "V309 NaN values present is: 0 type is : float64 % of NaN values: 0.0\n",
      "V310 NaN values present is: 0 type is : float64 % of NaN values: 0.0\n",
      "V311 NaN values present is: 0 type is : float64 % of NaN values: 0.0\n",
      "V312 NaN values present is: 0 type is : float64 % of NaN values: 0.0\n"
     ]
    },
    {
     "name": "stdout",
     "output_type": "stream",
     "text": [
      "V313 NaN values present is: 0 type is : float64 % of NaN values: 0.0\n",
      "V314 NaN values present is: 0 type is : float64 % of NaN values: 0.0\n",
      "V315 NaN values present is: 0 type is : float64 % of NaN values: 0.0\n",
      "V316 NaN values present is: 0 type is : float64 % of NaN values: 0.0\n",
      "V317 NaN values present is: 0 type is : float64 % of NaN values: 0.0\n",
      "V318 NaN values present is: 0 type is : float64 % of NaN values: 0.0\n",
      "V319 NaN values present is: 0 type is : float64 % of NaN values: 0.0\n",
      "V320 NaN values present is: 0 type is : float64 % of NaN values: 0.0\n",
      "V321 NaN values present is: 0 type is : float64 % of NaN values: 0.0\n",
      "V322 NaN values present is: 0 type is : float64 % of NaN values: 0.0\n",
      "V323 NaN values present is: 0 type is : float64 % of NaN values: 0.0\n",
      "V324 NaN values present is: 0 type is : float64 % of NaN values: 0.0\n",
      "V325 NaN values present is: 0 type is : float64 % of NaN values: 0.0\n",
      "V326 NaN values present is: 0 type is : float64 % of NaN values: 0.0\n",
      "V327 NaN values present is: 0 type is : float64 % of NaN values: 0.0\n",
      "V328 NaN values present is: 0 type is : float64 % of NaN values: 0.0\n",
      "V329 NaN values present is: 0 type is : float64 % of NaN values: 0.0\n",
      "V330 NaN values present is: 0 type is : float64 % of NaN values: 0.0\n",
      "V331 NaN values present is: 0 type is : float64 % of NaN values: 0.0\n",
      "V332 NaN values present is: 0 type is : float64 % of NaN values: 0.0\n",
      "V333 NaN values present is: 0 type is : float64 % of NaN values: 0.0\n",
      "V334 NaN values present is: 0 type is : float64 % of NaN values: 0.0\n",
      "V335 NaN values present is: 0 type is : float64 % of NaN values: 0.0\n",
      "V336 NaN values present is: 0 type is : float64 % of NaN values: 0.0\n",
      "V337 NaN values present is: 0 type is : float64 % of NaN values: 0.0\n",
      "V338 NaN values present is: 0 type is : float64 % of NaN values: 0.0\n",
      "V339 NaN values present is: 0 type is : float64 % of NaN values: 0.0\n",
      "DeviceType NaN values present is: 0 type is : int64 % of NaN values: 0.0\n",
      "day NaN values present is: 0 type is : int64 % of NaN values: 0.0\n",
      "hour NaN values present is: 0 type is : int64 % of NaN values: 0.0\n",
      "alertFeature NaN values present is: 0 type is : int64 % of NaN values: 0.0\n",
      "LogTransactionAmt NaN values present is: 0 type is : float64 % of NaN values: 0.0\n",
      "card3Values NaN values present is: 0 type is : int64 % of NaN values: 0.0\n",
      "P_emaildomain_bin NaN values present is: 0 type is : int64 % of NaN values: 0.0\n",
      "P_emaildomain_suffix NaN values present is: 0 type is : int64 % of NaN values: 0.0\n",
      "R_emaildomain_bin NaN values present is: 0 type is : int64 % of NaN values: 0.0\n",
      "R_emaildomain_suffix NaN values present is: 0 type is : int64 % of NaN values: 0.0\n",
      "DeviceCorp NaN values present is: 0 type is : int64 % of NaN values: 0.0\n",
      "browser_id_31 NaN values present is: 0 type is : int64 % of NaN values: 0.0\n",
      "version_id_31 NaN values present is: 0 type is : int64 % of NaN values: 0.0\n",
      "OS_id_30 NaN values present is: 0 type is : int64 % of NaN values: 0.0\n",
      "version_id_30 NaN values present is: 0 type is : int64 % of NaN values: 0.0\n",
      "screen_width NaN values present is: 0 type is : float64 % of NaN values: 0.0\n",
      "screen_height NaN values present is: 0 type is : float64 % of NaN values: 0.0\n",
      "TransDecimalCount NaN values present is: 0 type is : int64 % of NaN values: 0.0\n",
      "card1_count_full NaN values present is: 0 type is : int64 % of NaN values: 0.0\n",
      "card2_count_full NaN values present is: 0 type is : int64 % of NaN values: 0.0\n",
      "card3_count_full NaN values present is: 0 type is : int64 % of NaN values: 0.0\n",
      "card4_count_full NaN values present is: 0 type is : int64 % of NaN values: 0.0\n",
      "card5_count_full NaN values present is: 0 type is : int64 % of NaN values: 0.0\n",
      "card6_count_full NaN values present is: 0 type is : int64 % of NaN values: 0.0\n",
      "addr1_count_full NaN values present is: 0 type is : int64 % of NaN values: 0.0\n",
      "addr2_count_full NaN values present is: 0 type is : int64 % of NaN values: 0.0\n",
      "TransactionAmt_to_mean_card1 NaN values present is: 0 type is : float64 % of NaN values: 0.0\n",
      "TransactionAmt_to_mean_card4 NaN values present is: 0 type is : float64 % of NaN values: 0.0\n",
      "TransactionAmt_to_std_card1 NaN values present is: 4891 type is : float64 % of NaN values: 0.83\n",
      "TransactionAmt_to_std_card4 NaN values present is: 0 type is : float64 % of NaN values: 0.0\n",
      "id_02_to_mean_card1 NaN values present is: 0 type is : float64 % of NaN values: 0.0\n",
      "id_02_to_mean_card4 NaN values present is: 0 type is : float64 % of NaN values: 0.0\n",
      "id_02_to_std_card1 NaN values present is: 0 type is : float64 % of NaN values: 0.0\n",
      "id_02_to_std_card4 NaN values present is: 0 type is : float64 % of NaN values: 0.0\n",
      "D15_to_mean_card1 NaN values present is: 0 type is : float64 % of NaN values: 0.0\n",
      "D15_to_mean_card4 NaN values present is: 0 type is : float64 % of NaN values: 0.0\n",
      "D15_to_std_card1 NaN values present is: 95667 type is : float64 % of NaN values: 16.2\n",
      "D15_to_std_card4 NaN values present is: 0 type is : float64 % of NaN values: 0.0\n",
      "D15_to_mean_addr1 NaN values present is: 0 type is : float64 % of NaN values: 0.0\n",
      "D15_to_std_addr1 NaN values present is: 151092 type is : float64 % of NaN values: 25.59\n"
     ]
    }
   ],
   "source": [
    "for i in train.columns:\n",
    "    print(i,'NaN values present is:',train[i].isnull().sum(),end=\" \")\n",
    "    print('type is :',train[i].dtypes,end=\" \")\n",
    "    print('% of NaN values:',np.round(train[i].isnull().sum()/train.shape[0]*100,2))"
   ]
  },
  {
   "cell_type": "code",
   "execution_count": 19,
   "metadata": {
    "collapsed": true
   },
   "outputs": [],
   "source": [
    "#TransactionAmt_to_std_card1,D15_to_std_card1,D15_to_std_addr1 contains null values \n",
    "#now lets replace them with the mean"
   ]
  },
  {
   "cell_type": "code",
   "execution_count": 20,
   "metadata": {
    "collapsed": true
   },
   "outputs": [],
   "source": [
    "for i in ['TransactionAmt_to_std_card1','D15_to_std_card1','D15_to_std_addr1']:\n",
    "    train[i].fillna(train[i].mean(),inplace=True)\n",
    "    test[i].fillna(test[i].mean(),inplace=True)"
   ]
  },
  {
   "cell_type": "markdown",
   "metadata": {},
   "source": [
    "<h3> Visualization in 2D space using PCA </h3>"
   ]
  },
  {
   "cell_type": "code",
   "execution_count": 37,
   "metadata": {
    "collapsed": true
   },
   "outputs": [],
   "source": [
    "#train data contains also the y values lets seprate that and apply PCA on top of it\n",
    "#Also removing the transactionAmt and transactionDT because we have created features from that\n",
    "train_pca = train.drop(['isFraud','TransactionAmt','TransactionDT'],axis=1)"
   ]
  },
  {
   "cell_type": "code",
   "execution_count": 38,
   "metadata": {
    "collapsed": true
   },
   "outputs": [],
   "source": [
    "#first standardize the data\n",
    "sc = StandardScaler()\n",
    "train_pca = sc.fit_transform(train_pca)"
   ]
  },
  {
   "cell_type": "code",
   "execution_count": 39,
   "metadata": {
    "collapsed": true
   },
   "outputs": [],
   "source": [
    "#Applyig PCA\n",
    "pca = PCA(n_components=2)\n",
    "train_pca = pca.fit_transform(train_pca)"
   ]
  },
  {
   "cell_type": "code",
   "execution_count": 40,
   "metadata": {
    "collapsed": true
   },
   "outputs": [],
   "source": [
    "#converting the numpy array to dataframe\n",
    "train_pca = pd.DataFrame(train_pca,columns=['col1','col2'])"
   ]
  },
  {
   "cell_type": "code",
   "execution_count": 41,
   "metadata": {},
   "outputs": [
    {
     "data": {
      "text/plain": [
       "<matplotlib.axes._subplots.AxesSubplot at 0x277615144a8>"
      ]
     },
     "execution_count": 41,
     "metadata": {},
     "output_type": "execute_result"
    },
    {
     "data": {
      "image/png": "[encoded data removed]",
      "text/plain": [
       "<matplotlib.figure.Figure at 0x27750824dd8>"
      ]
     },
     "metadata": {},
     "output_type": "display_data"
    }
   ],
   "source": [
    "#now for the fun part lets visualize this\n",
    "plt.figure(figsize=(9,9))\n",
    "sns.scatterplot(train_pca['col1'],train_pca['col2'],hue=train['isFraud'])"
   ]
  },
  {
   "cell_type": "markdown",
   "metadata": {},
   "source": [
    "- From the plot it is clear that some of the fraud transactions are well separated from the legit transaction means our engineering featured are useful.\n",
    "- Some of the legit transaction have high col1 values(above 50) may be this is due to the outliers present in the data.\n",
    "- Between col1 value 0 to 30 and col2 value -10 to 20 fraud and legit transaction are overlapped heavily."
   ]
  },
  {
   "cell_type": "code",
   "execution_count": 33,
   "metadata": {
    "collapsed": true
   },
   "outputs": [],
   "source": [
    "#Now lets see how we are getting the representaion in test data in 2D space."
   ]
  },
  {
   "cell_type": "code",
   "execution_count": 42,
   "metadata": {
    "collapsed": true
   },
   "outputs": [],
   "source": [
    "test_pca = test.drop(['TransactionAmt','TransactionDT'],axis=1)\n",
    "#first standardize the data\n",
    "sc = StandardScaler()\n",
    "test_pca = sc.fit_transform(test_pca)"
   ]
  },
  {
   "cell_type": "code",
   "execution_count": 43,
   "metadata": {
    "collapsed": true
   },
   "outputs": [],
   "source": [
    "#Applyig PCA\n",
    "pca = PCA(n_components=2)\n",
    "test_pca = pca.fit_transform(test_pca)\n",
    "#converting the numpy array to dataframe\n",
    "test_pca = pd.DataFrame(test_pca,columns=['col1','col2'])"
   ]
  },
  {
   "cell_type": "code",
   "execution_count": 44,
   "metadata": {},
   "outputs": [
    {
     "data": {
      "text/plain": [
       "<matplotlib.axes._subplots.AxesSubplot at 0x2777fe4bbe0>"
      ]
     },
     "execution_count": 44,
     "metadata": {},
     "output_type": "execute_result"
    },
    {
     "data": {
      "image/png": "[encoded data removed]",
      "text/plain": [
       "<matplotlib.figure.Figure at 0x27761691be0>"
      ]
     },
     "metadata": {},
     "output_type": "display_data"
    }
   ],
   "source": [
    "#now for the fun part lets visualize this\n",
    "plt.figure(figsize=(9,9))\n",
    "sns.scatterplot(test_pca['col1'],test_pca['col2'])"
   ]
  },
  {
   "cell_type": "markdown",
   "metadata": {},
   "source": [
    "- Getting a differnet plot from train data.\n",
    "- Here col2 values are going crazy high even above 1000.\n",
    "- From PCA it is conclude that the scatter plot of train and test data are different.In train part col1 are high in test part col2 are high.\n",
    "- Though in train data legit and fraud transaction are separated quite linearly."
   ]
  },
  {
   "cell_type": "markdown",
   "metadata": {
    "collapsed": true
   },
   "source": [
    "## Modelling"
   ]
  },
  {
   "cell_type": "code",
   "execution_count": 4,
   "metadata": {
    "collapsed": true
   },
   "outputs": [],
   "source": [
    "#lets divide the train in to 2 parts in 70 and 30 ratio\n",
    "#1st part will be train and 2nd part will be in cv"
   ]
  },
  {
   "cell_type": "code",
   "execution_count": null,
   "metadata": {
    "collapsed": true
   },
   "outputs": [],
   "source": [
    "train_mod = train[:413357]\n",
    "cv_mod = train[413357:]"
   ]
  },
  {
   "cell_type": "code",
   "execution_count": null,
   "metadata": {
    "collapsed": true
   },
   "outputs": [],
   "source": [
    "x_train = train_mod.drop(['isFraud'],axis=1)\n",
    "y_train = train_mod['isFraud']\n",
    "x_cv = cv_mod.drop(['isFraud'],axis=1)\n",
    "y_cv = cv_mod['isFraud']"
   ]
  },
  {
   "cell_type": "code",
   "execution_count": 9,
   "metadata": {},
   "outputs": [
    {
     "data": {
      "text/plain": [
       "<matplotlib.axes._subplots.AxesSubplot at 0x2632cb6dc50>"
      ]
     },
     "execution_count": 9,
     "metadata": {},
     "output_type": "execute_result"
    },
    {
     "data": {
      "image/png": "[encoded data removed]",
      "text/plain": [
       "<matplotlib.figure.Figure at 0x2632cb6d3c8>"
      ]
     },
     "metadata": {},
     "output_type": "display_data"
    }
   ],
   "source": [
    "per_y_train = y_train.value_counts(normalize=True).mul(100).rename('percentage').reset_index()\n",
    "sns.barplot(x=\"index\",y=\"percentage\",data=per_y_train)"
   ]
  },
  {
   "cell_type": "code",
   "execution_count": 10,
   "metadata": {},
   "outputs": [
    {
     "data": {
      "text/plain": [
       "<matplotlib.axes._subplots.AxesSubplot at 0x2631baecd30>"
      ]
     },
     "execution_count": 10,
     "metadata": {},
     "output_type": "execute_result"
    },
    {
     "data": {
      "image/png": "[encoded data removed]",
      "text/plain": [
       "<matplotlib.figure.Figure at 0x2632cb6d630>"
      ]
     },
     "metadata": {},
     "output_type": "display_data"
    }
   ],
   "source": [
    "per_y_cv = y_cv.value_counts(normalize=True).mul(100).rename('percentage').reset_index()\n",
    "sns.barplot(x=\"index\",y=\"percentage\",data=per_y_cv)"
   ]
  },
  {
   "cell_type": "markdown",
   "metadata": {},
   "source": [
    "- y distribution from train and cv are same.No problem in applying model now."
   ]
  },
  {
   "cell_type": "markdown",
   "metadata": {},
   "source": [
    "#### Logistic regression"
   ]
  },
  {
   "cell_type": "code",
   "execution_count": 11,
   "metadata": {
    "collapsed": true
   },
   "outputs": [],
   "source": [
    "from sklearn.linear_model import SGDClassifier"
   ]
  },
  {
   "cell_type": "code",
   "execution_count": 117,
   "metadata": {
    "collapsed": true
   },
   "outputs": [],
   "source": [
    "#standardizing the x_train and x_cv for logistic regression\n",
    "sc = StandardScaler()\n",
    "x_train_sc = sc.fit_transform(x_train)\n",
    "x_cv_sc = sc.transform(x_cv)"
   ]
  },
  {
   "cell_type": "code",
   "execution_count": 13,
   "metadata": {
    "collapsed": true
   },
   "outputs": [],
   "source": [
    "#lets try with first default value\n",
    "clf = SGDClassifier(loss=\"log\")\n",
    "clf.fit(x_train_sc,y_train)\n",
    "y_trainpred=clf.predict_proba(x_train_sc)\n",
    "y_cvpred = clf.predict_proba(x_cv_sc)"
   ]
  },
  {
   "cell_type": "code",
   "execution_count": 14,
   "metadata": {},
   "outputs": [
    {
     "name": "stdout",
     "output_type": "stream",
     "text": [
      "train auc with default parameter: 0.803043394567984\n",
      "cv auc with default parameter: 0.7779274673670928\n"
     ]
    }
   ],
   "source": [
    "print('train auc with default parameter:',roc_auc_score(y_train,y_trainpred[:,1]))\n",
    "print('cv auc with default parameter:',roc_auc_score(y_cv,y_cvpred[:,1]))"
   ]
  },
  {
   "cell_type": "markdown",
   "metadata": {},
   "source": [
    "- With the default parameter only we got a cv score auc 77.79% which is great.\n",
    "- Lets hyperparameter tune it and see if we can improve the results."
   ]
  },
  {
   "cell_type": "code",
   "execution_count": 24,
   "metadata": {
    "collapsed": true
   },
   "outputs": [],
   "source": [
    "#lets try with both L1 and L2 regularization"
   ]
  },
  {
   "cell_type": "code",
   "execution_count": 119,
   "metadata": {},
   "outputs": [
    {
     "name": "stdout",
     "output_type": "stream",
     "text": [
      "For alpha: 0.0001 for reg: l1\n",
      "train auc: 0.7661137237091329\n",
      "cv auc: 0.7147127715898759\n",
      "------------------------------\n",
      "For alpha: 0.0001 for reg: l2\n",
      "train auc: 0.7915713336499863\n",
      "cv auc: 0.7661817586491181\n",
      "------------------------------\n",
      "For alpha: 0.001 for reg: l1\n",
      "train auc: 0.7632705889320499\n",
      "cv auc: 0.7202056416974756\n",
      "------------------------------\n",
      "For alpha: 0.001 for reg: l2\n",
      "train auc: 0.8351697005749272\n",
      "cv auc: 0.798344190106917\n",
      "------------------------------\n",
      "For alpha: 0.01 for reg: l1\n",
      "train auc: 0.7092803449322658\n",
      "cv auc: 0.7041978072461993\n",
      "------------------------------\n",
      "For alpha: 0.01 for reg: l2\n",
      "train auc: 0.8638904789489055\n",
      "cv auc: 0.8329181667603571\n",
      "------------------------------\n",
      "For alpha: 0.1 for reg: l1\n",
      "train auc: 0.6647085243697082\n",
      "cv auc: 0.6786184708381596\n",
      "------------------------------\n",
      "For alpha: 0.1 for reg: l2\n",
      "train auc: 0.8559314038752244\n",
      "cv auc: 0.8335805955333271\n",
      "------------------------------\n",
      "For alpha: 1 for reg: l1\n",
      "train auc: 0.5\n",
      "cv auc: 0.5\n",
      "------------------------------\n",
      "For alpha: 1 for reg: l2\n",
      "train auc: 0.8323156491600883\n",
      "cv auc: 0.81959334310293\n",
      "------------------------------\n",
      "For alpha: 10 for reg: l1\n",
      "train auc: 0.5414654722739406\n",
      "cv auc: 0.5382419117130274\n",
      "------------------------------\n",
      "For alpha: 10 for reg: l2\n",
      "train auc: 0.8116931045763629\n",
      "cv auc: 0.8064798930745842\n",
      "------------------------------\n",
      "For alpha: 100 for reg: l1\n",
      "train auc: 0.5\n",
      "cv auc: 0.5\n",
      "------------------------------\n",
      "For alpha: 100 for reg: l2\n",
      "train auc: 0.8016691211259354\n",
      "cv auc: 0.7992783121516209\n",
      "------------------------------\n",
      "For alpha: 1000 for reg: l1\n",
      "train auc: 0.5\n",
      "cv auc: 0.5\n",
      "------------------------------\n",
      "For alpha: 1000 for reg: l2\n",
      "train auc: 0.7990905802428858\n",
      "cv auc: 0.796281730476309\n",
      "------------------------------\n",
      "For alpha: 10000 for reg: l1\n",
      "train auc: 0.5\n",
      "cv auc: 0.5\n",
      "------------------------------\n",
      "For alpha: 10000 for reg: l2\n",
      "train auc: 0.7987872712204519\n",
      "cv auc: 0.7958627376834648\n",
      "------------------------------\n"
     ]
    }
   ],
   "source": [
    "for i in [10**-4,10**-3,10**-2,10**-1,10**0,10**1,10**2,10**3,10**4]:\n",
    "    for j in ['l1','l2']:\n",
    "        print('For alpha:',i,'for reg:',j)\n",
    "        clf = SGDClassifier(loss=\"log\",class_weight='balanced',alpha=i,penalty=j)\n",
    "        clf.fit(x_train_sc,y_train)\n",
    "        y_trainpred=clf.predict_proba(x_train_sc)\n",
    "        y_cvpred = clf.predict_proba(x_cv_sc)\n",
    "        print('train auc:',roc_auc_score(y_train,y_trainpred[:,1]))\n",
    "        print('cv auc:',roc_auc_score(y_cv,y_cvpred[:,1]))\n",
    "        print('-'*30)"
   ]
  },
  {
   "cell_type": "markdown",
   "metadata": {},
   "source": [
    "For alpha: 0.1 for reg: l2\n",
    "train auc: 0.8559314038752244\n",
    "cv auc: 0.8335805955333271\n",
    "- We got best cv auc at alpha=0.1 and reg=l2 which is 83.35.\n",
    "- With small amount of overfitting due to some redundant features are there we will try to remove it."
   ]
  },
  {
   "cell_type": "code",
   "execution_count": 122,
   "metadata": {
    "collapsed": true
   },
   "outputs": [],
   "source": [
    "#Confusion Matrix \n",
    "from sklearn.metrics import confusion_matrix"
   ]
  },
  {
   "cell_type": "code",
   "execution_count": 121,
   "metadata": {
    "collapsed": true
   },
   "outputs": [],
   "source": [
    "clf = SGDClassifier(loss=\"log\",class_weight='balanced',alpha=0.1,penalty='l2')\n",
    "clf.fit(x_train_sc,y_train)\n",
    "y_trainpred=clf.predict(x_train_sc)\n",
    "y_cvpred = clf.predict(x_cv_sc)"
   ]
  },
  {
   "cell_type": "code",
   "execution_count": 123,
   "metadata": {
    "collapsed": true
   },
   "outputs": [],
   "source": [
    "cm_train = confusion_matrix(y_train,y_trainpred)\n",
    "cm_cv  =confusion_matrix(y_cv,y_cvpred)"
   ]
  },
  {
   "cell_type": "code",
   "execution_count": 125,
   "metadata": {},
   "outputs": [
    {
     "data": {
      "text/plain": [
       "Text(0.5,1,'cv')"
      ]
     },
     "execution_count": 125,
     "metadata": {},
     "output_type": "execute_result"
    },
    {
     "data": {
      "image/png": "[encoded data removed]",
      "text/plain": [
       "<matplotlib.figure.Figure at 0x263fb363588>"
      ]
     },
     "metadata": {},
     "output_type": "display_data"
    }
   ],
   "source": [
    "plt.figure(figsize=(12,5))\n",
    "plt.subplot(1,2,1)\n",
    "sns.heatmap(cm_train,annot=True,fmt='.2f')\n",
    "plt.title('Train')\n",
    "plt.subplot(1,2,2)\n",
    "sns.heatmap(cm_cv,annot=True,fmt='.2f')\n",
    "plt.title('cv')"
   ]
  },
  {
   "cell_type": "markdown",
   "metadata": {},
   "source": [
    "#### Decision Tree"
   ]
  },
  {
   "cell_type": "code",
   "execution_count": 17,
   "metadata": {
    "collapsed": true
   },
   "outputs": [],
   "source": [
    "#first try with the default paramter\n",
    "clf = DecisionTreeClassifier()\n",
    "clf.fit(x_train,y_train)\n",
    "y_trainpred=clf.predict_proba(x_train)\n",
    "y_cvpred = clf.predict_proba(x_cv)"
   ]
  },
  {
   "cell_type": "code",
   "execution_count": 18,
   "metadata": {},
   "outputs": [
    {
     "name": "stdout",
     "output_type": "stream",
     "text": [
      "train auc with default parameter: 1.0\n",
      "cv auc with default parameter: 0.6831029543742493\n"
     ]
    }
   ],
   "source": [
    "print('train auc with default parameter:',roc_auc_score(y_train,y_trainpred[:,1]))\n",
    "print('cv auc with default parameter:',roc_auc_score(y_cv,y_cvpred[:,1]))"
   ]
  },
  {
   "cell_type": "markdown",
   "metadata": {},
   "source": [
    "- We got purely overfitted model beacause due to depth.\n",
    "- Lets hyperparameter this model and see the difference."
   ]
  },
  {
   "cell_type": "code",
   "execution_count": 19,
   "metadata": {},
   "outputs": [
    {
     "name": "stdout",
     "output_type": "stream",
     "text": [
      "For depth: 3 max features: None\n",
      "train auc: 0.7637127231957554\n",
      "cv auc: 0.7584202492929651\n",
      "------------------------------\n",
      "For depth: 3 max features: sqrt\n",
      "train auc: 0.784198737627847\n",
      "cv auc: 0.7946319326916871\n",
      "------------------------------\n",
      "For depth: 3 max features: log2\n",
      "train auc: 0.724500614581266\n",
      "cv auc: 0.7276763866636293\n",
      "------------------------------\n",
      "For depth: 5 max features: None\n",
      "train auc: 0.8188809332921803\n",
      "cv auc: 0.8022763973313516\n",
      "------------------------------\n",
      "For depth: 5 max features: sqrt\n",
      "train auc: 0.7985109697304389\n",
      "cv auc: 0.7787918879015745\n",
      "------------------------------\n",
      "For depth: 5 max features: log2\n",
      "train auc: 0.7725208105153053\n",
      "cv auc: 0.7624895279127386\n",
      "------------------------------\n",
      "For depth: 7 max features: None\n",
      "train auc: 0.8648904809112957\n",
      "cv auc: 0.8341416351278772\n",
      "------------------------------\n",
      "For depth: 7 max features: sqrt\n",
      "train auc: 0.825030593379298\n",
      "cv auc: 0.8087241960755909\n",
      "------------------------------\n",
      "For depth: 7 max features: log2\n",
      "train auc: 0.8249864317463759\n",
      "cv auc: 0.7982069950901034\n",
      "------------------------------\n",
      "For depth: 9 max features: None\n",
      "train auc: 0.887924295961057\n",
      "cv auc: 0.8175771556106788\n",
      "------------------------------\n",
      "For depth: 9 max features: sqrt\n",
      "train auc: 0.8632696497855786\n",
      "cv auc: 0.8132935569704672\n",
      "------------------------------\n",
      "For depth: 9 max features: log2\n",
      "train auc: 0.8392305139846845\n",
      "cv auc: 0.8012450959205987\n",
      "------------------------------\n",
      "For depth: 11 max features: None\n",
      "train auc: 0.910693679499508\n",
      "cv auc: 0.8018385735036464\n",
      "------------------------------\n",
      "For depth: 11 max features: sqrt\n",
      "train auc: 0.8699474097913793\n",
      "cv auc: 0.782224849085744\n",
      "------------------------------\n",
      "For depth: 11 max features: log2\n",
      "train auc: 0.8634259925266051\n",
      "cv auc: 0.7876028314090665\n",
      "------------------------------\n",
      "For depth: 13 max features: None\n",
      "train auc: 0.9306172242392825\n",
      "cv auc: 0.7671526521161647\n",
      "------------------------------\n",
      "For depth: 13 max features: sqrt\n",
      "train auc: 0.9146723740777098\n",
      "cv auc: 0.769276023722436\n",
      "------------------------------\n",
      "For depth: 13 max features: log2\n",
      "train auc: 0.8748901270463143\n",
      "cv auc: 0.7733545400642761\n",
      "------------------------------\n",
      "For depth: 15 max features: None\n",
      "train auc: 0.9477804804356896\n",
      "cv auc: 0.7439598258846422\n",
      "------------------------------\n",
      "For depth: 15 max features: sqrt\n",
      "train auc: 0.941692848134116\n",
      "cv auc: 0.7709799848957468\n",
      "------------------------------\n",
      "For depth: 15 max features: log2\n",
      "train auc: 0.898255268131628\n",
      "cv auc: 0.7531487976558695\n",
      "------------------------------\n",
      "For depth: 21 max features: None\n",
      "train auc: 0.9801612853572127\n",
      "cv auc: 0.6955832586453593\n",
      "------------------------------\n",
      "For depth: 21 max features: sqrt\n",
      "train auc: 0.9681191343145688\n",
      "cv auc: 0.6858786664774956\n",
      "------------------------------\n",
      "For depth: 21 max features: log2\n",
      "train auc: 0.9625944522995311\n",
      "cv auc: 0.6864416482179116\n",
      "------------------------------\n"
     ]
    }
   ],
   "source": [
    "for i in [3,5,7,9,11,13,15,21]:\n",
    "    for j in [None,'sqrt','log2']:\n",
    "        print('For depth:',i,'max features:',j)\n",
    "        clf = DecisionTreeClassifier(max_depth=i,max_features=j,class_weight='balanced')\n",
    "        clf.fit(x_train,y_train)\n",
    "        y_trainpred=clf.predict_proba(x_train)\n",
    "        y_cvpred = clf.predict_proba(x_cv)\n",
    "        print('train auc:',roc_auc_score(y_train,y_trainpred[:,1]))\n",
    "        print('cv auc:',roc_auc_score(y_cv,y_cvpred[:,1]))\n",
    "        print('-'*30)"
   ]
  },
  {
   "cell_type": "markdown",
   "metadata": {
    "collapsed": true
   },
   "source": [
    "For depth: 7 max features: None\n",
    "train auc: 0.8655742868030681\n",
    "cv auc: 0.8336492589095463\n",
    "- We got best auc for cv data at depth=7 which is 83.36.\n",
    "- Small amount of overfitting again."
   ]
  },
  {
   "cell_type": "code",
   "execution_count": 127,
   "metadata": {
    "collapsed": true
   },
   "outputs": [],
   "source": [
    "clf = DecisionTreeClassifier(max_depth=7,class_weight='balanced')\n",
    "clf.fit(x_train,y_train)\n",
    "y_trainpred=clf.predict(x_train)\n",
    "y_cvpred = clf.predict(x_cv)"
   ]
  },
  {
   "cell_type": "code",
   "execution_count": 128,
   "metadata": {
    "collapsed": true
   },
   "outputs": [],
   "source": [
    "cm_train = confusion_matrix(y_train,y_trainpred)\n",
    "cm_cv  =confusion_matrix(y_cv,y_cvpred)"
   ]
  },
  {
   "cell_type": "code",
   "execution_count": 129,
   "metadata": {},
   "outputs": [
    {
     "data": {
      "text/plain": [
       "Text(0.5,1,'cv')"
      ]
     },
     "execution_count": 129,
     "metadata": {},
     "output_type": "execute_result"
    },
    {
     "data": {
      "image/png": "[encoded data removed]",
      "text/plain": [
       "<matplotlib.figure.Figure at 0x2632cf974a8>"
      ]
     },
     "metadata": {},
     "output_type": "display_data"
    }
   ],
   "source": [
    "plt.figure(figsize=(12,5))\n",
    "plt.subplot(1,2,1)\n",
    "sns.heatmap(cm_train,annot=True,fmt='.2f')\n",
    "plt.title('Train')\n",
    "plt.subplot(1,2,2)\n",
    "sns.heatmap(cm_cv,annot=True,fmt='.2f')\n",
    "plt.title('cv')"
   ]
  },
  {
   "cell_type": "markdown",
   "metadata": {},
   "source": [
    "#### RandomForest "
   ]
  },
  {
   "cell_type": "code",
   "execution_count": 20,
   "metadata": {
    "collapsed": true
   },
   "outputs": [],
   "source": [
    "#first try with the default paramter\n",
    "clf = RandomForestClassifier()\n",
    "clf.fit(x_train,y_train)\n",
    "y_trainpred=clf.predict_proba(x_train)\n",
    "y_cvpred = clf.predict_proba(x_cv)"
   ]
  },
  {
   "cell_type": "code",
   "execution_count": 21,
   "metadata": {},
   "outputs": [
    {
     "name": "stdout",
     "output_type": "stream",
     "text": [
      "train auc with default parameter: 0.999926970461592\n",
      "cv auc with default parameter: 0.8076024285653429\n"
     ]
    }
   ],
   "source": [
    "print('train auc with default parameter:',roc_auc_score(y_train,y_trainpred[:,1]))\n",
    "print('cv auc with default parameter:',roc_auc_score(y_cv,y_cvpred[:,1]))"
   ]
  },
  {
   "cell_type": "markdown",
   "metadata": {},
   "source": [
    "- Purely overfitted model.\n",
    "- Lets hyperparamter tune this."
   ]
  },
  {
   "cell_type": "code",
   "execution_count": 22,
   "metadata": {},
   "outputs": [
    {
     "name": "stdout",
     "output_type": "stream",
     "text": [
      "For esti: 500 depth: 3\n",
      "train auc: 0.8332166081823085\n",
      "cv auc: 0.8298554070254942\n",
      "------------------------------\n",
      "For esti: 500 depth: 5\n",
      "train auc: 0.8569089032831259\n",
      "cv auc: 0.846821896417853\n",
      "------------------------------\n",
      "For esti: 500 depth: 7\n",
      "train auc: 0.8766923771862756\n",
      "cv auc: 0.8590941328603896\n",
      "------------------------------\n",
      "For esti: 500 depth: 9\n",
      "train auc: 0.8986369561812914\n",
      "cv auc: 0.8682093718203416\n",
      "------------------------------\n",
      "For esti: 500 depth: 11\n",
      "train auc: 0.9211544004673937\n",
      "cv auc: 0.872276672496525\n",
      "------------------------------\n",
      "For esti: 500 depth: 13\n",
      "train auc: 0.9439421880135079\n",
      "cv auc: 0.8736710754746092\n",
      "------------------------------\n",
      "For esti: 700 depth: 3\n",
      "train auc: 0.8310740365386088\n",
      "cv auc: 0.8277495490978316\n",
      "------------------------------\n",
      "For esti: 700 depth: 5\n",
      "train auc: 0.8566504559589061\n",
      "cv auc: 0.8463470410376759\n",
      "------------------------------\n",
      "For esti: 700 depth: 7\n",
      "train auc: 0.8771962479297164\n",
      "cv auc: 0.8595970106991044\n",
      "------------------------------\n",
      "For esti: 700 depth: 9\n",
      "train auc: 0.8979399765922795\n",
      "cv auc: 0.8682311649975578\n",
      "------------------------------\n",
      "For esti: 700 depth: 11\n",
      "train auc: 0.9212593634349384\n",
      "cv auc: 0.8724486896302703\n",
      "------------------------------\n",
      "For esti: 700 depth: 13\n",
      "train auc: 0.943821965812998\n",
      "cv auc: 0.873610541045611\n",
      "------------------------------\n",
      "For esti: 900 depth: 3\n",
      "train auc: 0.8333789558071085\n",
      "cv auc: 0.8296735822699122\n",
      "------------------------------\n",
      "For esti: 900 depth: 5\n",
      "train auc: 0.856896756831237\n",
      "cv auc: 0.8458048930954662\n",
      "------------------------------\n",
      "For esti: 900 depth: 7\n",
      "train auc: 0.8770961784340848\n",
      "cv auc: 0.8595183545074884\n",
      "------------------------------\n",
      "For esti: 900 depth: 9\n",
      "train auc: 0.8982686894129343\n",
      "cv auc: 0.8684278458087009\n",
      "------------------------------\n",
      "For esti: 900 depth: 11\n",
      "train auc: 0.9214411217885424\n",
      "cv auc: 0.8729856550166155\n",
      "------------------------------\n",
      "For esti: 900 depth: 13\n",
      "train auc: 0.9433957503165459\n",
      "cv auc: 0.8744868750627206\n",
      "------------------------------\n",
      "For esti: 1000 depth: 3\n",
      "train auc: 0.8342478276410868\n",
      "cv auc: 0.830228875136464\n",
      "------------------------------\n",
      "For esti: 1000 depth: 5\n",
      "train auc: 0.8568555271421263\n",
      "cv auc: 0.8464183190796739\n",
      "------------------------------\n",
      "For esti: 1000 depth: 7\n",
      "train auc: 0.877138751251666\n",
      "cv auc: 0.8596054661215708\n",
      "------------------------------\n",
      "For esti: 1000 depth: 9\n",
      "train auc: 0.8983662339132779\n",
      "cv auc: 0.8685314434680549\n",
      "------------------------------\n",
      "For esti: 1000 depth: 11\n",
      "train auc: 0.920819572898075\n",
      "cv auc: 0.8723763386111509\n",
      "------------------------------\n",
      "For esti: 1000 depth: 13\n",
      "train auc: 0.94293396541499\n",
      "cv auc: 0.8728765721913017\n",
      "------------------------------\n"
     ]
    }
   ],
   "source": [
    "train_auc=[]\n",
    "cv_auc=[]\n",
    "for i in [500,700,900,1000]:\n",
    "    for j in [3,5,7,9,11,13]:\n",
    "        print('For esti:',i,'depth:',j)\n",
    "        clf = RandomForestClassifier(n_estimators=i,max_depth=j,class_weight='balanced',n_jobs=-1)\n",
    "        clf.fit(x_train,y_train)\n",
    "        y_trainpred=clf.predict_proba(x_train)\n",
    "        y_cvpred = clf.predict_proba(x_cv)\n",
    "        print('train auc:',roc_auc_score(y_train,y_trainpred[:,1]))\n",
    "        print('cv auc:',roc_auc_score(y_cv,y_cvpred[:,1]))\n",
    "        train_auc.append(roc_auc_score(y_train,y_trainpred[:,1]))\n",
    "        cv_auc.append(roc_auc_score(y_cv,y_cvpred[:,1]))\n",
    "        print('-'*30)"
   ]
  },
  {
   "cell_type": "markdown",
   "metadata": {},
   "source": [
    "- Best cv auc is got as 87.44\n",
    "- We see that after 900 estimators cv auc does not increase but train auc is increasing means overfitting\n",
    "- Even though if we increase the depth we will get slighlty increase may be in 3 decimal places we will not increase the depth because train auc is increasing very fastly.\n",
    "- Hence we take best hyperparamter as n_estimators as 900 and max_depth as 13"
   ]
  },
  {
   "cell_type": "code",
   "execution_count": 23,
   "metadata": {
    "collapsed": true
   },
   "outputs": [],
   "source": [
    "hyperparameter_train = np.array(train_auc).reshape(6,4)\n",
    "hyperparameter_cv = np.array(cv_auc).reshape(6,4)"
   ]
  },
  {
   "cell_type": "code",
   "execution_count": 24,
   "metadata": {},
   "outputs": [
    {
     "data": {
      "text/plain": [
       "Text(0.5,1,'cv')"
      ]
     },
     "execution_count": 24,
     "metadata": {},
     "output_type": "execute_result"
    },
    {
     "data": {
      "image/png": "[encoded data removed]",
      "text/plain": [
       "<matplotlib.figure.Figure at 0x2631bf41be0>"
      ]
     },
     "metadata": {},
     "output_type": "display_data"
    }
   ],
   "source": [
    "plt.figure(figsize=(12,5))\n",
    "plt.subplot(1,2,1)\n",
    "sns.heatmap(hyperparameter_train,annot=True,xticklabels=[500,700,900,1000],yticklabels=[3,5,7,9,11,13])\n",
    "plt.xlabel('Estimators')\n",
    "plt.ylabel('Depth')\n",
    "plt.title('Train')\n",
    "plt.subplot(1,2,2)\n",
    "sns.heatmap(hyperparameter_cv,annot=True,xticklabels=[500,700,900,1000],yticklabels=[3,5,7,9,11,13])\n",
    "plt.xlabel('Estimators')\n",
    "plt.ylabel('Depth')\n",
    "plt.title('cv')"
   ]
  },
  {
   "cell_type": "code",
   "execution_count": 25,
   "metadata": {},
   "outputs": [
    {
     "data": {
      "text/plain": [
       "RandomForestClassifier(bootstrap=True, class_weight='balanced',\n",
       "            criterion='gini', max_depth=13, max_features='auto',\n",
       "            max_leaf_nodes=None, min_impurity_decrease=0.0,\n",
       "            min_impurity_split=None, min_samples_leaf=1,\n",
       "            min_samples_split=2, min_weight_fraction_leaf=0.0,\n",
       "            n_estimators=900, n_jobs=-1, oob_score=False,\n",
       "            random_state=None, verbose=0, warm_start=False)"
      ]
     },
     "execution_count": 25,
     "metadata": {},
     "output_type": "execute_result"
    }
   ],
   "source": [
    "#Now traning with the best parameters of RF and seeing the feature importance of all the features.\n",
    "clf = RandomForestClassifier(n_estimators=900,max_depth=13,class_weight='balanced',n_jobs=-1)\n",
    "clf.fit(x_train,y_train)"
   ]
  },
  {
   "cell_type": "code",
   "execution_count": 26,
   "metadata": {},
   "outputs": [
    {
     "data": {
      "text/plain": [
       "(array([ 0,  1,  2,  3,  4,  5,  6,  7,  8,  9, 10, 11, 12, 13, 14, 15, 16,\n",
       "        17, 18, 19, 20, 21, 22, 23, 24, 25, 26, 27, 28, 29, 30, 31, 32, 33,\n",
       "        34, 35, 36, 37, 38, 39, 40, 41, 42, 43, 44, 45, 46, 47, 48, 49]),\n",
       " <a list of 50 Text xticklabel objects>)"
      ]
     },
     "execution_count": 26,
     "metadata": {},
     "output_type": "execute_result"
    },
    {
     "data": {
      "image/png": "[encoded data removed]",
      "text/plain": [
       "<matplotlib.figure.Figure at 0x2631bf36390>"
      ]
     },
     "metadata": {},
     "output_type": "display_data"
    }
   ],
   "source": [
    "features = x_train.columns\n",
    "importances = clf.feature_importances_\n",
    "indices = (np.argsort(importances))[-50:]\n",
    "plt.figure(figsize=(10,12))\n",
    "plt.title('Feature Importances')\n",
    "plt.bar(range(len(indices)), importances[indices], align='center')\n",
    "plt.xticks(range(len(indices)), [features[i] for i in indices])\n",
    "plt.xlabel('Relative importance')\n",
    "plt.xticks(rotation=90)"
   ]
  },
  {
   "cell_type": "code",
   "execution_count": 32,
   "metadata": {},
   "outputs": [
    {
     "data": {
      "text/plain": [
       "(array([85., 72., 64., 32., 26., 11., 10.,  9.,  9., 10.,  5.,  6.,  4.,\n",
       "         7.,  8.,  2.,  3.,  1.,  4.,  4.,  1.,  5.,  3.,  2.,  4.,  4.,\n",
       "         4.,  2.,  1.,  0.,  3.,  1.,  0.,  1.,  1.,  3.,  0.,  1.,  0.,\n",
       "         3.,  0.,  0.,  0.,  0.,  1.,  1.,  0.,  2.,  0.,  0.,  2.,  0.,\n",
       "         0.,  1.,  0.,  0.,  0.,  1.,  2.,  1.,  1.,  0.,  0.,  0.,  0.,\n",
       "         0.,  1.,  0.,  1.,  1.,  0.,  0.,  0.,  0.,  0.,  0.,  0.,  0.,\n",
       "         0.,  0.,  0.,  0.,  0.,  0.,  0.,  0.,  1.,  0.,  0.,  0.,  0.,\n",
       "         0.,  0.,  0.,  0.,  0.,  0.,  0.,  0.,  1.]),\n",
       " array([0.        , 0.00027371, 0.00054742, 0.00082113, 0.00109484,\n",
       "        0.00136855, 0.00164226, 0.00191597, 0.00218968, 0.00246339,\n",
       "        0.0027371 , 0.00301081, 0.00328452, 0.00355823, 0.00383194,\n",
       "        0.00410565, 0.00437936, 0.00465307, 0.00492678, 0.00520049,\n",
       "        0.0054742 , 0.00574791, 0.00602162, 0.00629533, 0.00656904,\n",
       "        0.00684275, 0.00711646, 0.00739017, 0.00766388, 0.00793759,\n",
       "        0.0082113 , 0.00848501, 0.00875872, 0.00903243, 0.00930614,\n",
       "        0.00957985, 0.00985356, 0.01012727, 0.01040098, 0.01067469,\n",
       "        0.0109484 , 0.01122211, 0.01149582, 0.01176953, 0.01204324,\n",
       "        0.01231695, 0.01259066, 0.01286437, 0.01313808, 0.01341179,\n",
       "        0.0136855 , 0.01395921, 0.01423292, 0.01450663, 0.01478034,\n",
       "        0.01505405, 0.01532776, 0.01560147, 0.01587518, 0.01614889,\n",
       "        0.0164226 , 0.01669631, 0.01697002, 0.01724373, 0.01751743,\n",
       "        0.01779114, 0.01806485, 0.01833856, 0.01861227, 0.01888598,\n",
       "        0.01915969, 0.0194334 , 0.01970711, 0.01998082, 0.02025453,\n",
       "        0.02052824, 0.02080195, 0.02107566, 0.02134937, 0.02162308,\n",
       "        0.02189679, 0.0221705 , 0.02244421, 0.02271792, 0.02299163,\n",
       "        0.02326534, 0.02353905, 0.02381276, 0.02408647, 0.02436018,\n",
       "        0.02463389, 0.0249076 , 0.02518131, 0.02545502, 0.02572873,\n",
       "        0.02600244, 0.02627615, 0.02654986, 0.02682357, 0.02709728,\n",
       "        0.02737099]),\n",
       " <a list of 100 Patch objects>)"
      ]
     },
     "execution_count": 32,
     "metadata": {},
     "output_type": "execute_result"
    },
    {
     "data": {
      "image/png": "[encoded data removed]",
      "text/plain": [
       "<matplotlib.figure.Figure at 0x2631c77ed68>"
      ]
     },
     "metadata": {},
     "output_type": "display_data"
    }
   ],
   "source": [
    "plt.hist(clf.feature_importances_,bins=100)"
   ]
  },
  {
   "cell_type": "code",
   "execution_count": null,
   "metadata": {
    "collapsed": true
   },
   "outputs": [],
   "source": [
    "#less than 0.0002 features are not include"
   ]
  },
  {
   "cell_type": "code",
   "execution_count": 35,
   "metadata": {
    "collapsed": true
   },
   "outputs": [],
   "source": [
    "features_to_include=[]\n",
    "j=0\n",
    "for i in importances:\n",
    "    if i>=0.0002:\n",
    "        features_to_include.append(features[j])\n",
    "    j+=1"
   ]
  },
  {
   "cell_type": "code",
   "execution_count": 39,
   "metadata": {
    "collapsed": true
   },
   "outputs": [],
   "source": [
    "x_train_fe = x_train[features_to_include]\n",
    "x_cv_fe = x_cv[features_to_include]"
   ]
  },
  {
   "cell_type": "code",
   "execution_count": 41,
   "metadata": {},
   "outputs": [
    {
     "data": {
      "text/plain": [
       "RandomForestClassifier(bootstrap=True, class_weight='balanced',\n",
       "            criterion='gini', max_depth=13, max_features='auto',\n",
       "            max_leaf_nodes=None, min_impurity_decrease=0.0,\n",
       "            min_impurity_split=None, min_samples_leaf=1,\n",
       "            min_samples_split=2, min_weight_fraction_leaf=0.0,\n",
       "            n_estimators=900, n_jobs=-1, oob_score=False,\n",
       "            random_state=None, verbose=0, warm_start=False)"
      ]
     },
     "execution_count": 41,
     "metadata": {},
     "output_type": "execute_result"
    }
   ],
   "source": [
    "#Now traning with the best parameters of RF and seeing the feature importance of all the features.\n",
    "clf = RandomForestClassifier(n_estimators=900,max_depth=13,class_weight='balanced',n_jobs=-1)\n",
    "clf.fit(x_train_fe,y_train)"
   ]
  },
  {
   "cell_type": "code",
   "execution_count": 42,
   "metadata": {},
   "outputs": [
    {
     "name": "stdout",
     "output_type": "stream",
     "text": [
      "train auc: 0.9444143681688888\n",
      "cv auc: 0.8741003651248547\n"
     ]
    }
   ],
   "source": [
    "clf = RandomForestClassifier(n_estimators=900,max_depth=13,class_weight='balanced',n_jobs=-1)\n",
    "clf.fit(x_train_fe,y_train)\n",
    "y_trainpred=clf.predict_proba(x_train_fe)\n",
    "y_cvpred = clf.predict_proba(x_cv_fe)\n",
    "print('train auc:',roc_auc_score(y_train,y_trainpred[:,1]))\n",
    "print('cv auc:',roc_auc_score(y_cv,y_cvpred[:,1]))"
   ]
  },
  {
   "cell_type": "markdown",
   "metadata": {},
   "source": [
    "#### LGBM"
   ]
  },
  {
   "cell_type": "markdown",
   "metadata": {},
   "source": [
    "<h4> did the hyperparameter tunning for LGBM and find the values for all parameter lets apply it</h4>"
   ]
  },
  {
   "cell_type": "code",
   "execution_count": 82,
   "metadata": {
    "collapsed": true
   },
   "outputs": [],
   "source": [
    "lgb_params = {\n",
    "                    'objective':'binary',\n",
    "                    'boosting_type':'gbdt',\n",
    "                    'metric':'auc',\n",
    "                    'n_jobs':-1,\n",
    "                    'learning_rate':0.01,\n",
    "                    'num_leaves': 2**8,\n",
    "                    'max_depth':-1,\n",
    "                    'tree_learner':'serial',\n",
    "                    'colsample_bytree': 0.7,\n",
    "                    'subsample_freq':1,\n",
    "                    'subsample':0.7,\n",
    "                    'n_estimators':800,\n",
    "                    'max_bin':255,\n",
    "                    'verbose':-1,\n",
    "                    'early_stopping_rounds':100, \n",
    "                } "
   ]
  },
  {
   "cell_type": "code",
   "execution_count": 84,
   "metadata": {
    "collapsed": true
   },
   "outputs": [],
   "source": [
    "import lightgbm as lgb"
   ]
  },
  {
   "cell_type": "code",
   "execution_count": 86,
   "metadata": {
    "collapsed": true
   },
   "outputs": [],
   "source": [
    "import lightgbm as lgb\n",
    "train_data = lgb.Dataset(x_train_fe,label=y_train)\n",
    "cv_data = lgb.Dataset(x_cv_fe,label=y_cv)\n",
    "estimator = lgb.train(lgb_params,train_set=train_data,valid_sets=[train_data,cv_data],verbose_eval=200)"
   ]
  },
  {
   "cell_type": "code",
   "execution_count": 87,
   "metadata": {},
   "outputs": [
    {
     "name": "stdout",
     "output_type": "stream",
     "text": [
      "Training until validation scores don't improve for 100 rounds.\n",
      "[200]\ttraining's auc: 0.959917\tvalid_1's auc: 0.901769\n",
      "[400]\ttraining's auc: 0.987027\tvalid_1's auc: 0.918351\n",
      "[600]\ttraining's auc: 0.995369\tvalid_1's auc: 0.923932\n",
      "[800]\ttraining's auc: 0.998175\tvalid_1's auc: 0.925274\n",
      "Did not meet early stopping. Best iteration is:\n",
      "[800]\ttraining's auc: 0.998175\tvalid_1's auc: 0.925274\n"
     ]
    }
   ],
   "source": [
    "estimator = lgb.train(lgb_params,train_set=train_data,valid_sets=[train_data,cv_data],verbose_eval=200)"
   ]
  },
  {
   "cell_type": "markdown",
   "metadata": {},
   "source": [
    "## Conclusion"
   ]
  },
  {
   "cell_type": "code",
   "execution_count": 131,
   "metadata": {
    "collapsed": true
   },
   "outputs": [],
   "source": [
    "from prettytable import PrettyTable\n",
    "x = PrettyTable()\n",
    "x.field_names = [\"Model\",\"reg\",\"n_estimators\",\"Depth\",\"TrainAuc\",\"CvAuc\"]\n",
    "x.add_row(['logisticRegression','l2','_','_','86.35','83.35'])\n",
    "x.add_row(['DT','_','_',7,'86.55','83.36'])\n",
    "x.add_row(['RF','_','900',13,'94.33','87.44'])\n",
    "x.add_row(['LGBM','_','800','-1','99.81','92.52'])"
   ]
  },
  {
   "cell_type": "code",
   "execution_count": 132,
   "metadata": {},
   "outputs": [
    {
     "name": "stdout",
     "output_type": "stream",
     "text": [
      "+--------------------+-----+--------------+-------+----------+-------+\n",
      "|       Model        | reg | n_estimators | Depth | TrainAuc | CvAuc |\n",
      "+--------------------+-----+--------------+-------+----------+-------+\n",
      "| logisticRegression |  l2 |      _       |   _   |  86.35   | 83.35 |\n",
      "|         DT         |  _  |      _       |   7   |  86.55   | 83.36 |\n",
      "|         RF         |  _  |     900      |   13  |  94.33   | 87.44 |\n",
      "|        LGBM        |  _  |     800      |   -1  |  99.81   | 92.52 |\n",
      "+--------------------+-----+--------------+-------+----------+-------+\n"
     ]
    }
   ],
   "source": [
    "print(x)"
   ]
  },
  {
   "cell_type": "markdown",
   "metadata": {},
   "source": [
    "- Done the hyperparamter tunnning in all the models.\n",
    "- LGBM gives us the best result giving cv auc 92.52 with this LGBM model i submitted to the kaggle and got an AUC of 94.2 in leader board."
   ]
  },
  {
   "cell_type": "markdown",
   "metadata": {},
   "source": [
    "### References"
   ]
  },
  {
   "cell_type": "markdown",
   "metadata": {},
   "source": [
    "- https://www.kaggle.com/c/ieee-fraud-detection/discussion/100400\n",
    "- https://www.kaggle.com/c/ieee-fraud-detection/discussion/99987\n",
    "- https://www.kaggle.com/c/ieee-fraud-detection/discussion/107697#latest-620107\n",
    "- https://www.kaggle.com/jesucristo/fraud-complete-eda\n",
    "- https://www.kaggle.com/nroman/eda-for-cis-fraud-detection\n",
    "- https://www.kaggle.com/yasagure/places-after-the-decimal-point-tell-us-a-lot\n",
    "- https://www.kaggle.com/jolly2136/eda-fe-xgb\n",
    "- https://www.kaggle.com/yasagure/fraud-makers-are-earnest-people-about-browser"
   ]
  },
  {
   "cell_type": "markdown",
   "metadata": {
    "collapsed": true
   },
   "source": [
    "### Taking the magic feature approach from 1st place solution"
   ]
  },
  {
   "cell_type": "markdown",
   "metadata": {},
   "source": [
    "- The logic of our labeling is define reported chargeback on the card as fraud transaction (isFraud=1) and transactions posterior to it with either user account, email address or billing address directly linked to these attributes as fraud too. If none of above is reported and found beyond 120 days, then we define as legit transaction (isFraud=0)."
   ]
  },
  {
   "cell_type": "code",
   "execution_count": 3,
   "metadata": {
    "collapsed": true
   },
   "outputs": [],
   "source": [
    "# NORMALIZE D COLUMNS\n",
    "for i in range(1,16):\n",
    "    if i in [1,2,3,5,9]: \n",
    "        continue\n",
    "    train['D'+str(i)] =  train['D'+str(i)] - train.TransactionDT/np.float32(24*60*60)\n",
    "    test['D'+str(i)] =   test['D'+str(i)] -  test.TransactionDT/np.float32(24*60*60) "
   ]
  },
  {
   "cell_type": "markdown",
   "metadata": {},
   "source": [
    "### The Magic Feature - UID"
   ]
  },
  {
   "cell_type": "markdown",
   "metadata": {},
   "source": [
    "- We will now create and use the MAGIC FEATURES. First we create a UID which will help our model find clients (credit cards). This UID isn't perfect. Many UID values contain 2 or more clients inside. However our model will detect this and by adding more splits with its trees, it will split these UIDs and find the single clients (credit cards)."
   ]
  },
  {
   "cell_type": "code",
   "execution_count": 4,
   "metadata": {
    "collapsed": true
   },
   "outputs": [],
   "source": [
    "def encode_CB(col1,col2,df1=train,df2=test):\n",
    "    nm = col1+'_'+col2\n",
    "    df1[nm] = df1[col1].astype(str)+'_'+df1[col2].astype(str)\n",
    "    df2[nm] = df2[col1].astype(str)+'_'+df2[col2].astype(str) \n",
    "    encode_LE(nm,verbose=False)"
   ]
  },
  {
   "cell_type": "code",
   "execution_count": 5,
   "metadata": {
    "collapsed": true
   },
   "outputs": [],
   "source": [
    "def encode_LE(col,train=train,test=test,verbose=True):\n",
    "    df_comb = pd.concat([train[col],test[col]],axis=0)\n",
    "    df_comb,_ = df_comb.factorize(sort=True)\n",
    "    nm = col\n",
    "    if df_comb.max()>32000: \n",
    "        train[nm] = df_comb[:len(train)].astype('int32')\n",
    "        test[nm] = df_comb[len(train):].astype('int32')\n",
    "    else:\n",
    "        train[nm] = df_comb[:len(train)].astype('int16')\n",
    "        test[nm] = df_comb[len(train):].astype('int16')\n",
    "    del df_comb; x=gc.collect()"
   ]
  },
  {
   "cell_type": "code",
   "execution_count": 6,
   "metadata": {
    "collapsed": true
   },
   "outputs": [],
   "source": [
    "encode_CB('card1','addr1')"
   ]
  },
  {
   "cell_type": "code",
   "execution_count": 7,
   "metadata": {
    "collapsed": true
   },
   "outputs": [],
   "source": [
    "train['day'] = train.TransactionDT / (24*60*60)\n",
    "train['uid'] = train.card1_addr1.astype(str)+'_'+np.floor(train.day-train.D1).astype(str)\n",
    "test['day'] =test.TransactionDT / (24*60*60)\n",
    "test['uid'] = test.card1_addr1.astype(str)+'_'+np.floor(test.day-test.D1).astype(str)"
   ]
  },
  {
   "cell_type": "markdown",
   "metadata": {},
   "source": [
    "- For our model to use the new UID, we need to make lots of aggregated group features. We will add 47 new features! The pictures in the introduction to this notebook explain why this works. Note that after aggregation, we remove UID from our model. We don't use UID directly."
   ]
  },
  {
   "cell_type": "code",
   "execution_count": 8,
   "metadata": {
    "collapsed": true
   },
   "outputs": [],
   "source": [
    "def encode_AG2(main_columns, uids, train_df=train, test_df=test):\n",
    "    for main_column in main_columns:  \n",
    "        for col in uids:\n",
    "            comb = pd.concat([train_df[[col]+[main_column]],test_df[[col]+[main_column]]],axis=0)\n",
    "            mp = comb.groupby(col)[main_column].agg(['nunique'])['nunique'].to_dict()\n",
    "            train_df[col+'_'+main_column+'_ct'] = train_df[col].map(mp).astype('float32')\n",
    "            test_df[col+'_'+main_column+'_ct'] = test_df[col].map(mp).astype('float32')\n",
    "            print(col+'_'+main_column+'_ct, ',end='')"
   ]
  },
  {
   "cell_type": "code",
   "execution_count": 9,
   "metadata": {
    "collapsed": true
   },
   "outputs": [],
   "source": [
    "def encode_AG(main_columns, uids, aggregations=['mean'], train_df=train, test_df=test, \n",
    "              fillna=True, usena=False):\n",
    "    # AGGREGATION OF MAIN WITH UID FOR GIVEN STATISTICS\n",
    "    for main_column in main_columns:  \n",
    "        for col in uids:\n",
    "            for agg_type in aggregations:\n",
    "                new_col_name = main_column+'_'+col+'_'+agg_type\n",
    "                temp_df = pd.concat([train_df[[col, main_column]], test_df[[col,main_column]]])\n",
    "                if usena: temp_df.loc[temp_df[main_column]==-1,main_column] = np.nan\n",
    "                temp_df = temp_df.groupby([col])[main_column].agg([agg_type]).reset_index().rename(\n",
    "                                                        columns={agg_type: new_col_name})\n",
    "\n",
    "                temp_df.index = list(temp_df[col])\n",
    "                temp_df = temp_df[new_col_name].to_dict()   \n",
    "\n",
    "                train_df[new_col_name] = train_df[col].map(temp_df).astype('float32')\n",
    "                test_df[new_col_name]  = test_df[col].map(temp_df).astype('float32')\n",
    "                \n",
    "                if fillna:\n",
    "                    train_df[new_col_name].fillna(-1,inplace=True)\n",
    "                    test_df[new_col_name].fillna(-1,inplace=True)\n",
    "                \n",
    "                print(\"'\"+new_col_name+\"'\",', ',end='')"
   ]
  },
  {
   "cell_type": "code",
   "execution_count": 10,
   "metadata": {
    "collapsed": true
   },
   "outputs": [],
   "source": [
    "def encode_FE(df1, df2, cols):\n",
    "    for col in cols:\n",
    "        df = pd.concat([df1[col],df2[col]])\n",
    "        vc = df.value_counts(dropna=True, normalize=True).to_dict()\n",
    "        vc[-1] = -1\n",
    "        nm = col+'_FE'\n",
    "        df1[nm] = df1[col].map(vc)\n",
    "        df1[nm] = df1[nm].astype('float32')\n",
    "        df2[nm] = df2[col].map(vc)\n",
    "        df2[nm] = df2[nm].astype('float32')\n",
    "        print(nm,', ',end='')"
   ]
  },
  {
   "cell_type": "code",
   "execution_count": null,
   "metadata": {
    "collapsed": true
   },
   "outputs": [],
   "source": []
  },
  {
   "cell_type": "code",
   "execution_count": 11,
   "metadata": {},
   "outputs": [
    {
     "name": "stdout",
     "output_type": "stream",
     "text": [
      "uid_FE , 'TransactionAmt_uid_mean' , 'TransactionAmt_uid_std' , 'D4_uid_mean' , 'D4_uid_std' , 'D9_uid_mean' , 'D9_uid_std' , 'D10_uid_mean' , 'D10_uid_std' , 'D15_uid_mean' , 'D15_uid_std' , 'C1_uid_mean' , 'C2_uid_mean' , 'C4_uid_mean' , 'C5_uid_mean' , 'C6_uid_mean' , 'C7_uid_mean' , 'C8_uid_mean' , 'C9_uid_mean' , 'C10_uid_mean' , 'C11_uid_mean' , 'C12_uid_mean' , 'C13_uid_mean' , 'C14_uid_mean' , 'M1_uid_mean' , 'M2_uid_mean' , 'M3_uid_mean' , 'M4_uid_mean' , 'M5_uid_mean' , 'M6_uid_mean' , 'M7_uid_mean' , 'M8_uid_mean' , 'M9_uid_mean' , uid_dist1_ct, 'C14_uid_std' , uid_C13_ct, uid_V314_ct, uid_V127_ct, uid_V136_ct, uid_V309_ct, uid_V307_ct, uid_V320_ct, outsider15\n"
     ]
    }
   ],
   "source": [
    "# FREQUENCY ENCODE UID\n",
    "encode_FE(train,test,['uid'])\n",
    "# AGGREGATE \n",
    "encode_AG(['TransactionAmt','D4','D9','D10','D15'],['uid'],['mean','std'],fillna=True,usena=True)\n",
    "# AGGREGATE\n",
    "encode_AG(['C'+str(x) for x in range(1,15) if x!=3],['uid'],['mean'],train,test,fillna=True,usena=True)\n",
    "# AGGREGATE\n",
    "encode_AG(['M'+str(x) for x in range(1,10)],['uid'],['mean'],fillna=True,usena=True)\n",
    "# AGGREGATE\n",
    "encode_AG2(['dist1'], ['uid'], train_df=train, test_df=test)\n",
    "# AGGREGATE\n",
    "encode_AG(['C14'],['uid'],['std'],train,test,fillna=True,usena=True)\n",
    "# AGGREGATE \n",
    "encode_AG2(['C13','V314'], ['uid'], train_df=train, test_df=test)\n",
    "# AGGREATE \n",
    "encode_AG2(['V127','V136','V309','V307','V320'], ['uid'], train_df=train, test_df=test)\n",
    "# NEW FEATURE\n",
    "train['outsider15'] = (np.abs(train.D1-train.D15)>3).astype('int8')\n",
    "test['outsider15'] = (np.abs(test.D1-test.D15)>3).astype('int8')\n",
    "print('outsider15')"
   ]
  },
  {
   "cell_type": "code",
   "execution_count": 39,
   "metadata": {
    "collapsed": true
   },
   "outputs": [],
   "source": [
    "#lets drop all the V features"
   ]
  },
  {
   "cell_type": "code",
   "execution_count": 12,
   "metadata": {
    "collapsed": true
   },
   "outputs": [],
   "source": [
    "v_fea = []\n",
    "for i in train.columns:\n",
    "    if i.startswith('V'):\n",
    "        v_fea.append(i)"
   ]
  },
  {
   "cell_type": "code",
   "execution_count": 13,
   "metadata": {},
   "outputs": [
    {
     "data": {
      "text/plain": [
       "['V1',\n",
       " 'V2',\n",
       " 'V3',\n",
       " 'V4',\n",
       " 'V5',\n",
       " 'V6',\n",
       " 'V7',\n",
       " 'V8',\n",
       " 'V9',\n",
       " 'V10',\n",
       " 'V11',\n",
       " 'V12',\n",
       " 'V13',\n",
       " 'V14',\n",
       " 'V15',\n",
       " 'V16',\n",
       " 'V17',\n",
       " 'V18',\n",
       " 'V19',\n",
       " 'V20',\n",
       " 'V21',\n",
       " 'V22',\n",
       " 'V23',\n",
       " 'V24',\n",
       " 'V25',\n",
       " 'V26',\n",
       " 'V27',\n",
       " 'V28',\n",
       " 'V29',\n",
       " 'V30',\n",
       " 'V31',\n",
       " 'V32',\n",
       " 'V33',\n",
       " 'V34',\n",
       " 'V35',\n",
       " 'V36',\n",
       " 'V37',\n",
       " 'V38',\n",
       " 'V39',\n",
       " 'V40',\n",
       " 'V41',\n",
       " 'V42',\n",
       " 'V43',\n",
       " 'V44',\n",
       " 'V45',\n",
       " 'V46',\n",
       " 'V47',\n",
       " 'V48',\n",
       " 'V49',\n",
       " 'V50',\n",
       " 'V51',\n",
       " 'V52',\n",
       " 'V53',\n",
       " 'V54',\n",
       " 'V55',\n",
       " 'V56',\n",
       " 'V57',\n",
       " 'V58',\n",
       " 'V59',\n",
       " 'V60',\n",
       " 'V61',\n",
       " 'V62',\n",
       " 'V63',\n",
       " 'V64',\n",
       " 'V65',\n",
       " 'V66',\n",
       " 'V67',\n",
       " 'V68',\n",
       " 'V69',\n",
       " 'V70',\n",
       " 'V71',\n",
       " 'V72',\n",
       " 'V73',\n",
       " 'V74',\n",
       " 'V75',\n",
       " 'V76',\n",
       " 'V77',\n",
       " 'V78',\n",
       " 'V79',\n",
       " 'V80',\n",
       " 'V81',\n",
       " 'V82',\n",
       " 'V83',\n",
       " 'V84',\n",
       " 'V85',\n",
       " 'V86',\n",
       " 'V87',\n",
       " 'V88',\n",
       " 'V89',\n",
       " 'V90',\n",
       " 'V91',\n",
       " 'V92',\n",
       " 'V93',\n",
       " 'V94',\n",
       " 'V95',\n",
       " 'V96',\n",
       " 'V97',\n",
       " 'V98',\n",
       " 'V99',\n",
       " 'V100',\n",
       " 'V101',\n",
       " 'V102',\n",
       " 'V103',\n",
       " 'V104',\n",
       " 'V105',\n",
       " 'V106',\n",
       " 'V107',\n",
       " 'V108',\n",
       " 'V109',\n",
       " 'V110',\n",
       " 'V111',\n",
       " 'V112',\n",
       " 'V113',\n",
       " 'V114',\n",
       " 'V115',\n",
       " 'V116',\n",
       " 'V117',\n",
       " 'V118',\n",
       " 'V119',\n",
       " 'V120',\n",
       " 'V121',\n",
       " 'V122',\n",
       " 'V123',\n",
       " 'V124',\n",
       " 'V125',\n",
       " 'V126',\n",
       " 'V127',\n",
       " 'V128',\n",
       " 'V129',\n",
       " 'V130',\n",
       " 'V131',\n",
       " 'V132',\n",
       " 'V133',\n",
       " 'V134',\n",
       " 'V135',\n",
       " 'V136',\n",
       " 'V137',\n",
       " 'V138',\n",
       " 'V139',\n",
       " 'V140',\n",
       " 'V141',\n",
       " 'V142',\n",
       " 'V143',\n",
       " 'V144',\n",
       " 'V145',\n",
       " 'V146',\n",
       " 'V147',\n",
       " 'V148',\n",
       " 'V149',\n",
       " 'V150',\n",
       " 'V151',\n",
       " 'V152',\n",
       " 'V153',\n",
       " 'V154',\n",
       " 'V155',\n",
       " 'V156',\n",
       " 'V157',\n",
       " 'V158',\n",
       " 'V159',\n",
       " 'V160',\n",
       " 'V161',\n",
       " 'V162',\n",
       " 'V163',\n",
       " 'V164',\n",
       " 'V165',\n",
       " 'V166',\n",
       " 'V167',\n",
       " 'V168',\n",
       " 'V169',\n",
       " 'V170',\n",
       " 'V171',\n",
       " 'V172',\n",
       " 'V173',\n",
       " 'V174',\n",
       " 'V175',\n",
       " 'V176',\n",
       " 'V177',\n",
       " 'V178',\n",
       " 'V179',\n",
       " 'V180',\n",
       " 'V181',\n",
       " 'V182',\n",
       " 'V183',\n",
       " 'V184',\n",
       " 'V185',\n",
       " 'V186',\n",
       " 'V187',\n",
       " 'V188',\n",
       " 'V189',\n",
       " 'V190',\n",
       " 'V191',\n",
       " 'V192',\n",
       " 'V193',\n",
       " 'V194',\n",
       " 'V195',\n",
       " 'V196',\n",
       " 'V197',\n",
       " 'V198',\n",
       " 'V199',\n",
       " 'V200',\n",
       " 'V201',\n",
       " 'V202',\n",
       " 'V203',\n",
       " 'V204',\n",
       " 'V205',\n",
       " 'V206',\n",
       " 'V207',\n",
       " 'V208',\n",
       " 'V209',\n",
       " 'V210',\n",
       " 'V211',\n",
       " 'V212',\n",
       " 'V213',\n",
       " 'V214',\n",
       " 'V215',\n",
       " 'V216',\n",
       " 'V217',\n",
       " 'V218',\n",
       " 'V219',\n",
       " 'V220',\n",
       " 'V221',\n",
       " 'V222',\n",
       " 'V223',\n",
       " 'V224',\n",
       " 'V225',\n",
       " 'V226',\n",
       " 'V227',\n",
       " 'V228',\n",
       " 'V229',\n",
       " 'V230',\n",
       " 'V231',\n",
       " 'V232',\n",
       " 'V233',\n",
       " 'V234',\n",
       " 'V235',\n",
       " 'V236',\n",
       " 'V237',\n",
       " 'V238',\n",
       " 'V239',\n",
       " 'V240',\n",
       " 'V241',\n",
       " 'V242',\n",
       " 'V243',\n",
       " 'V244',\n",
       " 'V245',\n",
       " 'V246',\n",
       " 'V247',\n",
       " 'V248',\n",
       " 'V249',\n",
       " 'V250',\n",
       " 'V251',\n",
       " 'V252',\n",
       " 'V253',\n",
       " 'V254',\n",
       " 'V255',\n",
       " 'V256',\n",
       " 'V257',\n",
       " 'V258',\n",
       " 'V259',\n",
       " 'V260',\n",
       " 'V261',\n",
       " 'V262',\n",
       " 'V263',\n",
       " 'V264',\n",
       " 'V265',\n",
       " 'V266',\n",
       " 'V267',\n",
       " 'V268',\n",
       " 'V269',\n",
       " 'V270',\n",
       " 'V271',\n",
       " 'V272',\n",
       " 'V273',\n",
       " 'V274',\n",
       " 'V275',\n",
       " 'V276',\n",
       " 'V277',\n",
       " 'V278',\n",
       " 'V279',\n",
       " 'V280',\n",
       " 'V281',\n",
       " 'V282',\n",
       " 'V283',\n",
       " 'V284',\n",
       " 'V285',\n",
       " 'V286',\n",
       " 'V287',\n",
       " 'V288',\n",
       " 'V289',\n",
       " 'V290',\n",
       " 'V291',\n",
       " 'V292',\n",
       " 'V293',\n",
       " 'V294',\n",
       " 'V295',\n",
       " 'V296',\n",
       " 'V297',\n",
       " 'V298',\n",
       " 'V299',\n",
       " 'V300',\n",
       " 'V301',\n",
       " 'V302',\n",
       " 'V303',\n",
       " 'V304',\n",
       " 'V305',\n",
       " 'V306',\n",
       " 'V307',\n",
       " 'V308',\n",
       " 'V309',\n",
       " 'V310',\n",
       " 'V311',\n",
       " 'V312',\n",
       " 'V313',\n",
       " 'V314',\n",
       " 'V315',\n",
       " 'V316',\n",
       " 'V317',\n",
       " 'V318',\n",
       " 'V319',\n",
       " 'V320',\n",
       " 'V321',\n",
       " 'V322',\n",
       " 'V323',\n",
       " 'V324',\n",
       " 'V325',\n",
       " 'V326',\n",
       " 'V327',\n",
       " 'V328',\n",
       " 'V329',\n",
       " 'V330',\n",
       " 'V331',\n",
       " 'V332',\n",
       " 'V333',\n",
       " 'V334',\n",
       " 'V335',\n",
       " 'V336',\n",
       " 'V337',\n",
       " 'V338',\n",
       " 'V339']"
      ]
     },
     "execution_count": 13,
     "metadata": {},
     "output_type": "execute_result"
    }
   ],
   "source": [
    "v_fea"
   ]
  },
  {
   "cell_type": "code",
   "execution_count": 14,
   "metadata": {},
   "outputs": [],
   "source": [
    "train.drop(v_fea,axis=1,inplace=True)\n",
    "test.drop(v_fea,axis=1,inplace=True)"
   ]
  },
  {
   "cell_type": "code",
   "execution_count": 15,
   "metadata": {},
   "outputs": [],
   "source": [
    "train.drop(['TransactionDT'],axis=1,inplace=True)\n",
    "test.drop(['TransactionDT'],axis=1,inplace=True)"
   ]
  },
  {
   "cell_type": "code",
   "execution_count": 16,
   "metadata": {},
   "outputs": [
    {
     "data": {
      "text/html": [
       "<div>\n",
       "<style scoped>\n",
       "    .dataframe tbody tr th:only-of-type {\n",
       "        vertical-align: middle;\n",
       "    }\n",
       "\n",
       "    .dataframe tbody tr th {\n",
       "        vertical-align: top;\n",
       "    }\n",
       "\n",
       "    .dataframe thead th {\n",
       "        text-align: right;\n",
       "    }\n",
       "</style>\n",
       "<table border=\"1\" class=\"dataframe\">\n",
       "  <thead>\n",
       "    <tr style=\"text-align: right;\">\n",
       "      <th></th>\n",
       "      <th>Unnamed: 0</th>\n",
       "      <th>isFraud</th>\n",
       "      <th>TransactionAmt</th>\n",
       "      <th>ProductCD</th>\n",
       "      <th>card1</th>\n",
       "      <th>card2</th>\n",
       "      <th>card3</th>\n",
       "      <th>card4</th>\n",
       "      <th>card5</th>\n",
       "      <th>card6</th>\n",
       "      <th>...</th>\n",
       "      <th>uid_dist1_ct</th>\n",
       "      <th>C14_uid_std</th>\n",
       "      <th>uid_C13_ct</th>\n",
       "      <th>uid_V314_ct</th>\n",
       "      <th>uid_V127_ct</th>\n",
       "      <th>uid_V136_ct</th>\n",
       "      <th>uid_V309_ct</th>\n",
       "      <th>uid_V307_ct</th>\n",
       "      <th>uid_V320_ct</th>\n",
       "      <th>outsider15</th>\n",
       "    </tr>\n",
       "  </thead>\n",
       "  <tbody>\n",
       "    <tr>\n",
       "      <td>0</td>\n",
       "      <td>0</td>\n",
       "      <td>0</td>\n",
       "      <td>68.5</td>\n",
       "      <td>4</td>\n",
       "      <td>13926</td>\n",
       "      <td>362.55467</td>\n",
       "      <td>150.0</td>\n",
       "      <td>1</td>\n",
       "      <td>142.0</td>\n",
       "      <td>0</td>\n",
       "      <td>...</td>\n",
       "      <td>1.0</td>\n",
       "      <td>-1.0</td>\n",
       "      <td>1.0</td>\n",
       "      <td>1.0</td>\n",
       "      <td>1.0</td>\n",
       "      <td>1.0</td>\n",
       "      <td>1.0</td>\n",
       "      <td>1.0</td>\n",
       "      <td>1.0</td>\n",
       "      <td>1</td>\n",
       "    </tr>\n",
       "    <tr>\n",
       "      <td>1</td>\n",
       "      <td>1</td>\n",
       "      <td>0</td>\n",
       "      <td>29.0</td>\n",
       "      <td>4</td>\n",
       "      <td>2755</td>\n",
       "      <td>404.00000</td>\n",
       "      <td>150.0</td>\n",
       "      <td>2</td>\n",
       "      <td>102.0</td>\n",
       "      <td>0</td>\n",
       "      <td>...</td>\n",
       "      <td>1.0</td>\n",
       "      <td>-1.0</td>\n",
       "      <td>1.0</td>\n",
       "      <td>1.0</td>\n",
       "      <td>1.0</td>\n",
       "      <td>1.0</td>\n",
       "      <td>1.0</td>\n",
       "      <td>1.0</td>\n",
       "      <td>1.0</td>\n",
       "      <td>0</td>\n",
       "    </tr>\n",
       "    <tr>\n",
       "      <td>2</td>\n",
       "      <td>2</td>\n",
       "      <td>0</td>\n",
       "      <td>59.0</td>\n",
       "      <td>4</td>\n",
       "      <td>4663</td>\n",
       "      <td>490.00000</td>\n",
       "      <td>150.0</td>\n",
       "      <td>3</td>\n",
       "      <td>166.0</td>\n",
       "      <td>1</td>\n",
       "      <td>...</td>\n",
       "      <td>1.0</td>\n",
       "      <td>0.0</td>\n",
       "      <td>4.0</td>\n",
       "      <td>1.0</td>\n",
       "      <td>2.0</td>\n",
       "      <td>1.0</td>\n",
       "      <td>1.0</td>\n",
       "      <td>2.0</td>\n",
       "      <td>1.0</td>\n",
       "      <td>1</td>\n",
       "    </tr>\n",
       "    <tr>\n",
       "      <td>3</td>\n",
       "      <td>3</td>\n",
       "      <td>0</td>\n",
       "      <td>50.0</td>\n",
       "      <td>4</td>\n",
       "      <td>18132</td>\n",
       "      <td>567.00000</td>\n",
       "      <td>150.0</td>\n",
       "      <td>2</td>\n",
       "      <td>117.0</td>\n",
       "      <td>1</td>\n",
       "      <td>...</td>\n",
       "      <td>1.0</td>\n",
       "      <td>0.0</td>\n",
       "      <td>23.0</td>\n",
       "      <td>1.0</td>\n",
       "      <td>82.0</td>\n",
       "      <td>10.0</td>\n",
       "      <td>9.0</td>\n",
       "      <td>81.0</td>\n",
       "      <td>10.0</td>\n",
       "      <td>0</td>\n",
       "    </tr>\n",
       "    <tr>\n",
       "      <td>4</td>\n",
       "      <td>4</td>\n",
       "      <td>0</td>\n",
       "      <td>50.0</td>\n",
       "      <td>1</td>\n",
       "      <td>4497</td>\n",
       "      <td>514.00000</td>\n",
       "      <td>150.0</td>\n",
       "      <td>2</td>\n",
       "      <td>102.0</td>\n",
       "      <td>0</td>\n",
       "      <td>...</td>\n",
       "      <td>1.0</td>\n",
       "      <td>-1.0</td>\n",
       "      <td>1.0</td>\n",
       "      <td>1.0</td>\n",
       "      <td>1.0</td>\n",
       "      <td>1.0</td>\n",
       "      <td>1.0</td>\n",
       "      <td>1.0</td>\n",
       "      <td>1.0</td>\n",
       "      <td>1</td>\n",
       "    </tr>\n",
       "  </tbody>\n",
       "</table>\n",
       "<p>5 rows × 137 columns</p>\n",
       "</div>"
      ],
      "text/plain": [
       "   Unnamed: 0  isFraud  TransactionAmt  ProductCD  card1      card2  card3  \\\n",
       "0           0        0            68.5          4  13926  362.55467  150.0   \n",
       "1           1        0            29.0          4   2755  404.00000  150.0   \n",
       "2           2        0            59.0          4   4663  490.00000  150.0   \n",
       "3           3        0            50.0          4  18132  567.00000  150.0   \n",
       "4           4        0            50.0          1   4497  514.00000  150.0   \n",
       "\n",
       "   card4  card5  card6  ...  uid_dist1_ct  C14_uid_std  uid_C13_ct  \\\n",
       "0      1  142.0      0  ...           1.0         -1.0         1.0   \n",
       "1      2  102.0      0  ...           1.0         -1.0         1.0   \n",
       "2      3  166.0      1  ...           1.0          0.0         4.0   \n",
       "3      2  117.0      1  ...           1.0          0.0        23.0   \n",
       "4      2  102.0      0  ...           1.0         -1.0         1.0   \n",
       "\n",
       "   uid_V314_ct  uid_V127_ct  uid_V136_ct  uid_V309_ct  uid_V307_ct  \\\n",
       "0          1.0          1.0          1.0          1.0          1.0   \n",
       "1          1.0          1.0          1.0          1.0          1.0   \n",
       "2          1.0          2.0          1.0          1.0          2.0   \n",
       "3          1.0         82.0         10.0          9.0         81.0   \n",
       "4          1.0          1.0          1.0          1.0          1.0   \n",
       "\n",
       "   uid_V320_ct  outsider15  \n",
       "0          1.0           1  \n",
       "1          1.0           0  \n",
       "2          1.0           1  \n",
       "3         10.0           0  \n",
       "4          1.0           1  \n",
       "\n",
       "[5 rows x 137 columns]"
      ]
     },
     "execution_count": 16,
     "metadata": {},
     "output_type": "execute_result"
    }
   ],
   "source": [
    "train.head()"
   ]
  },
  {
   "cell_type": "code",
   "execution_count": 21,
   "metadata": {
    "collapsed": true
   },
   "outputs": [],
   "source": [
    "train.drop(['uid'],axis=1,inplace=True)\n",
    "test.drop(['uid'],axis=1,inplace=True)"
   ]
  },
  {
   "cell_type": "code",
   "execution_count": 22,
   "metadata": {
    "collapsed": true
   },
   "outputs": [],
   "source": [
    "train_mod = train[:413357]\n",
    "cv_mod = train[413357:]\n",
    "x_train = train_mod.drop(['isFraud','Unnamed: 0'],axis=1)\n",
    "y_train = train_mod['isFraud']\n",
    "x_cv = cv_mod.drop(['isFraud','Unnamed: 0'],axis=1)\n",
    "y_cv = cv_mod['isFraud']"
   ]
  },
  {
   "cell_type": "code",
   "execution_count": 14,
   "metadata": {
    "collapsed": true
   },
   "outputs": [],
   "source": []
  },
  {
   "cell_type": "code",
   "execution_count": 19,
   "metadata": {},
   "outputs": [
    {
     "name": "stdout",
     "output_type": "stream",
     "text": [
      "For esti: 500 depth: 3\n",
      "train auc: 0.840371455182011\n",
      "cv auc: 0.8255653394978605\n",
      "------------------------------\n",
      "For esti: 500 depth: 5\n",
      "train auc: 0.8789445644980245\n",
      "cv auc: 0.8550543372463031\n",
      "------------------------------\n",
      "For esti: 500 depth: 7\n",
      "train auc: 0.9069475070633733\n",
      "cv auc: 0.8749385807705842\n",
      "------------------------------\n",
      "For esti: 500 depth: 9\n",
      "train auc: 0.9349385901708334\n",
      "cv auc: 0.8919690569244672\n",
      "------------------------------\n",
      "For esti: 500 depth: 11\n",
      "train auc: 0.96211344328426\n",
      "cv auc: 0.9071702030244065\n",
      "------------------------------\n",
      "For esti: 500 depth: 13\n",
      "train auc: 0.983023172622354\n",
      "cv auc: 0.9150560283307962\n",
      "------------------------------\n",
      "For esti: 700 depth: 3\n",
      "train auc: 0.8400948116793164\n",
      "cv auc: 0.8253034595755989\n",
      "------------------------------\n",
      "For esti: 700 depth: 5\n",
      "train auc: 0.8790162096008329\n",
      "cv auc: 0.8549345986317395\n",
      "------------------------------\n",
      "For esti: 700 depth: 7\n",
      "train auc: 0.9068803401190453\n",
      "cv auc: 0.8748701593869808\n",
      "------------------------------\n",
      "For esti: 700 depth: 9\n",
      "train auc: 0.9354555815762645\n",
      "cv auc: 0.8936060668073836\n",
      "------------------------------\n",
      "For esti: 700 depth: 11\n",
      "train auc: 0.9622992092917579\n",
      "cv auc: 0.9065158139429988\n",
      "------------------------------\n",
      "For esti: 700 depth: 13\n",
      "train auc: 0.9830064659151433\n",
      "cv auc: 0.9160896040902957\n",
      "------------------------------\n",
      "For esti: 900 depth: 3\n",
      "train auc: 0.840300717973683\n",
      "cv auc: 0.8267386609813516\n",
      "------------------------------\n",
      "For esti: 900 depth: 5\n",
      "train auc: 0.8792740653448725\n",
      "cv auc: 0.8551689543997849\n",
      "------------------------------\n",
      "For esti: 900 depth: 7\n",
      "train auc: 0.9073713429587333\n",
      "cv auc: 0.8761728104113146\n",
      "------------------------------\n",
      "For esti: 900 depth: 9\n",
      "train auc: 0.935331796010649\n",
      "cv auc: 0.8930890355031089\n",
      "------------------------------\n",
      "For esti: 900 depth: 11\n",
      "train auc: 0.9623645683808533\n",
      "cv auc: 0.9063919251789379\n",
      "------------------------------\n",
      "For esti: 900 depth: 13\n",
      "train auc: 0.9831605897993133\n",
      "cv auc: 0.9147615447958999\n",
      "------------------------------\n",
      "For esti: 1000 depth: 3\n",
      "train auc: 0.8410504384017722\n",
      "cv auc: 0.8270315135719316\n",
      "------------------------------\n",
      "For esti: 1000 depth: 5\n",
      "train auc: 0.8790505453974127\n",
      "cv auc: 0.8554475203572708\n",
      "------------------------------\n",
      "For esti: 1000 depth: 7\n",
      "train auc: 0.9073474708875038\n",
      "cv auc: 0.8754076712852492\n",
      "------------------------------\n",
      "For esti: 1000 depth: 9\n",
      "train auc: 0.9353094704990331\n",
      "cv auc: 0.8936831116241057\n",
      "------------------------------\n",
      "For esti: 1000 depth: 11\n",
      "train auc: 0.9626084695590627\n",
      "cv auc: 0.9066694740037523\n",
      "------------------------------\n",
      "For esti: 1000 depth: 13\n",
      "train auc: 0.9829289832267463\n",
      "cv auc: 0.9152535458540807\n",
      "------------------------------\n"
     ]
    }
   ],
   "source": [
    "train_auc=[]\n",
    "cv_auc=[]\n",
    "for i in [500,700,900,1000]:\n",
    "    for j in [3,5,7,9,11,13]:\n",
    "        print('For esti:',i,'depth:',j)\n",
    "        clf = RandomForestClassifier(n_estimators=i,max_depth=j,class_weight='balanced',n_jobs=-1)\n",
    "        clf.fit(x_train,y_train)\n",
    "        y_trainpred=clf.predict_proba(x_train)\n",
    "        y_cvpred = clf.predict_proba(x_cv)\n",
    "        print('train auc:',roc_auc_score(y_train,y_trainpred[:,1]))\n",
    "        print('cv auc:',roc_auc_score(y_cv,y_cvpred[:,1]))\n",
    "        train_auc.append(roc_auc_score(y_train,y_trainpred[:,1]))\n",
    "        cv_auc.append(roc_auc_score(y_cv,y_cvpred[:,1]))\n",
    "        print('-'*30)"
   ]
  },
  {
   "cell_type": "code",
   "execution_count": 22,
   "metadata": {},
   "outputs": [
    {
     "data": {
      "text/plain": [
       "(array([ 0,  1,  2,  3,  4,  5,  6,  7,  8,  9, 10, 11, 12, 13, 14, 15, 16,\n",
       "        17, 18, 19, 20, 21, 22, 23, 24, 25, 26, 27, 28, 29, 30, 31, 32, 33,\n",
       "        34, 35, 36, 37, 38, 39, 40, 41, 42, 43, 44, 45, 46, 47, 48, 49]),\n",
       " <a list of 50 Text xticklabel objects>)"
      ]
     },
     "execution_count": 22,
     "metadata": {},
     "output_type": "execute_result"
    },
    {
     "data": {
      "image/png": "[encoded data removed]",
      "text/plain": [
       "<Figure size 720x864 with 1 Axes>"
      ]
     },
     "metadata": {},
     "output_type": "display_data"
    }
   ],
   "source": [
    "features = x_train.columns\n",
    "importances = clf.feature_importances_\n",
    "indices = (np.argsort(importances))[-50:]\n",
    "plt.figure(figsize=(10,12))\n",
    "plt.title('Feature Importances')\n",
    "plt.bar(range(len(indices)), importances[indices], align='center')\n",
    "plt.xticks(range(len(indices)), [features[i] for i in indices])\n",
    "plt.xlabel('Relative importance')\n",
    "plt.xticks(rotation=90)"
   ]
  },
  {
   "cell_type": "code",
   "execution_count": 20,
   "metadata": {
    "collapsed": true
   },
   "outputs": [],
   "source": [
    "lgb_params = {\n",
    "                    'objective':'binary',\n",
    "                    'boosting_type':'gbdt',\n",
    "                    'metric':'auc',\n",
    "                    'n_jobs':-1,\n",
    "                    'learning_rate':0.01,\n",
    "                    'num_leaves': 2**8,\n",
    "                    'max_depth':-1,\n",
    "                    'tree_learner':'serial',\n",
    "                    'colsample_bytree': 0.7,\n",
    "                    'subsample_freq':1,\n",
    "                    'subsample':0.7,\n",
    "                    'n_estimators':800,\n",
    "                    'max_bin':255,\n",
    "                    'verbose':-1,\n",
    "                    'early_stopping_rounds':100, \n",
    "                } "
   ]
  },
  {
   "cell_type": "code",
   "execution_count": 21,
   "metadata": {},
   "outputs": [
    {
     "name": "stdout",
     "output_type": "stream",
     "text": [
      "Training until validation scores don't improve for 100 rounds.\n",
      "[200]\ttraining's auc: 0.976256\tvalid_1's auc: 0.923851\n",
      "[400]\ttraining's auc: 0.994293\tvalid_1's auc: 0.935921\n",
      "[600]\ttraining's auc: 0.998772\tvalid_1's auc: 0.939266\n",
      "Early stopping, best iteration is:\n",
      "[649]\ttraining's auc: 0.999137\tvalid_1's auc: 0.939546\n"
     ]
    }
   ],
   "source": [
    "import lightgbm as lgb"
   ]
  },
  {
   "cell_type": "code",
   "execution_count": 23,
   "metadata": {
    "collapsed": true
   },
   "outputs": [],
   "source": [
    "clf = LGBMClassifier(objective='binary',\n",
    "                    boosting_type='gbdt',\n",
    "                    metric='auc',\n",
    "                    n_jobs=-1,\n",
    "                    learning_rate=0.01,\n",
    "                    num_leaves= 2**8,\n",
    "                    max_depth=-1,\n",
    "                    tree_learner='serial',\n",
    "                    colsample_bytree= 0.7,\n",
    "                    subsample_freq=1,\n",
    "                    subsample=0.7,\n",
    "                    n_estimators=800,\n",
    "                    max_bin=255,\n",
    "                    verbose=-1)"
   ]
  },
  {
   "cell_type": "code",
   "execution_count": 24,
   "metadata": {},
   "outputs": [
    {
     "data": {
      "text/plain": [
       "LGBMClassifier(boosting_type='gbdt', class_weight=None, colsample_bytree=0.7,\n",
       "               importance_type='split', learning_rate=0.01, max_bin=255,\n",
       "               max_depth=-1, metric='auc', min_child_samples=20,\n",
       "               min_child_weight=0.001, min_split_gain=0.0, n_estimators=800,\n",
       "               n_jobs=-1, num_leaves=256, objective='binary', random_state=None,\n",
       "               reg_alpha=0.0, reg_lambda=0.0, silent=True, subsample=0.7,\n",
       "               subsample_for_bin=200000, subsample_freq=1,\n",
       "               tree_learner='serial', verbose=-1)"
      ]
     },
     "execution_count": 24,
     "metadata": {},
     "output_type": "execute_result"
    }
   ],
   "source": [
    "clf.fit(x_train,y_train)"
   ]
  },
  {
   "cell_type": "code",
   "execution_count": 25,
   "metadata": {
    "collapsed": true
   },
   "outputs": [],
   "source": [
    "test.drop(['Unnamed: 0'],axis=1,inplace=True)"
   ]
  },
  {
   "cell_type": "markdown",
   "metadata": {},
   "source": [
    "- Using magic feature we got auc in RandomForest from 87% to 91%.\n",
    "- And LGBM in with hyperparameter tunning we got auc in 94%.\n",
    "- Using feature importance of Random Forest the newly added feature have much more high importance."
   ]
  },
  {
   "cell_type": "code",
   "execution_count": 22,
   "metadata": {},
   "outputs": [
    {
     "data": {
      "text/html": [
       "<div>\n",
       "<style scoped>\n",
       "    .dataframe tbody tr th:only-of-type {\n",
       "        vertical-align: middle;\n",
       "    }\n",
       "\n",
       "    .dataframe tbody tr th {\n",
       "        vertical-align: top;\n",
       "    }\n",
       "\n",
       "    .dataframe thead th {\n",
       "        text-align: right;\n",
       "    }\n",
       "</style>\n",
       "<table border=\"1\" class=\"dataframe\">\n",
       "  <thead>\n",
       "    <tr style=\"text-align: right;\">\n",
       "      <th></th>\n",
       "      <th>TransactionDT</th>\n",
       "      <th>TransactionAmt</th>\n",
       "      <th>ProductCD</th>\n",
       "      <th>card1</th>\n",
       "      <th>card2</th>\n",
       "      <th>card3</th>\n",
       "      <th>card4</th>\n",
       "      <th>card5</th>\n",
       "      <th>card6</th>\n",
       "      <th>addr1</th>\n",
       "      <th>...</th>\n",
       "      <th>uid_dist1_ct</th>\n",
       "      <th>C14_uid_std</th>\n",
       "      <th>uid_C13_ct</th>\n",
       "      <th>uid_V314_ct</th>\n",
       "      <th>uid_V127_ct</th>\n",
       "      <th>uid_V136_ct</th>\n",
       "      <th>uid_V309_ct</th>\n",
       "      <th>uid_V307_ct</th>\n",
       "      <th>uid_V320_ct</th>\n",
       "      <th>outsider15</th>\n",
       "    </tr>\n",
       "  </thead>\n",
       "  <tbody>\n",
       "    <tr>\n",
       "      <td>0</td>\n",
       "      <td>86400</td>\n",
       "      <td>68.5</td>\n",
       "      <td>4</td>\n",
       "      <td>13926</td>\n",
       "      <td>362.55467</td>\n",
       "      <td>150.0</td>\n",
       "      <td>1</td>\n",
       "      <td>142.0</td>\n",
       "      <td>0</td>\n",
       "      <td>315.0</td>\n",
       "      <td>...</td>\n",
       "      <td>1.0</td>\n",
       "      <td>-1.0</td>\n",
       "      <td>1.0</td>\n",
       "      <td>1.0</td>\n",
       "      <td>1.0</td>\n",
       "      <td>1.0</td>\n",
       "      <td>1.0</td>\n",
       "      <td>1.0</td>\n",
       "      <td>1.0</td>\n",
       "      <td>1</td>\n",
       "    </tr>\n",
       "    <tr>\n",
       "      <td>1</td>\n",
       "      <td>86401</td>\n",
       "      <td>29.0</td>\n",
       "      <td>4</td>\n",
       "      <td>2755</td>\n",
       "      <td>404.00000</td>\n",
       "      <td>150.0</td>\n",
       "      <td>2</td>\n",
       "      <td>102.0</td>\n",
       "      <td>0</td>\n",
       "      <td>325.0</td>\n",
       "      <td>...</td>\n",
       "      <td>1.0</td>\n",
       "      <td>-1.0</td>\n",
       "      <td>1.0</td>\n",
       "      <td>1.0</td>\n",
       "      <td>1.0</td>\n",
       "      <td>1.0</td>\n",
       "      <td>1.0</td>\n",
       "      <td>1.0</td>\n",
       "      <td>1.0</td>\n",
       "      <td>0</td>\n",
       "    </tr>\n",
       "    <tr>\n",
       "      <td>2</td>\n",
       "      <td>86469</td>\n",
       "      <td>59.0</td>\n",
       "      <td>4</td>\n",
       "      <td>4663</td>\n",
       "      <td>490.00000</td>\n",
       "      <td>150.0</td>\n",
       "      <td>3</td>\n",
       "      <td>166.0</td>\n",
       "      <td>1</td>\n",
       "      <td>330.0</td>\n",
       "      <td>...</td>\n",
       "      <td>1.0</td>\n",
       "      <td>0.0</td>\n",
       "      <td>4.0</td>\n",
       "      <td>1.0</td>\n",
       "      <td>2.0</td>\n",
       "      <td>1.0</td>\n",
       "      <td>1.0</td>\n",
       "      <td>2.0</td>\n",
       "      <td>1.0</td>\n",
       "      <td>1</td>\n",
       "    </tr>\n",
       "    <tr>\n",
       "      <td>3</td>\n",
       "      <td>86499</td>\n",
       "      <td>50.0</td>\n",
       "      <td>4</td>\n",
       "      <td>18132</td>\n",
       "      <td>567.00000</td>\n",
       "      <td>150.0</td>\n",
       "      <td>2</td>\n",
       "      <td>117.0</td>\n",
       "      <td>1</td>\n",
       "      <td>476.0</td>\n",
       "      <td>...</td>\n",
       "      <td>1.0</td>\n",
       "      <td>0.0</td>\n",
       "      <td>23.0</td>\n",
       "      <td>1.0</td>\n",
       "      <td>82.0</td>\n",
       "      <td>10.0</td>\n",
       "      <td>9.0</td>\n",
       "      <td>81.0</td>\n",
       "      <td>10.0</td>\n",
       "      <td>0</td>\n",
       "    </tr>\n",
       "    <tr>\n",
       "      <td>4</td>\n",
       "      <td>86506</td>\n",
       "      <td>50.0</td>\n",
       "      <td>1</td>\n",
       "      <td>4497</td>\n",
       "      <td>514.00000</td>\n",
       "      <td>150.0</td>\n",
       "      <td>2</td>\n",
       "      <td>102.0</td>\n",
       "      <td>0</td>\n",
       "      <td>420.0</td>\n",
       "      <td>...</td>\n",
       "      <td>1.0</td>\n",
       "      <td>-1.0</td>\n",
       "      <td>1.0</td>\n",
       "      <td>1.0</td>\n",
       "      <td>1.0</td>\n",
       "      <td>1.0</td>\n",
       "      <td>1.0</td>\n",
       "      <td>1.0</td>\n",
       "      <td>1.0</td>\n",
       "      <td>1</td>\n",
       "    </tr>\n",
       "  </tbody>\n",
       "</table>\n",
       "<p>5 rows × 135 columns</p>\n",
       "</div>"
      ],
      "text/plain": [
       "   TransactionDT  TransactionAmt  ProductCD  card1      card2  card3  card4  \\\n",
       "0          86400            68.5          4  13926  362.55467  150.0      1   \n",
       "1          86401            29.0          4   2755  404.00000  150.0      2   \n",
       "2          86469            59.0          4   4663  490.00000  150.0      3   \n",
       "3          86499            50.0          4  18132  567.00000  150.0      2   \n",
       "4          86506            50.0          1   4497  514.00000  150.0      2   \n",
       "\n",
       "   card5  card6  addr1  ...  uid_dist1_ct  C14_uid_std  uid_C13_ct  \\\n",
       "0  142.0      0  315.0  ...           1.0         -1.0         1.0   \n",
       "1  102.0      0  325.0  ...           1.0         -1.0         1.0   \n",
       "2  166.0      1  330.0  ...           1.0          0.0         4.0   \n",
       "3  117.0      1  476.0  ...           1.0          0.0        23.0   \n",
       "4  102.0      0  420.0  ...           1.0         -1.0         1.0   \n",
       "\n",
       "   uid_V314_ct  uid_V127_ct  uid_V136_ct  uid_V309_ct  uid_V307_ct  \\\n",
       "0          1.0          1.0          1.0          1.0          1.0   \n",
       "1          1.0          1.0          1.0          1.0          1.0   \n",
       "2          1.0          2.0          1.0          1.0          2.0   \n",
       "3          1.0         82.0         10.0          9.0         81.0   \n",
       "4          1.0          1.0          1.0          1.0          1.0   \n",
       "\n",
       "   uid_V320_ct  outsider15  \n",
       "0          1.0           1  \n",
       "1          1.0           0  \n",
       "2          1.0           1  \n",
       "3         10.0           0  \n",
       "4          1.0           1  \n",
       "\n",
       "[5 rows x 135 columns]"
      ]
     },
     "execution_count": 22,
     "metadata": {},
     "output_type": "execute_result"
    }
   ],
   "source": [
    "x_train.head()"
   ]
  },
  {
   "cell_type": "code",
   "execution_count": 26,
   "metadata": {},
   "outputs": [],
   "source": [
    "predict_ytest = clf.predict_proba(test)"
   ]
  },
  {
   "cell_type": "code",
   "execution_count": 26,
   "metadata": {},
   "outputs": [
    {
     "data": {
      "text/plain": [
       "(506691, 136)"
      ]
     },
     "execution_count": 26,
     "metadata": {},
     "output_type": "execute_result"
    }
   ],
   "source": [
    "test.shape"
   ]
  },
  {
   "cell_type": "code",
   "execution_count": 27,
   "metadata": {},
   "outputs": [
    {
     "data": {
      "text/plain": [
       "(413357, 135)"
      ]
     },
     "execution_count": 27,
     "metadata": {},
     "output_type": "execute_result"
    }
   ],
   "source": [
    "x_train.shape"
   ]
  },
  {
   "cell_type": "code",
   "execution_count": 27,
   "metadata": {
    "collapsed": true
   },
   "outputs": [],
   "source": [
    "sol = pd.DataFrame(columns=['TransactionID','isFraud'])\n",
    "transaction = pd.read_csv(r'test_transaction.csv/test_transaction.csv')\n",
    "sol['TransactionID'] = transaction['TransactionID']\n",
    "sol['isFraud']=predict_ytest[:,1]\n",
    "sol.to_csv('finalPart.csv',index=False)"
   ]
  },
  {
   "cell_type": "code",
   "execution_count": null,
   "metadata": {
    "collapsed": true
   },
   "outputs": [],
   "source": []
  }
 ],
 "metadata": {
  "kernelspec": {
   "display_name": "Python 3",
   "language": "python",
   "name": "python3"
  },
  "language_info": {
   "codemirror_mode": {
    "name": "ipython",
    "version": 3
   },
   "file_extension": ".py",
   "mimetype": "text/x-python",
   "name": "python",
   "nbconvert_exporter": "python",
   "pygments_lexer": "ipython3",
   "version": "3.6.3"
  }
 },
 "nbformat": 4,
 "nbformat_minor": 2
}
